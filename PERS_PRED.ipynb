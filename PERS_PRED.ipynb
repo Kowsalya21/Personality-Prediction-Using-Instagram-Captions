{
 "cells": [
  {
   "cell_type": "code",
   "execution_count": 1,
   "metadata": {},
   "outputs": [],
   "source": [
    "import pandas as pd\n",
    "import numpy as np\n",
    "import string\n",
    "from nltk.stem import WordNetLemmatizer\n",
    "from nltk.corpus import stopwords"
   ]
  },
  {
   "cell_type": "code",
   "execution_count": 2,
   "metadata": {},
   "outputs": [],
   "source": [
    "import matplotlib.pyplot as plt \n",
    "%matplotlib inline\n",
    "import seaborn as sns"
   ]
  },
  {
   "cell_type": "code",
   "execution_count": 3,
   "metadata": {},
   "outputs": [],
   "source": [
    "# Model Building\n",
    "\n",
    "    #classifiers\n",
    "from sklearn.linear_model import LogisticRegression\n",
    "\n",
    "    #vectorizers\n",
    "from sklearn.feature_extraction.text import TfidfVectorizer\n",
    "\n",
    "    #training features\n",
    "from sklearn.model_selection import cross_val_score, train_test_split\n",
    "from sklearn.model_selection import GridSearchCV\n",
    "\n",
    "    #performance measures\n",
    "from sklearn.metrics import accuracy_score,log_loss\n",
    "from sklearn.metrics import classification_report, confusion_matrix\n",
    "from sklearn.metrics import make_scorer\n"
   ]
  },
  {
   "cell_type": "code",
   "execution_count": 4,
   "metadata": {},
   "outputs": [],
   "source": [
    "#filter future warnings\n",
    "import warnings\n",
    "warnings.simplefilter(action='ignore', category=FutureWarning)"
   ]
  },
  {
   "cell_type": "code",
   "execution_count": 5,
   "metadata": {},
   "outputs": [],
   "source": [
    "train = pd.read_csv('train.csv')\n",
    "test = pd.read_csv('test.csv')"
   ]
  },
  {
   "cell_type": "code",
   "execution_count": 6,
   "metadata": {},
   "outputs": [
    {
     "data": {
      "text/html": [
       "<div>\n",
       "<style scoped>\n",
       "    .dataframe tbody tr th:only-of-type {\n",
       "        vertical-align: middle;\n",
       "    }\n",
       "\n",
       "    .dataframe tbody tr th {\n",
       "        vertical-align: top;\n",
       "    }\n",
       "\n",
       "    .dataframe thead th {\n",
       "        text-align: right;\n",
       "    }\n",
       "</style>\n",
       "<table border=\"1\" class=\"dataframe\">\n",
       "  <thead>\n",
       "    <tr style=\"text-align: right;\">\n",
       "      <th></th>\n",
       "      <th>type</th>\n",
       "      <th>posts</th>\n",
       "    </tr>\n",
       "  </thead>\n",
       "  <tbody>\n",
       "    <tr>\n",
       "      <th>0</th>\n",
       "      <td>INFJ</td>\n",
       "      <td>'http://www.youtube.com/watch?v=qsXHcwe3krw|||...</td>\n",
       "    </tr>\n",
       "    <tr>\n",
       "      <th>1</th>\n",
       "      <td>ENTP</td>\n",
       "      <td>'I'm finding the lack of me in these posts ver...</td>\n",
       "    </tr>\n",
       "    <tr>\n",
       "      <th>2</th>\n",
       "      <td>INTP</td>\n",
       "      <td>'Good one  _____   https://www.youtube.com/wat...</td>\n",
       "    </tr>\n",
       "    <tr>\n",
       "      <th>3</th>\n",
       "      <td>INTJ</td>\n",
       "      <td>'Dear INTP,   I enjoyed our conversation the o...</td>\n",
       "    </tr>\n",
       "    <tr>\n",
       "      <th>4</th>\n",
       "      <td>ENTJ</td>\n",
       "      <td>'You're fired.|||That's another silly misconce...</td>\n",
       "    </tr>\n",
       "  </tbody>\n",
       "</table>\n",
       "</div>"
      ],
      "text/plain": [
       "   type                                              posts\n",
       "0  INFJ  'http://www.youtube.com/watch?v=qsXHcwe3krw|||...\n",
       "1  ENTP  'I'm finding the lack of me in these posts ver...\n",
       "2  INTP  'Good one  _____   https://www.youtube.com/wat...\n",
       "3  INTJ  'Dear INTP,   I enjoyed our conversation the o...\n",
       "4  ENTJ  'You're fired.|||That's another silly misconce..."
      ]
     },
     "execution_count": 6,
     "metadata": {},
     "output_type": "execute_result"
    }
   ],
   "source": [
    "# Exploratory Data Analysis (EDA)\n",
    "train.head()"
   ]
  },
  {
   "cell_type": "code",
   "execution_count": 7,
   "metadata": {},
   "outputs": [
    {
     "data": {
      "text/html": [
       "<div>\n",
       "<style scoped>\n",
       "    .dataframe tbody tr th:only-of-type {\n",
       "        vertical-align: middle;\n",
       "    }\n",
       "\n",
       "    .dataframe tbody tr th {\n",
       "        vertical-align: top;\n",
       "    }\n",
       "\n",
       "    .dataframe thead th {\n",
       "        text-align: right;\n",
       "    }\n",
       "</style>\n",
       "<table border=\"1\" class=\"dataframe\">\n",
       "  <thead>\n",
       "    <tr style=\"text-align: right;\">\n",
       "      <th></th>\n",
       "      <th>username</th>\n",
       "      <th>description</th>\n",
       "    </tr>\n",
       "  </thead>\n",
       "  <tbody>\n",
       "    <tr>\n",
       "      <th>0</th>\n",
       "      <td>_.anju.u</td>\n",
       "      <td>I used to make up songs all the time just beca...</td>\n",
       "    </tr>\n",
       "    <tr>\n",
       "      <th>1</th>\n",
       "      <td>__.tickled_pink.__</td>\n",
       "      <td>cant win unless you learn how to lose||| From ...</td>\n",
       "    </tr>\n",
       "    <tr>\n",
       "      <th>2</th>\n",
       "      <td>_anugrahanair_</td>\n",
       "      <td>you do not find the happy life, you make it ||...</td>\n",
       "    </tr>\n",
       "    <tr>\n",
       "      <th>3</th>\n",
       "      <td>_charuzz_</td>\n",
       "      <td>stop staring, it's our body  womenempowerment ...</td>\n",
       "    </tr>\n",
       "    <tr>\n",
       "      <th>4</th>\n",
       "      <td>_gaayu___</td>\n",
       "      <td>Freedom lies in being bold. ||| be somebody th...</td>\n",
       "    </tr>\n",
       "  </tbody>\n",
       "</table>\n",
       "</div>"
      ],
      "text/plain": [
       "             username                                        description\n",
       "0            _.anju.u  I used to make up songs all the time just beca...\n",
       "1  __.tickled_pink.__  cant win unless you learn how to lose||| From ...\n",
       "2      _anugrahanair_  you do not find the happy life, you make it ||...\n",
       "3           _charuzz_  stop staring, it's our body  womenempowerment ...\n",
       "4           _gaayu___  Freedom lies in being bold. ||| be somebody th..."
      ]
     },
     "execution_count": 7,
     "metadata": {},
     "output_type": "execute_result"
    }
   ],
   "source": [
    "test.head()"
   ]
  },
  {
   "cell_type": "code",
   "execution_count": 8,
   "metadata": {},
   "outputs": [
    {
     "name": "stdout",
     "output_type": "stream",
     "text": [
      "Number of rows and columns in train data:(8675, 2)\n",
      "Number of rows and columns in test data:(150, 2)\n"
     ]
    }
   ],
   "source": [
    "print('Number of rows and columns in train data:{}' .format(train.shape))\n",
    "print('Number of rows and columns in test data:{}' .format(test.shape))"
   ]
  },
  {
   "cell_type": "code",
   "execution_count": 9,
   "metadata": {},
   "outputs": [
    {
     "name": "stdout",
     "output_type": "stream",
     "text": [
      "TRAINING DATASET: \n"
     ]
    },
    {
     "data": {
      "text/plain": [
       "type     0\n",
       "posts    0\n",
       "dtype: int64"
      ]
     },
     "execution_count": 9,
     "metadata": {},
     "output_type": "execute_result"
    }
   ],
   "source": [
    "# Is there any missing data in any of the columns?\n",
    "print(\"TRAINING DATASET: \")\n",
    "train.isnull().sum()\n"
   ]
  },
  {
   "cell_type": "code",
   "execution_count": 10,
   "metadata": {},
   "outputs": [
    {
     "name": "stdout",
     "output_type": "stream",
     "text": [
      "TEST DATASET: \n"
     ]
    },
    {
     "data": {
      "text/plain": [
       "username       0\n",
       "description    0\n",
       "dtype: int64"
      ]
     },
     "execution_count": 10,
     "metadata": {},
     "output_type": "execute_result"
    }
   ],
   "source": [
    "print(\"TEST DATASET: \")\n",
    "test.isnull().sum()"
   ]
  },
  {
   "cell_type": "code",
   "execution_count": 11,
   "metadata": {},
   "outputs": [
    {
     "data": {
      "text/html": [
       "<div>\n",
       "<style scoped>\n",
       "    .dataframe tbody tr th:only-of-type {\n",
       "        vertical-align: middle;\n",
       "    }\n",
       "\n",
       "    .dataframe tbody tr th {\n",
       "        vertical-align: top;\n",
       "    }\n",
       "\n",
       "    .dataframe thead th {\n",
       "        text-align: right;\n",
       "    }\n",
       "</style>\n",
       "<table border=\"1\" class=\"dataframe\">\n",
       "  <thead>\n",
       "    <tr style=\"text-align: right;\">\n",
       "      <th></th>\n",
       "      <th>posts</th>\n",
       "    </tr>\n",
       "    <tr>\n",
       "      <th>type</th>\n",
       "      <th></th>\n",
       "    </tr>\n",
       "  </thead>\n",
       "  <tbody>\n",
       "    <tr>\n",
       "      <th>INFP</th>\n",
       "      <td>1832</td>\n",
       "    </tr>\n",
       "    <tr>\n",
       "      <th>INFJ</th>\n",
       "      <td>1470</td>\n",
       "    </tr>\n",
       "    <tr>\n",
       "      <th>INTP</th>\n",
       "      <td>1304</td>\n",
       "    </tr>\n",
       "    <tr>\n",
       "      <th>INTJ</th>\n",
       "      <td>1091</td>\n",
       "    </tr>\n",
       "    <tr>\n",
       "      <th>ENTP</th>\n",
       "      <td>685</td>\n",
       "    </tr>\n",
       "    <tr>\n",
       "      <th>ENFP</th>\n",
       "      <td>675</td>\n",
       "    </tr>\n",
       "    <tr>\n",
       "      <th>ISTP</th>\n",
       "      <td>337</td>\n",
       "    </tr>\n",
       "    <tr>\n",
       "      <th>ISFP</th>\n",
       "      <td>271</td>\n",
       "    </tr>\n",
       "    <tr>\n",
       "      <th>ENTJ</th>\n",
       "      <td>231</td>\n",
       "    </tr>\n",
       "    <tr>\n",
       "      <th>ISTJ</th>\n",
       "      <td>205</td>\n",
       "    </tr>\n",
       "    <tr>\n",
       "      <th>ENFJ</th>\n",
       "      <td>190</td>\n",
       "    </tr>\n",
       "    <tr>\n",
       "      <th>ISFJ</th>\n",
       "      <td>166</td>\n",
       "    </tr>\n",
       "    <tr>\n",
       "      <th>ESTP</th>\n",
       "      <td>89</td>\n",
       "    </tr>\n",
       "    <tr>\n",
       "      <th>ESFP</th>\n",
       "      <td>48</td>\n",
       "    </tr>\n",
       "    <tr>\n",
       "      <th>ESFJ</th>\n",
       "      <td>42</td>\n",
       "    </tr>\n",
       "    <tr>\n",
       "      <th>ESTJ</th>\n",
       "      <td>39</td>\n",
       "    </tr>\n",
       "  </tbody>\n",
       "</table>\n",
       "</div>"
      ],
      "text/plain": [
       "      posts\n",
       "type       \n",
       "INFP   1832\n",
       "INFJ   1470\n",
       "INTP   1304\n",
       "INTJ   1091\n",
       "ENTP    685\n",
       "ENFP    675\n",
       "ISTP    337\n",
       "ISFP    271\n",
       "ENTJ    231\n",
       "ISTJ    205\n",
       "ENFJ    190\n",
       "ISFJ    166\n",
       "ESTP     89\n",
       "ESFP     48\n",
       "ESFJ     42\n",
       "ESTJ     39"
      ]
     },
     "execution_count": 11,
     "metadata": {},
     "output_type": "execute_result"
    }
   ],
   "source": [
    "# How many posts were written by each personality type?\n",
    "type_sum = train.groupby(['type']).count()\n",
    "type_sum.sort_values('posts', ascending=False, inplace=True)\n",
    "type_sum"
   ]
  },
  {
   "cell_type": "code",
   "execution_count": 12,
   "metadata": {},
   "outputs": [
    {
     "data": {
      "text/html": [
       "<div>\n",
       "<style scoped>\n",
       "    .dataframe tbody tr th:only-of-type {\n",
       "        vertical-align: middle;\n",
       "    }\n",
       "\n",
       "    .dataframe tbody tr th {\n",
       "        vertical-align: top;\n",
       "    }\n",
       "\n",
       "    .dataframe thead th {\n",
       "        text-align: right;\n",
       "    }\n",
       "</style>\n",
       "<table border=\"1\" class=\"dataframe\">\n",
       "  <thead>\n",
       "    <tr style=\"text-align: right;\">\n",
       "      <th></th>\n",
       "      <th>word_count</th>\n",
       "    </tr>\n",
       "    <tr>\n",
       "      <th>type</th>\n",
       "      <th></th>\n",
       "    </tr>\n",
       "  </thead>\n",
       "  <tbody>\n",
       "    <tr>\n",
       "      <th>INFP</th>\n",
       "      <td>2344092</td>\n",
       "    </tr>\n",
       "    <tr>\n",
       "      <th>INFJ</th>\n",
       "      <td>1933087</td>\n",
       "    </tr>\n",
       "    <tr>\n",
       "      <th>INTP</th>\n",
       "      <td>1606399</td>\n",
       "    </tr>\n",
       "    <tr>\n",
       "      <th>INTJ</th>\n",
       "      <td>1342152</td>\n",
       "    </tr>\n",
       "    <tr>\n",
       "      <th>ENFP</th>\n",
       "      <td>875068</td>\n",
       "    </tr>\n",
       "    <tr>\n",
       "      <th>ENTP</th>\n",
       "      <td>848096</td>\n",
       "    </tr>\n",
       "    <tr>\n",
       "      <th>ISTP</th>\n",
       "      <td>404603</td>\n",
       "    </tr>\n",
       "    <tr>\n",
       "      <th>ISFP</th>\n",
       "      <td>316137</td>\n",
       "    </tr>\n",
       "    <tr>\n",
       "      <th>ENTJ</th>\n",
       "      <td>290276</td>\n",
       "    </tr>\n",
       "    <tr>\n",
       "      <th>ISTJ</th>\n",
       "      <td>257235</td>\n",
       "    </tr>\n",
       "    <tr>\n",
       "      <th>ENFJ</th>\n",
       "      <td>251920</td>\n",
       "    </tr>\n",
       "    <tr>\n",
       "      <th>ISFJ</th>\n",
       "      <td>211714</td>\n",
       "    </tr>\n",
       "    <tr>\n",
       "      <th>ESTP</th>\n",
       "      <td>107072</td>\n",
       "    </tr>\n",
       "    <tr>\n",
       "      <th>ESFJ</th>\n",
       "      <td>55651</td>\n",
       "    </tr>\n",
       "    <tr>\n",
       "      <th>ESFP</th>\n",
       "      <td>49475</td>\n",
       "    </tr>\n",
       "    <tr>\n",
       "      <th>ESTJ</th>\n",
       "      <td>49248</td>\n",
       "    </tr>\n",
       "  </tbody>\n",
       "</table>\n",
       "</div>"
      ],
      "text/plain": [
       "      word_count\n",
       "type            \n",
       "INFP     2344092\n",
       "INFJ     1933087\n",
       "INTP     1606399\n",
       "INTJ     1342152\n",
       "ENFP      875068\n",
       "ENTP      848096\n",
       "ISTP      404603\n",
       "ISFP      316137\n",
       "ENTJ      290276\n",
       "ISTJ      257235\n",
       "ENFJ      251920\n",
       "ISFJ      211714\n",
       "ESTP      107072\n",
       "ESFJ       55651\n",
       "ESFP       49475\n",
       "ESTJ       49248"
      ]
     },
     "execution_count": 12,
     "metadata": {},
     "output_type": "execute_result"
    }
   ],
   "source": [
    "# How many total words were written by each personality type?\n",
    "train['word_count'] = train['posts'].apply(lambda x: len(str(x).split(\" \")))\n",
    "word_count = train.groupby('type').sum()\n",
    "word_count.sort_values('word_count', ascending=False, inplace=True)\n",
    "word_count\n"
   ]
  },
  {
   "cell_type": "code",
   "execution_count": 13,
   "metadata": {},
   "outputs": [],
   "source": [
    "#drop word_count column\n",
    "train = train.drop(['word_count'], axis=1)"
   ]
  },
  {
   "cell_type": "code",
   "execution_count": 14,
   "metadata": {},
   "outputs": [],
   "source": [
    "# Create a binary column for each of the 4 dimension types\n",
    "train['Mind'] = train['type'].map(lambda x: 'Extroverted' if x[0] == 'E' else 'Introverted')\n",
    "train['Energy'] = train['type'].map(lambda x: 'Intuitive' if x[1] == 'N' else 'Sensing')\n",
    "train['Nature'] = train['type'].map(lambda x: 'Thinking'  if x[2] == 'T' else 'Feeling')\n",
    "train['Tactics'] = train['type'].map(lambda x: 'Judging'  if x[3] == 'J' else 'Perceiving')"
   ]
  },
  {
   "cell_type": "code",
   "execution_count": 15,
   "metadata": {},
   "outputs": [
    {
     "data": {
      "image/png": "[encoded data removed]",
      "text/plain": [
       "<Figure size 432x288 with 1 Axes>"
      ]
     },
     "metadata": {
      "needs_background": "light"
     },
     "output_type": "display_data"
    }
   ],
   "source": [
    "# Mind\n",
    "# Countplot of the Introverted - Extroverted variable\n",
    "IEcolors = sns.xkcd_palette(['green', 'light green'])\n",
    "sns.set_palette(IEcolors)\n",
    "sns.countplot(x='Mind', data=train, order=['Introverted', 'Extroverted'])\n",
    "plt.ylim(0, 8000)\n",
    "plt.xticks(fontsize=12)\n",
    "plt.yticks(fontsize=12)\n",
    "plt.xlabel('Mind')\n",
    "plt.ylabel('Count of each Personality Type')\n",
    "plt.title('Introversion vs. Extroversion', fontsize=14)\n",
    "plt.show()"
   ]
  },
  {
   "cell_type": "code",
   "execution_count": 16,
   "metadata": {},
   "outputs": [
    {
     "data": {
      "image/png": "[encoded data removed]",
      "text/plain": [
       "<Figure size 432x288 with 1 Axes>"
      ]
     },
     "metadata": {
      "needs_background": "light"
     },
     "output_type": "display_data"
    }
   ],
   "source": [
    "# Countplot of the Intuitive - Sensing variable\n",
    "NScolors = sns.xkcd_palette(['blue', 'light blue'])\n",
    "sns.set_palette(NScolors)\n",
    "sns.countplot(x='Energy', data=train, order=['Intuitive', 'Sensing'])\n",
    "plt.title('Intuitive vs. Sensing', fontsize=14)\n",
    "plt.ylim(0, 8000)\n",
    "plt.xticks(fontsize=12)\n",
    "plt.yticks(fontsize=12)\n",
    "plt.show()"
   ]
  },
  {
   "cell_type": "code",
   "execution_count": 17,
   "metadata": {},
   "outputs": [
    {
     "data": {
      "image/png": "[encoded data removed]",
      "text/plain": [
       "<Figure size 432x288 with 1 Axes>"
      ]
     },
     "metadata": {
      "needs_background": "light"
     },
     "output_type": "display_data"
    }
   ],
   "source": [
    "# Countplot of the Thinking - Feeling variable\n",
    "TFcolors = sns.xkcd_palette(['orange', 'pale orange'])\n",
    "sns.set_palette(TFcolors)\n",
    "sns.countplot(x='Nature', data=train, order=['Thinking', 'Feeling'])\n",
    "plt.title('Thinking vs. Feeling', fontsize=14)\n",
    "plt.ylim(0, 8000)\n",
    "plt.xticks(fontsize=12)\n",
    "plt.yticks(fontsize=12)\n",
    "plt.show()\n"
   ]
  },
  {
   "cell_type": "code",
   "execution_count": 18,
   "metadata": {},
   "outputs": [
    {
     "data": {
      "image/png": "[encoded data removed]",
      "text/plain": [
       "<Figure size 432x288 with 1 Axes>"
      ]
     },
     "metadata": {
      "needs_background": "light"
     },
     "output_type": "display_data"
    }
   ],
   "source": [
    "# Countplot of Judging - Perceiving\n",
    "JPcolors = sns.xkcd_palette(['purple', 'lavender'])\n",
    "sns.set_palette(JPcolors)\n",
    "sns.countplot(x='Tactics', data=train, order=['Judging', 'Perceiving'])\n",
    "plt.title('Judging vs. Perceiving', fontsize=14)\n",
    "plt.ylim(0, 8000)\n",
    "plt.xticks(fontsize=12)\n",
    "plt.yticks(fontsize=12)\n",
    "plt.show()\n"
   ]
  },
  {
   "cell_type": "code",
   "execution_count": 19,
   "metadata": {},
   "outputs": [],
   "source": [
    "# Removing delimeters\n",
    "def remove_delimiters (post):\n",
    "    new = post.replace('|||',' ')\n",
    "    return ' '.join(new.split())\n",
    "\n",
    "train['posts'] = train['posts'].apply(remove_delimiters)\n",
    "test['description'] = test['description'].apply(remove_delimiters)"
   ]
  },
  {
   "cell_type": "code",
   "execution_count": 20,
   "metadata": {},
   "outputs": [],
   "source": [
    "# Removing URLs\n",
    "pattern_url = r'http[s]?://(?:[A-Za-z]|[0-9]|[$-_@.&+]|[!*\\(\\),]|(?:%[0-9A-Fa-f][0-9A-Fa-f]))+'\n",
    "subs_url = r'url-web'\n",
    "\n",
    "#apply to train set\n",
    "train['posts'] = train['posts'].replace(to_replace = pattern_url, value = subs_url, regex = True)\n",
    "\n",
    "#apply to test set\n",
    "test['description'] = test['description'].replace(to_replace = pattern_url, value = subs_url, regex = True)"
   ]
  },
  {
   "cell_type": "code",
   "execution_count": 21,
   "metadata": {},
   "outputs": [],
   "source": [
    "# Convert words to lowercase\n",
    "train['posts'] = train['posts'].str.lower()\n",
    "\n",
    "test['description'] = test['description'].str.lower()"
   ]
  },
  {
   "cell_type": "code",
   "execution_count": 22,
   "metadata": {},
   "outputs": [],
   "source": [
    "# Remove punctuation and numbers\n",
    "def remove_punctuation(post):\n",
    "    punc_numbers = string.punctuation + '0123456789'\n",
    "    return ''.join([l for l in post if l not in punc_numbers])\n",
    "\n",
    "train['posts'] = train['posts'].apply(remove_punctuation)\n",
    "\n",
    "test['description'] = test['description'].apply(remove_punctuation)"
   ]
  },
  {
   "cell_type": "code",
   "execution_count": 23,
   "metadata": {},
   "outputs": [
    {
     "data": {
      "text/html": [
       "<div>\n",
       "<style scoped>\n",
       "    .dataframe tbody tr th:only-of-type {\n",
       "        vertical-align: middle;\n",
       "    }\n",
       "\n",
       "    .dataframe tbody tr th {\n",
       "        vertical-align: top;\n",
       "    }\n",
       "\n",
       "    .dataframe thead th {\n",
       "        text-align: right;\n",
       "    }\n",
       "</style>\n",
       "<table border=\"1\" class=\"dataframe\">\n",
       "  <thead>\n",
       "    <tr style=\"text-align: right;\">\n",
       "      <th></th>\n",
       "      <th>type</th>\n",
       "      <th>posts</th>\n",
       "      <th>Mind</th>\n",
       "      <th>Energy</th>\n",
       "      <th>Nature</th>\n",
       "      <th>Tactics</th>\n",
       "    </tr>\n",
       "  </thead>\n",
       "  <tbody>\n",
       "    <tr>\n",
       "      <th>0</th>\n",
       "      <td>INFJ</td>\n",
       "      <td>urlweb urlweb enfp and intj moments urlweb spo...</td>\n",
       "      <td>Introverted</td>\n",
       "      <td>Intuitive</td>\n",
       "      <td>Feeling</td>\n",
       "      <td>Judging</td>\n",
       "    </tr>\n",
       "    <tr>\n",
       "      <th>1</th>\n",
       "      <td>ENTP</td>\n",
       "      <td>im finding the lack of me in these posts very ...</td>\n",
       "      <td>Extroverted</td>\n",
       "      <td>Intuitive</td>\n",
       "      <td>Thinking</td>\n",
       "      <td>Perceiving</td>\n",
       "    </tr>\n",
       "    <tr>\n",
       "      <th>2</th>\n",
       "      <td>INTP</td>\n",
       "      <td>good one  urlweb of course to which i say i kn...</td>\n",
       "      <td>Introverted</td>\n",
       "      <td>Intuitive</td>\n",
       "      <td>Thinking</td>\n",
       "      <td>Perceiving</td>\n",
       "    </tr>\n",
       "    <tr>\n",
       "      <th>3</th>\n",
       "      <td>INTJ</td>\n",
       "      <td>dear intp i enjoyed our conversation the other...</td>\n",
       "      <td>Introverted</td>\n",
       "      <td>Intuitive</td>\n",
       "      <td>Thinking</td>\n",
       "      <td>Judging</td>\n",
       "    </tr>\n",
       "    <tr>\n",
       "      <th>4</th>\n",
       "      <td>ENTJ</td>\n",
       "      <td>youre fired thats another silly misconception ...</td>\n",
       "      <td>Extroverted</td>\n",
       "      <td>Intuitive</td>\n",
       "      <td>Thinking</td>\n",
       "      <td>Judging</td>\n",
       "    </tr>\n",
       "  </tbody>\n",
       "</table>\n",
       "</div>"
      ],
      "text/plain": [
       "   type                                              posts         Mind  \\\n",
       "0  INFJ  urlweb urlweb enfp and intj moments urlweb spo...  Introverted   \n",
       "1  ENTP  im finding the lack of me in these posts very ...  Extroverted   \n",
       "2  INTP  good one  urlweb of course to which i say i kn...  Introverted   \n",
       "3  INTJ  dear intp i enjoyed our conversation the other...  Introverted   \n",
       "4  ENTJ  youre fired thats another silly misconception ...  Extroverted   \n",
       "\n",
       "      Energy    Nature     Tactics  \n",
       "0  Intuitive   Feeling     Judging  \n",
       "1  Intuitive  Thinking  Perceiving  \n",
       "2  Intuitive  Thinking  Perceiving  \n",
       "3  Intuitive  Thinking     Judging  \n",
       "4  Intuitive  Thinking     Judging  "
      ]
     },
     "execution_count": 23,
     "metadata": {},
     "output_type": "execute_result"
    }
   ],
   "source": [
    "train.head()"
   ]
  },
  {
   "cell_type": "code",
   "execution_count": 24,
   "metadata": {},
   "outputs": [],
   "source": [
    "# Lemmatization\n",
    "\n",
    "# Lematise posts\n",
    "lemmatizer = WordNetLemmatizer()\n",
    "train['lemma'] = [' '.join([lemmatizer.lemmatize(word) for word in text.split(' ')])for text in train['posts']]\n",
    "test['lemma'] = [' '.join([lemmatizer.lemmatize(word) for word in text.split(' ')])for text in test['description']]"
   ]
  },
  {
   "cell_type": "code",
   "execution_count": 25,
   "metadata": {},
   "outputs": [
    {
     "data": {
      "text/html": [
       "<div>\n",
       "<style scoped>\n",
       "    .dataframe tbody tr th:only-of-type {\n",
       "        vertical-align: middle;\n",
       "    }\n",
       "\n",
       "    .dataframe tbody tr th {\n",
       "        vertical-align: top;\n",
       "    }\n",
       "\n",
       "    .dataframe thead th {\n",
       "        text-align: right;\n",
       "    }\n",
       "</style>\n",
       "<table border=\"1\" class=\"dataframe\">\n",
       "  <thead>\n",
       "    <tr style=\"text-align: right;\">\n",
       "      <th></th>\n",
       "      <th>lemma</th>\n",
       "      <th>stopwords</th>\n",
       "    </tr>\n",
       "  </thead>\n",
       "  <tbody>\n",
       "    <tr>\n",
       "      <th>0</th>\n",
       "      <td>urlweb urlweb enfp and intj moment urlweb spor...</td>\n",
       "      <td>257</td>\n",
       "    </tr>\n",
       "    <tr>\n",
       "      <th>1</th>\n",
       "      <td>im finding the lack of me in these post very a...</td>\n",
       "      <td>587</td>\n",
       "    </tr>\n",
       "    <tr>\n",
       "      <th>2</th>\n",
       "      <td>good one  urlweb of course to which i say i kn...</td>\n",
       "      <td>402</td>\n",
       "    </tr>\n",
       "    <tr>\n",
       "      <th>3</th>\n",
       "      <td>dear intp i enjoyed our conversation the other...</td>\n",
       "      <td>529</td>\n",
       "    </tr>\n",
       "    <tr>\n",
       "      <th>4</th>\n",
       "      <td>youre fired thats another silly misconception ...</td>\n",
       "      <td>495</td>\n",
       "    </tr>\n",
       "  </tbody>\n",
       "</table>\n",
       "</div>"
      ],
      "text/plain": [
       "                                               lemma  stopwords\n",
       "0  urlweb urlweb enfp and intj moment urlweb spor...        257\n",
       "1  im finding the lack of me in these post very a...        587\n",
       "2  good one  urlweb of course to which i say i kn...        402\n",
       "3  dear intp i enjoyed our conversation the other...        529\n",
       "4  youre fired thats another silly misconception ...        495"
      ]
     },
     "execution_count": 25,
     "metadata": {},
     "output_type": "execute_result"
    }
   ],
   "source": [
    "# Are there any stopwords in the text?\n",
    "#Check for stopwords train\n",
    "stop = stopwords.words('english')\n",
    "train['stopwords'] = train['lemma'].apply(lambda x: len([x for x in x.split() if x in stop]))\n",
    "train[['lemma','stopwords']].head()"
   ]
  },
  {
   "cell_type": "code",
   "execution_count": 26,
   "metadata": {},
   "outputs": [
    {
     "data": {
      "text/html": [
       "<div>\n",
       "<style scoped>\n",
       "    .dataframe tbody tr th:only-of-type {\n",
       "        vertical-align: middle;\n",
       "    }\n",
       "\n",
       "    .dataframe tbody tr th {\n",
       "        vertical-align: top;\n",
       "    }\n",
       "\n",
       "    .dataframe thead th {\n",
       "        text-align: right;\n",
       "    }\n",
       "</style>\n",
       "<table border=\"1\" class=\"dataframe\">\n",
       "  <thead>\n",
       "    <tr style=\"text-align: right;\">\n",
       "      <th></th>\n",
       "      <th>lemma</th>\n",
       "      <th>stopwords</th>\n",
       "    </tr>\n",
       "  </thead>\n",
       "  <tbody>\n",
       "    <tr>\n",
       "      <th>0</th>\n",
       "      <td>i used to make up song all the time just becau...</td>\n",
       "      <td>62</td>\n",
       "    </tr>\n",
       "    <tr>\n",
       "      <th>1</th>\n",
       "      <td>cant win unless you learn how to lose from the...</td>\n",
       "      <td>14</td>\n",
       "    </tr>\n",
       "    <tr>\n",
       "      <th>2</th>\n",
       "      <td>you do not find the happy life you make it som...</td>\n",
       "      <td>14</td>\n",
       "    </tr>\n",
       "    <tr>\n",
       "      <th>3</th>\n",
       "      <td>stop staring it our body womenempowerment gend...</td>\n",
       "      <td>13</td>\n",
       "    </tr>\n",
       "    <tr>\n",
       "      <th>4</th>\n",
       "      <td>freedom lie in being bold be somebody that nob...</td>\n",
       "      <td>10</td>\n",
       "    </tr>\n",
       "  </tbody>\n",
       "</table>\n",
       "</div>"
      ],
      "text/plain": [
       "                                               lemma  stopwords\n",
       "0  i used to make up song all the time just becau...         62\n",
       "1  cant win unless you learn how to lose from the...         14\n",
       "2  you do not find the happy life you make it som...         14\n",
       "3  stop staring it our body womenempowerment gend...         13\n",
       "4  freedom lie in being bold be somebody that nob...         10"
      ]
     },
     "execution_count": 26,
     "metadata": {},
     "output_type": "execute_result"
    }
   ],
   "source": [
    "#Check for stopwords test\n",
    "stop = stopwords.words('english')\n",
    "test['stopwords'] = test['lemma'].apply(lambda x: len([x for x in x.split() if x in stop]))\n",
    "test[['lemma','stopwords']].head()"
   ]
  },
  {
   "cell_type": "code",
   "execution_count": 27,
   "metadata": {},
   "outputs": [],
   "source": [
    "#removing stop words\n",
    "def remove_stop_words(word):\n",
    "    if word not in stop:\n",
    "        return word\n",
    "    else:\n",
    "        return ''"
   ]
  },
  {
   "cell_type": "code",
   "execution_count": 28,
   "metadata": {},
   "outputs": [],
   "source": [
    "test['lemma_no_stop'] = [' '.join([remove_stop_words(word) for word in text.split(' ')])for text in test['lemma']]"
   ]
  },
  {
   "cell_type": "code",
   "execution_count": 29,
   "metadata": {},
   "outputs": [
    {
     "data": {
      "text/html": [
       "<div>\n",
       "<style scoped>\n",
       "    .dataframe tbody tr th:only-of-type {\n",
       "        vertical-align: middle;\n",
       "    }\n",
       "\n",
       "    .dataframe tbody tr th {\n",
       "        vertical-align: top;\n",
       "    }\n",
       "\n",
       "    .dataframe thead th {\n",
       "        text-align: right;\n",
       "    }\n",
       "</style>\n",
       "<table border=\"1\" class=\"dataframe\">\n",
       "  <thead>\n",
       "    <tr style=\"text-align: right;\">\n",
       "      <th></th>\n",
       "      <th>username</th>\n",
       "      <th>description</th>\n",
       "      <th>lemma</th>\n",
       "      <th>stopwords</th>\n",
       "      <th>lemma_no_stop</th>\n",
       "    </tr>\n",
       "  </thead>\n",
       "  <tbody>\n",
       "    <tr>\n",
       "      <th>0</th>\n",
       "      <td>_.anju.u</td>\n",
       "      <td>i used to make up songs all the time just beca...</td>\n",
       "      <td>i used to make up song all the time just becau...</td>\n",
       "      <td>62</td>\n",
       "      <td>used  make  song   time    wa fun   also used...</td>\n",
       "    </tr>\n",
       "    <tr>\n",
       "      <th>1</th>\n",
       "      <td>__.tickled_pink.__</td>\n",
       "      <td>cant win unless you learn how to lose from the...</td>\n",
       "      <td>cant win unless you learn how to lose from the...</td>\n",
       "      <td>14</td>\n",
       "      <td>cant win unless  learn   lose  theory  interac...</td>\n",
       "    </tr>\n",
       "    <tr>\n",
       "      <th>2</th>\n",
       "      <td>_anugrahanair_</td>\n",
       "      <td>you do not find the happy life you make it som...</td>\n",
       "      <td>you do not find the happy life you make it som...</td>\n",
       "      <td>14</td>\n",
       "      <td>find  happy life  make  sometimes  better  ...</td>\n",
       "    </tr>\n",
       "    <tr>\n",
       "      <th>3</th>\n",
       "      <td>_charuzz_</td>\n",
       "      <td>stop staring its our body womenempowerment gen...</td>\n",
       "      <td>stop staring it our body womenempowerment gend...</td>\n",
       "      <td>13</td>\n",
       "      <td>stop staring   body womenempowerment genderequ...</td>\n",
       "    </tr>\n",
       "    <tr>\n",
       "      <th>4</th>\n",
       "      <td>_gaayu___</td>\n",
       "      <td>freedom lies in being bold be somebody that no...</td>\n",
       "      <td>freedom lie in being bold be somebody that nob...</td>\n",
       "      <td>10</td>\n",
       "      <td>freedom lie   bold  somebody  nobady thought  ...</td>\n",
       "    </tr>\n",
       "  </tbody>\n",
       "</table>\n",
       "</div>"
      ],
      "text/plain": [
       "             username                                        description  \\\n",
       "0            _.anju.u  i used to make up songs all the time just beca...   \n",
       "1  __.tickled_pink.__  cant win unless you learn how to lose from the...   \n",
       "2      _anugrahanair_  you do not find the happy life you make it som...   \n",
       "3           _charuzz_  stop staring its our body womenempowerment gen...   \n",
       "4           _gaayu___  freedom lies in being bold be somebody that no...   \n",
       "\n",
       "                                               lemma  stopwords  \\\n",
       "0  i used to make up song all the time just becau...         62   \n",
       "1  cant win unless you learn how to lose from the...         14   \n",
       "2  you do not find the happy life you make it som...         14   \n",
       "3  stop staring it our body womenempowerment gend...         13   \n",
       "4  freedom lie in being bold be somebody that nob...         10   \n",
       "\n",
       "                                       lemma_no_stop  \n",
       "0   used  make  song   time    wa fun   also used...  \n",
       "1  cant win unless  learn   lose  theory  interac...  \n",
       "2     find  happy life  make  sometimes  better  ...  \n",
       "3  stop staring   body womenempowerment genderequ...  \n",
       "4  freedom lie   bold  somebody  nobady thought  ...  "
      ]
     },
     "execution_count": 29,
     "metadata": {},
     "output_type": "execute_result"
    }
   ],
   "source": [
    "test.head()"
   ]
  },
  {
   "cell_type": "code",
   "execution_count": 30,
   "metadata": {},
   "outputs": [],
   "source": [
    "# Model Building\n",
    "#Create binary classes for each of the personality characteristics\n",
    "train['E'] = train['type'].apply(lambda x: x[0] == 'E').astype('int')\n",
    "train['N'] = train['type'].apply(lambda x: x[1] == 'N').astype('int')\n",
    "train['T'] = train['type'].apply(lambda x: x[2] == 'T').astype('int')\n",
    "train['J'] = train['type'].apply(lambda x: x[3] == 'J').astype('int')"
   ]
  },
  {
   "cell_type": "code",
   "execution_count": 31,
   "metadata": {},
   "outputs": [
    {
     "data": {
      "text/html": [
       "<div>\n",
       "<style scoped>\n",
       "    .dataframe tbody tr th:only-of-type {\n",
       "        vertical-align: middle;\n",
       "    }\n",
       "\n",
       "    .dataframe tbody tr th {\n",
       "        vertical-align: top;\n",
       "    }\n",
       "\n",
       "    .dataframe thead th {\n",
       "        text-align: right;\n",
       "    }\n",
       "</style>\n",
       "<table border=\"1\" class=\"dataframe\">\n",
       "  <thead>\n",
       "    <tr style=\"text-align: right;\">\n",
       "      <th></th>\n",
       "      <th>type</th>\n",
       "      <th>posts</th>\n",
       "      <th>Mind</th>\n",
       "      <th>Energy</th>\n",
       "      <th>Nature</th>\n",
       "      <th>Tactics</th>\n",
       "      <th>lemma</th>\n",
       "      <th>stopwords</th>\n",
       "      <th>E</th>\n",
       "      <th>N</th>\n",
       "      <th>T</th>\n",
       "      <th>J</th>\n",
       "    </tr>\n",
       "  </thead>\n",
       "  <tbody>\n",
       "    <tr>\n",
       "      <th>0</th>\n",
       "      <td>INFJ</td>\n",
       "      <td>urlweb urlweb enfp and intj moments urlweb spo...</td>\n",
       "      <td>Introverted</td>\n",
       "      <td>Intuitive</td>\n",
       "      <td>Feeling</td>\n",
       "      <td>Judging</td>\n",
       "      <td>urlweb urlweb enfp and intj moment urlweb spor...</td>\n",
       "      <td>257</td>\n",
       "      <td>0</td>\n",
       "      <td>1</td>\n",
       "      <td>0</td>\n",
       "      <td>1</td>\n",
       "    </tr>\n",
       "    <tr>\n",
       "      <th>1</th>\n",
       "      <td>ENTP</td>\n",
       "      <td>im finding the lack of me in these posts very ...</td>\n",
       "      <td>Extroverted</td>\n",
       "      <td>Intuitive</td>\n",
       "      <td>Thinking</td>\n",
       "      <td>Perceiving</td>\n",
       "      <td>im finding the lack of me in these post very a...</td>\n",
       "      <td>587</td>\n",
       "      <td>1</td>\n",
       "      <td>1</td>\n",
       "      <td>1</td>\n",
       "      <td>0</td>\n",
       "    </tr>\n",
       "    <tr>\n",
       "      <th>2</th>\n",
       "      <td>INTP</td>\n",
       "      <td>good one  urlweb of course to which i say i kn...</td>\n",
       "      <td>Introverted</td>\n",
       "      <td>Intuitive</td>\n",
       "      <td>Thinking</td>\n",
       "      <td>Perceiving</td>\n",
       "      <td>good one  urlweb of course to which i say i kn...</td>\n",
       "      <td>402</td>\n",
       "      <td>0</td>\n",
       "      <td>1</td>\n",
       "      <td>1</td>\n",
       "      <td>0</td>\n",
       "    </tr>\n",
       "    <tr>\n",
       "      <th>3</th>\n",
       "      <td>INTJ</td>\n",
       "      <td>dear intp i enjoyed our conversation the other...</td>\n",
       "      <td>Introverted</td>\n",
       "      <td>Intuitive</td>\n",
       "      <td>Thinking</td>\n",
       "      <td>Judging</td>\n",
       "      <td>dear intp i enjoyed our conversation the other...</td>\n",
       "      <td>529</td>\n",
       "      <td>0</td>\n",
       "      <td>1</td>\n",
       "      <td>1</td>\n",
       "      <td>1</td>\n",
       "    </tr>\n",
       "    <tr>\n",
       "      <th>4</th>\n",
       "      <td>ENTJ</td>\n",
       "      <td>youre fired thats another silly misconception ...</td>\n",
       "      <td>Extroverted</td>\n",
       "      <td>Intuitive</td>\n",
       "      <td>Thinking</td>\n",
       "      <td>Judging</td>\n",
       "      <td>youre fired thats another silly misconception ...</td>\n",
       "      <td>495</td>\n",
       "      <td>1</td>\n",
       "      <td>1</td>\n",
       "      <td>1</td>\n",
       "      <td>1</td>\n",
       "    </tr>\n",
       "  </tbody>\n",
       "</table>\n",
       "</div>"
      ],
      "text/plain": [
       "   type                                              posts         Mind  \\\n",
       "0  INFJ  urlweb urlweb enfp and intj moments urlweb spo...  Introverted   \n",
       "1  ENTP  im finding the lack of me in these posts very ...  Extroverted   \n",
       "2  INTP  good one  urlweb of course to which i say i kn...  Introverted   \n",
       "3  INTJ  dear intp i enjoyed our conversation the other...  Introverted   \n",
       "4  ENTJ  youre fired thats another silly misconception ...  Extroverted   \n",
       "\n",
       "      Energy    Nature     Tactics  \\\n",
       "0  Intuitive   Feeling     Judging   \n",
       "1  Intuitive  Thinking  Perceiving   \n",
       "2  Intuitive  Thinking  Perceiving   \n",
       "3  Intuitive  Thinking     Judging   \n",
       "4  Intuitive  Thinking     Judging   \n",
       "\n",
       "                                               lemma  stopwords  E  N  T  J  \n",
       "0  urlweb urlweb enfp and intj moment urlweb spor...        257  0  1  0  1  \n",
       "1  im finding the lack of me in these post very a...        587  1  1  1  0  \n",
       "2  good one  urlweb of course to which i say i kn...        402  0  1  1  0  \n",
       "3  dear intp i enjoyed our conversation the other...        529  0  1  1  1  \n",
       "4  youre fired thats another silly misconception ...        495  1  1  1  1  "
      ]
     },
     "execution_count": 31,
     "metadata": {},
     "output_type": "execute_result"
    }
   ],
   "source": [
    "train.head()"
   ]
  },
  {
   "cell_type": "code",
   "execution_count": 32,
   "metadata": {},
   "outputs": [
    {
     "data": {
      "text/html": [
       "<div>\n",
       "<style scoped>\n",
       "    .dataframe tbody tr th:only-of-type {\n",
       "        vertical-align: middle;\n",
       "    }\n",
       "\n",
       "    .dataframe tbody tr th {\n",
       "        vertical-align: top;\n",
       "    }\n",
       "\n",
       "    .dataframe thead th {\n",
       "        text-align: right;\n",
       "    }\n",
       "</style>\n",
       "<table border=\"1\" class=\"dataframe\">\n",
       "  <thead>\n",
       "    <tr style=\"text-align: right;\">\n",
       "      <th></th>\n",
       "      <th>lemma</th>\n",
       "      <th>E</th>\n",
       "    </tr>\n",
       "  </thead>\n",
       "  <tbody>\n",
       "    <tr>\n",
       "      <th>0</th>\n",
       "      <td>urlweb urlweb enfp and intj moment urlweb spor...</td>\n",
       "      <td>0</td>\n",
       "    </tr>\n",
       "    <tr>\n",
       "      <th>1</th>\n",
       "      <td>im finding the lack of me in these post very a...</td>\n",
       "      <td>1</td>\n",
       "    </tr>\n",
       "    <tr>\n",
       "      <th>2</th>\n",
       "      <td>good one  urlweb of course to which i say i kn...</td>\n",
       "      <td>0</td>\n",
       "    </tr>\n",
       "    <tr>\n",
       "      <th>3</th>\n",
       "      <td>dear intp i enjoyed our conversation the other...</td>\n",
       "      <td>0</td>\n",
       "    </tr>\n",
       "    <tr>\n",
       "      <th>4</th>\n",
       "      <td>youre fired thats another silly misconception ...</td>\n",
       "      <td>1</td>\n",
       "    </tr>\n",
       "  </tbody>\n",
       "</table>\n",
       "</div>"
      ],
      "text/plain": [
       "                                               lemma  E\n",
       "0  urlweb urlweb enfp and intj moment urlweb spor...  0\n",
       "1  im finding the lack of me in these post very a...  1\n",
       "2  good one  urlweb of course to which i say i kn...  0\n",
       "3  dear intp i enjoyed our conversation the other...  0\n",
       "4  youre fired thats another silly misconception ...  1"
      ]
     },
     "execution_count": 32,
     "metadata": {},
     "output_type": "execute_result"
    }
   ],
   "source": [
    "mind_df = train[['lemma','E']]\n",
    "mind_df.head()"
   ]
  },
  {
   "cell_type": "markdown",
   "metadata": {},
   "source": [
    "tf * idf \n",
    "term frequency = no of rep of words in a sent / no of words in a sent\n",
    "inverse document frequency = no of sentences / no of sentences containing words"
   ]
  },
  {
   "cell_type": "code",
   "execution_count": 33,
   "metadata": {},
   "outputs": [
    {
     "data": {
      "text/plain": [
       "TfidfVectorizer(max_df=0.5, max_features=250, min_df=4, stop_words='english')"
      ]
     },
     "execution_count": 33,
     "metadata": {},
     "output_type": "execute_result"
    }
   ],
   "source": [
    "vect_mind = TfidfVectorizer(lowercase=True, \n",
    "                            stop_words='english', \n",
    "                            max_features=250,\n",
    "                            min_df=4,\n",
    "                            max_df=0.5\n",
    "                           )\n",
    "vect_mind\n"
   ]
  },
  {
   "cell_type": "code",
   "execution_count": 34,
   "metadata": {},
   "outputs": [
    {
     "data": {
      "text/plain": [
       "<8675x250 sparse matrix of type '<class 'numpy.float64'>'\n",
       "\twith 648008 stored elements in Compressed Sparse Row format>"
      ]
     },
     "execution_count": 34,
     "metadata": {},
     "output_type": "execute_result"
    }
   ],
   "source": [
    "vect_mind.fit(mind_df['lemma'])     #train \n",
    "X_count_mind = vect_mind.transform(mind_df['lemma']) \n",
    "X_count_mind   \n"
   ]
  },
  {
   "cell_type": "code",
   "execution_count": 35,
   "metadata": {},
   "outputs": [
    {
     "data": {
      "text/plain": [
       "(8675, 250)"
      ]
     },
     "execution_count": 35,
     "metadata": {},
     "output_type": "execute_result"
    }
   ],
   "source": [
    "X_count_mind.shape"
   ]
  },
  {
   "cell_type": "code",
   "execution_count": 36,
   "metadata": {},
   "outputs": [
    {
     "data": {
      "text/plain": [
       "['able',\n",
       " 'absolutely',\n",
       " 'act',\n",
       " 'advice',\n",
       " 'age',\n",
       " 'ago',\n",
       " 'agree',\n",
       " 'answer',\n",
       " 'arent',\n",
       " 'ask',\n",
       " 'away',\n",
       " 'awesome',\n",
       " 'bad',\n",
       " 'based',\n",
       " 'believe',\n",
       " 'big',\n",
       " 'bit',\n",
       " 'book',\n",
       " 'called',\n",
       " 'came',\n",
       " 'care',\n",
       " 'case',\n",
       " 'cause',\n",
       " 'certain',\n",
       " 'change',\n",
       " 'character',\n",
       " 'child',\n",
       " 'class',\n",
       " 'close',\n",
       " 'college',\n",
       " 'common',\n",
       " 'completely',\n",
       " 'consider',\n",
       " 'conversation',\n",
       " 'cool',\n",
       " 'couple',\n",
       " 'course',\n",
       " 'crazy',\n",
       " 'dad',\n",
       " 'definitely',\n",
       " 'depends',\n",
       " 'description',\n",
       " 'difference',\n",
       " 'dream',\n",
       " 'easy',\n",
       " 'emotion',\n",
       " 'emotional',\n",
       " 'end',\n",
       " 'enfj',\n",
       " 'enfp',\n",
       " 'enfps',\n",
       " 'enjoy',\n",
       " 'entj',\n",
       " 'entp',\n",
       " 'esfj',\n",
       " 'esfp',\n",
       " 'especially',\n",
       " 'estp',\n",
       " 'exactly',\n",
       " 'example',\n",
       " 'experience',\n",
       " 'eye',\n",
       " 'face',\n",
       " 'fact',\n",
       " 'family',\n",
       " 'far',\n",
       " 'favorite',\n",
       " 'fe',\n",
       " 'felt',\n",
       " 'female',\n",
       " 'fi',\n",
       " 'figure',\n",
       " 'fit',\n",
       " 'forum',\n",
       " 'fun',\n",
       " 'function',\n",
       " 'funny',\n",
       " 'game',\n",
       " 'general',\n",
       " 'generally',\n",
       " 'getting',\n",
       " 'girl',\n",
       " 'god',\n",
       " 'great',\n",
       " 'group',\n",
       " 'guess',\n",
       " 'haha',\n",
       " 'hand',\n",
       " 'happy',\n",
       " 'hate',\n",
       " 'havent',\n",
       " 'having',\n",
       " 'head',\n",
       " 'hear',\n",
       " 'heard',\n",
       " 'heart',\n",
       " 'hello',\n",
       " 'hey',\n",
       " 'hi',\n",
       " 'high',\n",
       " 'home',\n",
       " 'honestly',\n",
       " 'hope',\n",
       " 'hour',\n",
       " 'human',\n",
       " 'hurt',\n",
       " 'important',\n",
       " 'infj',\n",
       " 'infjs',\n",
       " 'infp',\n",
       " 'infps',\n",
       " 'instead',\n",
       " 'interested',\n",
       " 'interesting',\n",
       " 'intj',\n",
       " 'intjs',\n",
       " 'intp',\n",
       " 'intps',\n",
       " 'isfj',\n",
       " 'isfp',\n",
       " 'isnt',\n",
       " 'issue',\n",
       " 'istj',\n",
       " 'istp',\n",
       " 'job',\n",
       " 'kid',\n",
       " 'laughing',\n",
       " 'le',\n",
       " 'learn',\n",
       " 'likely',\n",
       " 'live',\n",
       " 'lol',\n",
       " 'looking',\n",
       " 'making',\n",
       " 'male',\n",
       " 'man',\n",
       " 'matter',\n",
       " 'mbti',\n",
       " 'meet',\n",
       " 'met',\n",
       " 'mom',\n",
       " 'moment',\n",
       " 'month',\n",
       " 'mother',\n",
       " 'movie',\n",
       " 'music',\n",
       " 'ne',\n",
       " 'new',\n",
       " 'ni',\n",
       " 'nice',\n",
       " 'night',\n",
       " 'oh',\n",
       " 'ok',\n",
       " 'okay',\n",
       " 'old',\n",
       " 'open',\n",
       " 'opinion',\n",
       " 'parent',\n",
       " 'past',\n",
       " 'personal',\n",
       " 'personality',\n",
       " 'personally',\n",
       " 'picture',\n",
       " 'place',\n",
       " 'play',\n",
       " 'possible',\n",
       " 'prefer',\n",
       " 'quite',\n",
       " 'reading',\n",
       " 'real',\n",
       " 'reason',\n",
       " 'recently',\n",
       " 'relate',\n",
       " 'relationship',\n",
       " 'remember',\n",
       " 'response',\n",
       " 'result',\n",
       " 'sad',\n",
       " 'saying',\n",
       " 'school',\n",
       " 'se',\n",
       " 'second',\n",
       " 'seen',\n",
       " 'self',\n",
       " 'sense',\n",
       " 'seriously',\n",
       " 'sex',\n",
       " 'share',\n",
       " 'shes',\n",
       " 'shit',\n",
       " 'similar',\n",
       " 'situation',\n",
       " 'small',\n",
       " 'social',\n",
       " 'song',\n",
       " 'sorry',\n",
       " 'sort',\n",
       " 'start',\n",
       " 'started',\n",
       " 'stop',\n",
       " 'story',\n",
       " 'strong',\n",
       " 'stuff',\n",
       " 'taking',\n",
       " 'talk',\n",
       " 'talking',\n",
       " 'tend',\n",
       " 'term',\n",
       " 'test',\n",
       " 'thank',\n",
       " 'thanks',\n",
       " 'theory',\n",
       " 'theyre',\n",
       " 'ti',\n",
       " 'today',\n",
       " 'told',\n",
       " 'tongue',\n",
       " 'took',\n",
       " 'topic',\n",
       " 'totally',\n",
       " 'tried',\n",
       " 'true',\n",
       " 'unless',\n",
       " 'use',\n",
       " 'used',\n",
       " 'using',\n",
       " 'value',\n",
       " 'video',\n",
       " 'view',\n",
       " 'wanted',\n",
       " 'wasnt',\n",
       " 'watch',\n",
       " 'week',\n",
       " 'weird',\n",
       " 'welcome',\n",
       " 'went',\n",
       " 'whats',\n",
       " 'wish',\n",
       " 'woman',\n",
       " 'wont',\n",
       " 'word',\n",
       " 'working',\n",
       " 'wouldnt',\n",
       " 'wow',\n",
       " 'write',\n",
       " 'writing',\n",
       " 'wrong',\n",
       " 'xd',\n",
       " 'yeah',\n",
       " 'youve']"
      ]
     },
     "execution_count": 36,
     "metadata": {},
     "output_type": "execute_result"
    }
   ],
   "source": [
    "vect_mind.get_feature_names()"
   ]
  },
  {
   "cell_type": "code",
   "execution_count": 37,
   "metadata": {},
   "outputs": [],
   "source": [
    "X = X_count_mind\n",
    "y = mind_df['E']\n",
    "X_train, X_test, y_train, y_test = train_test_split(X, \n",
    "                                                    y,\n",
    "                                                    test_size =0.4,\n",
    "                                                   random_state = 42)\n"
   ]
  },
  {
   "cell_type": "code",
   "execution_count": 38,
   "metadata": {},
   "outputs": [],
   "source": [
    "def scoring_function_log_loss(y_test, y_pred_test):\n",
    "    return log_loss(y_test, y_pred_test)"
   ]
  },
  {
   "cell_type": "code",
   "execution_count": 39,
   "metadata": {},
   "outputs": [],
   "source": [
    "score_log_loss = make_scorer(scoring_function_log_loss, greater_is_better = False)"
   ]
  },
  {
   "cell_type": "code",
   "execution_count": 40,
   "metadata": {},
   "outputs": [],
   "source": [
    "def tune_LogReg_model(X_train, y_train): \n",
    "    C_list = [0.001, 0.01, 0.1, 0.5, 0.75, 1, 5, 10, 25, 100]\n",
    "    penalty_list = ['l1','l2']\n",
    "\n",
    "    score = make_scorer(scoring_function_log_loss, greater_is_better = False)\n",
    "    \n",
    "    logreg = LogisticRegression()\n",
    "    \n",
    "    parameters = {'C':C_list,\n",
    "                  'penalty': penalty_list}\n",
    "    tune = GridSearchCV(logreg, parameters, scoring = score)\n",
    "    tune.fit(X_train,y_train)\n",
    "    \n",
    "    return tune"
   ]
  },
  {
   "cell_type": "code",
   "execution_count": 41,
   "metadata": {},
   "outputs": [
    {
     "name": "stderr",
     "output_type": "stream",
     "text": [
      "c:\\Users\\Parthasarathy\\AppData\\Local\\Programs\\Python\\Python39\\lib\\site-packages\\sklearn\\model_selection\\_validation.py:372: FitFailedWarning: \n",
      "50 fits failed out of a total of 100.\n",
      "The score on these train-test partitions for these parameters will be set to nan.\n",
      "If these failures are not expected, you can try to debug them by setting error_score='raise'.\n",
      "\n",
      "Below are more details about the failures:\n",
      "--------------------------------------------------------------------------------\n",
      "50 fits failed with the following error:\n",
      "Traceback (most recent call last):\n",
      "  File \"c:\\Users\\Parthasarathy\\AppData\\Local\\Programs\\Python\\Python39\\lib\\site-packages\\sklearn\\model_selection\\_validation.py\", line 681, in _fit_and_score\n",
      "    estimator.fit(X_train, y_train, **fit_params)\n",
      "  File \"c:\\Users\\Parthasarathy\\AppData\\Local\\Programs\\Python\\Python39\\lib\\site-packages\\sklearn\\linear_model\\_logistic.py\", line 1461, in fit\n",
      "    solver = _check_solver(self.solver, self.penalty, self.dual)\n",
      "  File \"c:\\Users\\Parthasarathy\\AppData\\Local\\Programs\\Python\\Python39\\lib\\site-packages\\sklearn\\linear_model\\_logistic.py\", line 447, in _check_solver\n",
      "    raise ValueError(\n",
      "ValueError: Solver lbfgs supports only 'l2' or 'none' penalties, got l1 penalty.\n",
      "\n",
      "  warnings.warn(some_fits_failed_message, FitFailedWarning)\n",
      "c:\\Users\\Parthasarathy\\AppData\\Local\\Programs\\Python\\Python39\\lib\\site-packages\\sklearn\\model_selection\\_search.py:969: UserWarning: One or more of the test scores are non-finite: [        nan -8.08227275         nan -8.08227275         nan -7.02056757\n",
      "         nan -5.67353594         nan -5.53419025         nan -5.45456456\n",
      "         nan -5.46120978         nan -5.44130439         nan -5.42803423\n",
      "         nan -5.48112115]\n",
      "  warnings.warn(\n"
     ]
    }
   ],
   "source": [
    "best_mind_model = tune_LogReg_model(X_train, y_train)"
   ]
  },
  {
   "cell_type": "code",
   "execution_count": 42,
   "metadata": {},
   "outputs": [
    {
     "data": {
      "text/plain": [
       "{'C': 25, 'penalty': 'l2'}"
      ]
     },
     "execution_count": 42,
     "metadata": {},
     "output_type": "execute_result"
    }
   ],
   "source": [
    "best_mind_model.best_params_"
   ]
  },
  {
   "cell_type": "code",
   "execution_count": 43,
   "metadata": {},
   "outputs": [
    {
     "data": {
      "text/plain": [
       "LogisticRegression(C=25)"
      ]
     },
     "execution_count": 43,
     "metadata": {},
     "output_type": "execute_result"
    }
   ],
   "source": [
    "mind_model = LogisticRegression(C=best_mind_model.best_params_['C'], penalty = best_mind_model.best_params_['penalty'])\n",
    "mind_model.fit(X_train, y_train)"
   ]
  },
  {
   "cell_type": "code",
   "execution_count": 44,
   "metadata": {},
   "outputs": [],
   "source": [
    "y_pred_train = mind_model.predict(X_train)"
   ]
  },
  {
   "cell_type": "code",
   "execution_count": 45,
   "metadata": {},
   "outputs": [
    {
     "data": {
      "text/plain": [
       "0.8689721421709894"
      ]
     },
     "execution_count": 45,
     "metadata": {},
     "output_type": "execute_result"
    }
   ],
   "source": [
    "accuracy_score(y_train, y_pred_train)"
   ]
  },
  {
   "cell_type": "code",
   "execution_count": 46,
   "metadata": {},
   "outputs": [],
   "source": [
    "y_pred_test = mind_model.predict(X_test)"
   ]
  },
  {
   "cell_type": "code",
   "execution_count": 47,
   "metadata": {},
   "outputs": [
    {
     "data": {
      "text/plain": [
       "0.8538904899135447"
      ]
     },
     "execution_count": 47,
     "metadata": {},
     "output_type": "execute_result"
    }
   ],
   "source": [
    "accuracy_score(y_test, y_pred_test)"
   ]
  },
  {
   "cell_type": "code",
   "execution_count": 48,
   "metadata": {},
   "outputs": [
    {
     "data": {
      "text/plain": [
       "array([[3805,  182],\n",
       "       [ 500,  718]], dtype=int64)"
      ]
     },
     "execution_count": 48,
     "metadata": {},
     "output_type": "execute_result"
    }
   ],
   "source": [
    "confusion_matrix(y_train, y_pred_train)"
   ]
  },
  {
   "cell_type": "code",
   "execution_count": 49,
   "metadata": {},
   "outputs": [
    {
     "data": {
      "text/plain": [
       "array([[2528,  161],\n",
       "       [ 346,  435]], dtype=int64)"
      ]
     },
     "execution_count": 49,
     "metadata": {},
     "output_type": "execute_result"
    }
   ],
   "source": [
    "from sklearn import metrics\n",
    "metrics.confusion_matrix(y_test, y_pred_test,labels=[0,1])"
   ]
  },
  {
   "cell_type": "code",
   "execution_count": 50,
   "metadata": {},
   "outputs": [
    {
     "name": "stdout",
     "output_type": "stream",
     "text": [
      "              precision    recall  f1-score   support\n",
      "\n",
      "           0       0.88      0.95      0.92      3987\n",
      "           1       0.80      0.59      0.68      1218\n",
      "\n",
      "    accuracy                           0.87      5205\n",
      "   macro avg       0.84      0.77      0.80      5205\n",
      "weighted avg       0.86      0.87      0.86      5205\n",
      "\n"
     ]
    }
   ],
   "source": [
    "print(classification_report(y_train, y_pred_train))"
   ]
  },
  {
   "cell_type": "code",
   "execution_count": 51,
   "metadata": {},
   "outputs": [
    {
     "name": "stdout",
     "output_type": "stream",
     "text": [
      "              precision    recall  f1-score   support\n",
      "\n",
      "           0       0.88      0.94      0.91      2689\n",
      "           1       0.73      0.56      0.63       781\n",
      "\n",
      "    accuracy                           0.85      3470\n",
      "   macro avg       0.80      0.75      0.77      3470\n",
      "weighted avg       0.85      0.85      0.85      3470\n",
      "\n"
     ]
    }
   ],
   "source": [
    "from sklearn import metrics\n",
    "print(metrics.classification_report(y_test, y_pred_test, labels=[0,1]))"
   ]
  },
  {
   "cell_type": "code",
   "execution_count": 52,
   "metadata": {},
   "outputs": [
    {
     "data": {
      "text/plain": [
       "4.525569842086721"
      ]
     },
     "execution_count": 52,
     "metadata": {},
     "output_type": "execute_result"
    }
   ],
   "source": [
    "log_loss(y_train, y_pred_train)"
   ]
  },
  {
   "cell_type": "code",
   "execution_count": 53,
   "metadata": {},
   "outputs": [
    {
     "data": {
      "text/plain": [
       "5.046480797523336"
      ]
     },
     "execution_count": 53,
     "metadata": {},
     "output_type": "execute_result"
    }
   ],
   "source": [
    "log_loss(y_test, y_pred_test)"
   ]
  },
  {
   "cell_type": "code",
   "execution_count": 54,
   "metadata": {},
   "outputs": [
    {
     "name": "stdout",
     "output_type": "stream",
     "text": [
      "Log Loss 5.076336\n",
      "Accuracy 0.853026\n"
     ]
    }
   ],
   "source": [
    "mind_log_loss = cross_val_score(mind_model, X, y, scoring=score_log_loss,cv=4,)\n",
    "print('Log Loss %2f' %(-1 * mind_log_loss.mean()))\n",
    "\n",
    "mind_acc = cross_val_score(mind_model, X, y, scoring='accuracy',cv=4,)\n",
    "print('Accuracy %2f' %(mind_acc.mean()))"
   ]
  },
  {
   "cell_type": "code",
   "execution_count": 55,
   "metadata": {},
   "outputs": [
    {
     "data": {
      "image/png": "[encoded data removed]",
      "text/plain": [
       "<Figure size 432x288 with 2 Axes>"
      ]
     },
     "metadata": {
      "needs_background": "light"
     },
     "output_type": "display_data"
    }
   ],
   "source": [
    "from sklearn.metrics import confusion_matrix,plot_confusion_matrix\n",
    "mind_model.fit(X_train, y_train)\n",
    "plot_confusion_matrix(mind_model,X_test,y_test,cmap=plt.cm.Purples,values_format = '.5g', display_labels = [\"Introverted\",\"Extroverted\"])\n",
    "plt.show()"
   ]
  },
  {
   "cell_type": "code",
   "execution_count": 56,
   "metadata": {},
   "outputs": [],
   "source": [
    "# Energy model\n",
    "energy_df = train[['lemma','N']]"
   ]
  },
  {
   "cell_type": "code",
   "execution_count": 57,
   "metadata": {},
   "outputs": [
    {
     "data": {
      "text/plain": [
       "['able',\n",
       " 'advice',\n",
       " 'ago',\n",
       " 'agree',\n",
       " 'answer',\n",
       " 'arent',\n",
       " 'ask',\n",
       " 'away',\n",
       " 'awesome',\n",
       " 'bad',\n",
       " 'based',\n",
       " 'believe',\n",
       " 'big',\n",
       " 'bit',\n",
       " 'book',\n",
       " 'came',\n",
       " 'care',\n",
       " 'case',\n",
       " 'certain',\n",
       " 'change',\n",
       " 'character',\n",
       " 'child',\n",
       " 'class',\n",
       " 'close',\n",
       " 'completely',\n",
       " 'conversation',\n",
       " 'cool',\n",
       " 'course',\n",
       " 'crazy',\n",
       " 'definitely',\n",
       " 'dream',\n",
       " 'emotion',\n",
       " 'emotional',\n",
       " 'end',\n",
       " 'enfj',\n",
       " 'enfp',\n",
       " 'enjoy',\n",
       " 'entj',\n",
       " 'entp',\n",
       " 'esfj',\n",
       " 'especially',\n",
       " 'estp',\n",
       " 'exactly',\n",
       " 'example',\n",
       " 'experience',\n",
       " 'eye',\n",
       " 'face',\n",
       " 'fact',\n",
       " 'family',\n",
       " 'far',\n",
       " 'favorite',\n",
       " 'fe',\n",
       " 'felt',\n",
       " 'female',\n",
       " 'fi',\n",
       " 'fit',\n",
       " 'forum',\n",
       " 'fun',\n",
       " 'function',\n",
       " 'funny',\n",
       " 'game',\n",
       " 'general',\n",
       " 'getting',\n",
       " 'girl',\n",
       " 'god',\n",
       " 'great',\n",
       " 'group',\n",
       " 'guess',\n",
       " 'haha',\n",
       " 'happy',\n",
       " 'hate',\n",
       " 'havent',\n",
       " 'having',\n",
       " 'head',\n",
       " 'hear',\n",
       " 'hey',\n",
       " 'hi',\n",
       " 'high',\n",
       " 'home',\n",
       " 'hope',\n",
       " 'hour',\n",
       " 'human',\n",
       " 'important',\n",
       " 'infj',\n",
       " 'infjs',\n",
       " 'infp',\n",
       " 'infps',\n",
       " 'interested',\n",
       " 'interesting',\n",
       " 'intj',\n",
       " 'intjs',\n",
       " 'intp',\n",
       " 'intps',\n",
       " 'isfj',\n",
       " 'isfp',\n",
       " 'isnt',\n",
       " 'issue',\n",
       " 'istj',\n",
       " 'istp',\n",
       " 'job',\n",
       " 'kid',\n",
       " 'laughing',\n",
       " 'le',\n",
       " 'learn',\n",
       " 'likely',\n",
       " 'live',\n",
       " 'lol',\n",
       " 'looking',\n",
       " 'making',\n",
       " 'man',\n",
       " 'matter',\n",
       " 'mbti',\n",
       " 'met',\n",
       " 'mom',\n",
       " 'moment',\n",
       " 'month',\n",
       " 'movie',\n",
       " 'music',\n",
       " 'ne',\n",
       " 'new',\n",
       " 'ni',\n",
       " 'nice',\n",
       " 'night',\n",
       " 'oh',\n",
       " 'ok',\n",
       " 'okay',\n",
       " 'old',\n",
       " 'opinion',\n",
       " 'past',\n",
       " 'personal',\n",
       " 'personality',\n",
       " 'personally',\n",
       " 'picture',\n",
       " 'place',\n",
       " 'play',\n",
       " 'possible',\n",
       " 'quite',\n",
       " 'reading',\n",
       " 'real',\n",
       " 'reason',\n",
       " 'recently',\n",
       " 'relate',\n",
       " 'relationship',\n",
       " 'remember',\n",
       " 'saying',\n",
       " 'school',\n",
       " 'second',\n",
       " 'seen',\n",
       " 'self',\n",
       " 'sense',\n",
       " 'shes',\n",
       " 'similar',\n",
       " 'situation',\n",
       " 'social',\n",
       " 'song',\n",
       " 'sorry',\n",
       " 'sort',\n",
       " 'start',\n",
       " 'started',\n",
       " 'stop',\n",
       " 'story',\n",
       " 'strong',\n",
       " 'stuff',\n",
       " 'talk',\n",
       " 'talking',\n",
       " 'tend',\n",
       " 'test',\n",
       " 'thank',\n",
       " 'thanks',\n",
       " 'theyre',\n",
       " 'today',\n",
       " 'told',\n",
       " 'took',\n",
       " 'totally',\n",
       " 'true',\n",
       " 'use',\n",
       " 'used',\n",
       " 'using',\n",
       " 'value',\n",
       " 'video',\n",
       " 'wanted',\n",
       " 'wasnt',\n",
       " 'week',\n",
       " 'weird',\n",
       " 'welcome',\n",
       " 'went',\n",
       " 'whats',\n",
       " 'wish',\n",
       " 'woman',\n",
       " 'wont',\n",
       " 'word',\n",
       " 'working',\n",
       " 'wouldnt',\n",
       " 'wrong',\n",
       " 'yeah']"
      ]
     },
     "execution_count": 57,
     "metadata": {},
     "output_type": "execute_result"
    }
   ],
   "source": [
    "vect_energy = TfidfVectorizer(lowercase=True, \n",
    "                            stop_words='english', \n",
    "                            max_features=195,\n",
    "                            min_df=4,\n",
    "                            max_df=0.5\n",
    "                           )\n",
    "vect_energy.fit(energy_df['lemma'])\n",
    "X_count_energy = vect_energy.transform(energy_df['lemma'])\n",
    "\n",
    "X_count_energy.shape\n",
    "\n",
    "vect_energy.get_feature_names()"
   ]
  },
  {
   "cell_type": "code",
   "execution_count": 58,
   "metadata": {},
   "outputs": [],
   "source": [
    "X = X_count_energy\n",
    "y = energy_df['N']\n",
    "X_train, X_test, y_train, y_test = train_test_split(X, \n",
    "                                                    y,\n",
    "                                                    test_size =0.3,\n",
    "                                                   random_state = 42)"
   ]
  },
  {
   "cell_type": "code",
   "execution_count": 59,
   "metadata": {},
   "outputs": [
    {
     "name": "stderr",
     "output_type": "stream",
     "text": [
      "c:\\Users\\Parthasarathy\\AppData\\Local\\Programs\\Python\\Python39\\lib\\site-packages\\sklearn\\model_selection\\_validation.py:372: FitFailedWarning: \n",
      "50 fits failed out of a total of 100.\n",
      "The score on these train-test partitions for these parameters will be set to nan.\n",
      "If these failures are not expected, you can try to debug them by setting error_score='raise'.\n",
      "\n",
      "Below are more details about the failures:\n",
      "--------------------------------------------------------------------------------\n",
      "50 fits failed with the following error:\n",
      "Traceback (most recent call last):\n",
      "  File \"c:\\Users\\Parthasarathy\\AppData\\Local\\Programs\\Python\\Python39\\lib\\site-packages\\sklearn\\model_selection\\_validation.py\", line 681, in _fit_and_score\n",
      "    estimator.fit(X_train, y_train, **fit_params)\n",
      "  File \"c:\\Users\\Parthasarathy\\AppData\\Local\\Programs\\Python\\Python39\\lib\\site-packages\\sklearn\\linear_model\\_logistic.py\", line 1461, in fit\n",
      "    solver = _check_solver(self.solver, self.penalty, self.dual)\n",
      "  File \"c:\\Users\\Parthasarathy\\AppData\\Local\\Programs\\Python\\Python39\\lib\\site-packages\\sklearn\\linear_model\\_logistic.py\", line 447, in _check_solver\n",
      "    raise ValueError(\n",
      "ValueError: Solver lbfgs supports only 'l2' or 'none' penalties, got l1 penalty.\n",
      "\n",
      "  warnings.warn(some_fits_failed_message, FitFailedWarning)\n",
      "c:\\Users\\Parthasarathy\\AppData\\Local\\Programs\\Python\\Python39\\lib\\site-packages\\sklearn\\model_selection\\_search.py:969: UserWarning: One or more of the test scores are non-finite: [        nan -4.66443625         nan -4.66443625         nan -4.58479086\n",
      "         nan -3.90784101         nan -3.81113772         nan -3.75992009\n",
      "         nan -3.65754539         nan -3.60065629         nan -3.60634973\n",
      "         nan -3.64047108]\n",
      "  warnings.warn(\n"
     ]
    }
   ],
   "source": [
    "best_energy_model = tune_LogReg_model(X_train, y_train)"
   ]
  },
  {
   "cell_type": "code",
   "execution_count": 60,
   "metadata": {},
   "outputs": [
    {
     "data": {
      "text/plain": [
       "{'C': 10, 'penalty': 'l2'}"
      ]
     },
     "execution_count": 60,
     "metadata": {},
     "output_type": "execute_result"
    }
   ],
   "source": [
    "best_energy_model.best_params_"
   ]
  },
  {
   "cell_type": "code",
   "execution_count": 61,
   "metadata": {},
   "outputs": [
    {
     "data": {
      "text/plain": [
       "LogisticRegression(C=10)"
      ]
     },
     "execution_count": 61,
     "metadata": {},
     "output_type": "execute_result"
    }
   ],
   "source": [
    "energy_model = LogisticRegression(C=best_energy_model.best_params_['C'], penalty = best_energy_model.best_params_['penalty'])\n",
    "energy_model.fit(X_train, y_train)"
   ]
  },
  {
   "cell_type": "code",
   "execution_count": 62,
   "metadata": {},
   "outputs": [
    {
     "data": {
      "text/plain": [
       "0.9056324110671937"
      ]
     },
     "execution_count": 62,
     "metadata": {},
     "output_type": "execute_result"
    }
   ],
   "source": [
    "y_pred_train = energy_model.predict(X_train)\n",
    "\n",
    "accuracy_score(y_train, y_pred_train)"
   ]
  },
  {
   "cell_type": "code",
   "execution_count": 63,
   "metadata": {},
   "outputs": [
    {
     "data": {
      "text/plain": [
       "0.9024202842873608"
      ]
     },
     "execution_count": 63,
     "metadata": {},
     "output_type": "execute_result"
    }
   ],
   "source": [
    "y_pred_test = energy_model.predict(X_test)\n",
    "\n",
    "accuracy_score(y_test, y_pred_test)"
   ]
  },
  {
   "cell_type": "code",
   "execution_count": 64,
   "metadata": {},
   "outputs": [
    {
     "data": {
      "text/plain": [
       "array([[ 373,  447],\n",
       "       [ 126, 5126]], dtype=int64)"
      ]
     },
     "execution_count": 64,
     "metadata": {},
     "output_type": "execute_result"
    }
   ],
   "source": [
    "confusion_matrix(y_train, y_pred_train)"
   ]
  },
  {
   "cell_type": "code",
   "execution_count": 65,
   "metadata": {},
   "outputs": [
    {
     "data": {
      "text/plain": [
       "array([[ 163,  214],\n",
       "       [  40, 2186]], dtype=int64)"
      ]
     },
     "execution_count": 65,
     "metadata": {},
     "output_type": "execute_result"
    }
   ],
   "source": [
    "from sklearn import metrics\n",
    "metrics.confusion_matrix(y_test, y_pred_test, labels=[0,1])"
   ]
  },
  {
   "cell_type": "code",
   "execution_count": 66,
   "metadata": {},
   "outputs": [
    {
     "name": "stdout",
     "output_type": "stream",
     "text": [
      "              precision    recall  f1-score   support\n",
      "\n",
      "           0       0.75      0.45      0.57       820\n",
      "           1       0.92      0.98      0.95      5252\n",
      "\n",
      "    accuracy                           0.91      6072\n",
      "   macro avg       0.83      0.72      0.76      6072\n",
      "weighted avg       0.90      0.91      0.90      6072\n",
      "\n"
     ]
    }
   ],
   "source": [
    "print(classification_report(y_train, y_pred_train))"
   ]
  },
  {
   "cell_type": "code",
   "execution_count": 67,
   "metadata": {},
   "outputs": [
    {
     "name": "stdout",
     "output_type": "stream",
     "text": [
      "              precision    recall  f1-score   support\n",
      "\n",
      "           0       0.80      0.43      0.56       377\n",
      "           1       0.91      0.98      0.95      2226\n",
      "\n",
      "    accuracy                           0.90      2603\n",
      "   macro avg       0.86      0.71      0.75      2603\n",
      "weighted avg       0.90      0.90      0.89      2603\n",
      "\n"
     ]
    }
   ],
   "source": [
    "from sklearn import metrics\n",
    "print(metrics.classification_report(y_test, y_pred_test, labels=[0,1]))"
   ]
  },
  {
   "cell_type": "code",
   "execution_count": 68,
   "metadata": {},
   "outputs": [
    {
     "data": {
      "text/plain": [
       "3.259399916721858"
      ]
     },
     "execution_count": 68,
     "metadata": {},
     "output_type": "execute_result"
    }
   ],
   "source": [
    "log_loss(y_train, y_pred_train)"
   ]
  },
  {
   "cell_type": "code",
   "execution_count": 69,
   "metadata": {},
   "outputs": [
    {
     "data": {
      "text/plain": [
       "3.370349718846476"
      ]
     },
     "execution_count": 69,
     "metadata": {},
     "output_type": "execute_result"
    }
   ],
   "source": [
    "log_loss(y_test, y_pred_test)"
   ]
  },
  {
   "cell_type": "code",
   "execution_count": 70,
   "metadata": {},
   "outputs": [
    {
     "name": "stdout",
     "output_type": "stream",
     "text": [
      "Log Loss 3.523616\n",
      "Accuracy 0.897983\n"
     ]
    }
   ],
   "source": [
    "energy_log_loss = cross_val_score(energy_model, X, y, scoring=score_log_loss,cv=4)\n",
    "print('Log Loss %2f' %(-1 * energy_log_loss.mean()))\n",
    "\n",
    "energy_acc = cross_val_score(energy_model, X, y, scoring='accuracy',cv=4,)\n",
    "print('Accuracy %2f' %(energy_acc.mean()))"
   ]
  },
  {
   "cell_type": "code",
   "execution_count": 71,
   "metadata": {},
   "outputs": [
    {
     "data": {
      "image/png": "[encoded data removed]",
      "text/plain": [
       "<Figure size 432x288 with 2 Axes>"
      ]
     },
     "metadata": {
      "needs_background": "light"
     },
     "output_type": "display_data"
    }
   ],
   "source": [
    "from sklearn import metrics\n",
    "from sklearn.metrics import confusion_matrix,plot_confusion_matrix\n",
    "energy_model.fit(X_train, y_train)\n",
    "plot_confusion_matrix(energy_model,X_test,y_test,cmap=plt.cm.Reds,values_format = '.5g', display_labels = [\"Sensing\",\"Intuitive\"])\n",
    "plt.show()"
   ]
  },
  {
   "cell_type": "code",
   "execution_count": 72,
   "metadata": {},
   "outputs": [],
   "source": [
    "# Nature model\n",
    "nature_df = train[['lemma','T']]"
   ]
  },
  {
   "cell_type": "code",
   "execution_count": 73,
   "metadata": {},
   "outputs": [
    {
     "data": {
      "text/plain": [
       "['ability',\n",
       " 'able',\n",
       " 'absolute',\n",
       " 'absolutely',\n",
       " 'absorbed',\n",
       " 'abstract',\n",
       " 'absurd',\n",
       " 'abuse',\n",
       " 'abusive',\n",
       " 'academic',\n",
       " 'accent',\n",
       " 'accept',\n",
       " 'acceptable',\n",
       " 'acceptance',\n",
       " 'accepted',\n",
       " 'accepting',\n",
       " 'access',\n",
       " 'accident',\n",
       " 'accidentally',\n",
       " 'accomplish',\n",
       " 'accomplished',\n",
       " 'according',\n",
       " 'account',\n",
       " 'accuracy',\n",
       " 'accurate',\n",
       " 'accurately',\n",
       " 'accused',\n",
       " 'achieve',\n",
       " 'achievement',\n",
       " 'acknowledge',\n",
       " 'acquaintance',\n",
       " 'act',\n",
       " 'acted',\n",
       " 'acting',\n",
       " 'action',\n",
       " 'active',\n",
       " 'actively',\n",
       " 'activity',\n",
       " 'actor',\n",
       " 'actual',\n",
       " 'ad',\n",
       " 'adam',\n",
       " 'adapt',\n",
       " 'add',\n",
       " 'added',\n",
       " 'addicted',\n",
       " 'addiction',\n",
       " 'adding',\n",
       " 'addition',\n",
       " 'address',\n",
       " 'adhd',\n",
       " 'admire',\n",
       " 'admit',\n",
       " 'admittedly',\n",
       " 'adorable',\n",
       " 'adore',\n",
       " 'adult',\n",
       " 'advance',\n",
       " 'advanced',\n",
       " 'advantage',\n",
       " 'adventure',\n",
       " 'adventurous',\n",
       " 'advice',\n",
       " 'advise',\n",
       " 'advocate',\n",
       " 'aesthetic',\n",
       " 'affect',\n",
       " 'affected',\n",
       " 'affection',\n",
       " 'affectionate',\n",
       " 'affirmation',\n",
       " 'afford',\n",
       " 'afraid',\n",
       " 'afternoon',\n",
       " 'age',\n",
       " 'agenda',\n",
       " 'aggressive',\n",
       " 'agnostic',\n",
       " 'ago',\n",
       " 'agree',\n",
       " 'agreed',\n",
       " 'agreement',\n",
       " 'ah',\n",
       " 'aha',\n",
       " 'ahead',\n",
       " 'ahh',\n",
       " 'ahhh',\n",
       " 'aid',\n",
       " 'aim',\n",
       " 'aint',\n",
       " 'air',\n",
       " 'aka',\n",
       " 'ala',\n",
       " 'alarm',\n",
       " 'albeit',\n",
       " 'album',\n",
       " 'alcohol',\n",
       " 'algebra',\n",
       " 'alice',\n",
       " 'alien',\n",
       " 'alike',\n",
       " 'alive',\n",
       " 'allow',\n",
       " 'allowed',\n",
       " 'allowing',\n",
       " 'allows',\n",
       " 'aloof',\n",
       " 'alot',\n",
       " 'alpha',\n",
       " 'alright',\n",
       " 'alternate',\n",
       " 'alternative',\n",
       " 'amazed',\n",
       " 'amazing',\n",
       " 'amazingly',\n",
       " 'ambition',\n",
       " 'ambitious',\n",
       " 'america',\n",
       " 'american',\n",
       " 'amused',\n",
       " 'amusing',\n",
       " 'analogy',\n",
       " 'analysis',\n",
       " 'analytical',\n",
       " 'analyze',\n",
       " 'analyzing',\n",
       " 'ancient',\n",
       " 'andor',\n",
       " 'androgynous',\n",
       " 'angel',\n",
       " 'anger',\n",
       " 'angle',\n",
       " 'angry',\n",
       " 'animal',\n",
       " 'animated',\n",
       " 'anime',\n",
       " 'anna',\n",
       " 'annoy',\n",
       " 'annoyed',\n",
       " 'annoying',\n",
       " 'annoys',\n",
       " 'anonymous',\n",
       " 'answer',\n",
       " 'answered',\n",
       " 'answering',\n",
       " 'antisocial',\n",
       " 'anxiety',\n",
       " 'anxious',\n",
       " 'anybody',\n",
       " 'anymore',\n",
       " 'anyones',\n",
       " 'anytime',\n",
       " 'anyways',\n",
       " 'ap',\n",
       " 'apart',\n",
       " 'apartment',\n",
       " 'apathetic',\n",
       " 'apathy',\n",
       " 'apologize',\n",
       " 'apology',\n",
       " 'app',\n",
       " 'apparent',\n",
       " 'apparently',\n",
       " 'appeal',\n",
       " 'appealing',\n",
       " 'appear',\n",
       " 'appearance',\n",
       " 'appears',\n",
       " 'apple',\n",
       " 'application',\n",
       " 'applied',\n",
       " 'applies',\n",
       " 'apply',\n",
       " 'applying',\n",
       " 'appreciate',\n",
       " 'appreciated',\n",
       " 'appreciation',\n",
       " 'approach',\n",
       " 'approaching',\n",
       " 'appropriate',\n",
       " 'april',\n",
       " 'archetype',\n",
       " 'area',\n",
       " 'arent',\n",
       " 'argue',\n",
       " 'arguing',\n",
       " 'argument',\n",
       " 'aries',\n",
       " 'arm',\n",
       " 'army',\n",
       " 'arrogance',\n",
       " 'arrogant',\n",
       " 'art',\n",
       " 'article',\n",
       " 'articulate',\n",
       " 'artist',\n",
       " 'artistic',\n",
       " 'artwork',\n",
       " 'asexual',\n",
       " 'ashamed',\n",
       " 'asian',\n",
       " 'aside',\n",
       " 'ask',\n",
       " 'asked',\n",
       " 'asking',\n",
       " 'asks',\n",
       " 'asleep',\n",
       " 'aspect',\n",
       " 'aspergers',\n",
       " 'ass',\n",
       " 'assertive',\n",
       " 'assessment',\n",
       " 'asshole',\n",
       " 'assignment',\n",
       " 'associate',\n",
       " 'associated',\n",
       " 'assume',\n",
       " 'assumed',\n",
       " 'assuming',\n",
       " 'assumption',\n",
       " 'astrology',\n",
       " 'ate',\n",
       " 'atheism',\n",
       " 'atheist',\n",
       " 'atleast',\n",
       " 'atm',\n",
       " 'atmosphere',\n",
       " 'attached',\n",
       " 'attachment',\n",
       " 'attack',\n",
       " 'attempt',\n",
       " 'attempting',\n",
       " 'attend',\n",
       " 'attention',\n",
       " 'attitude',\n",
       " 'attract',\n",
       " 'attracted',\n",
       " 'attraction',\n",
       " 'attractive',\n",
       " 'attribute',\n",
       " 'audience',\n",
       " 'auditory',\n",
       " 'aunt',\n",
       " 'aura',\n",
       " 'australia',\n",
       " 'authentic',\n",
       " 'authenticity',\n",
       " 'author',\n",
       " 'authority',\n",
       " 'autism',\n",
       " 'automatically',\n",
       " 'autumn',\n",
       " 'aux',\n",
       " 'auxiliary',\n",
       " 'available',\n",
       " 'avatar',\n",
       " 'average',\n",
       " 'avoid',\n",
       " 'avoidant',\n",
       " 'avoiding',\n",
       " 'aw',\n",
       " 'awake',\n",
       " 'aware',\n",
       " 'awareness',\n",
       " 'away',\n",
       " 'awesome',\n",
       " 'awful',\n",
       " 'awhile',\n",
       " 'awkward',\n",
       " 'awkwardness',\n",
       " 'aww',\n",
       " 'awww',\n",
       " 'baby',\n",
       " 'bachelor',\n",
       " 'background',\n",
       " 'backwards',\n",
       " 'bacon',\n",
       " 'bad',\n",
       " 'badass',\n",
       " 'badly',\n",
       " 'bag',\n",
       " 'balance',\n",
       " 'balanced',\n",
       " 'ball',\n",
       " 'banana',\n",
       " 'band',\n",
       " 'bang',\n",
       " 'bank',\n",
       " 'banned',\n",
       " 'bar',\n",
       " 'barely',\n",
       " 'base',\n",
       " 'based',\n",
       " 'basic',\n",
       " 'basically',\n",
       " 'basis',\n",
       " 'bass',\n",
       " 'bastard',\n",
       " 'bat',\n",
       " 'bathroom',\n",
       " 'batman',\n",
       " 'battle',\n",
       " 'bc',\n",
       " 'beach',\n",
       " 'bear',\n",
       " 'beard',\n",
       " 'beast',\n",
       " 'beat',\n",
       " 'beating',\n",
       " 'beautiful',\n",
       " 'beauty',\n",
       " 'bed',\n",
       " 'bedroom',\n",
       " 'beer',\n",
       " 'began',\n",
       " 'begin',\n",
       " 'beginning',\n",
       " 'behave',\n",
       " 'behavior',\n",
       " 'behaviour',\n",
       " 'belief',\n",
       " 'believe',\n",
       " 'believed',\n",
       " 'believer',\n",
       " 'believing',\n",
       " 'bell',\n",
       " 'belong',\n",
       " 'beneficial',\n",
       " 'benefit',\n",
       " 'bet',\n",
       " 'bf',\n",
       " 'bias',\n",
       " 'biased',\n",
       " 'bible',\n",
       " 'big',\n",
       " 'bigger',\n",
       " 'biggest',\n",
       " 'bike',\n",
       " 'billion',\n",
       " 'biological',\n",
       " 'biology',\n",
       " 'bipolar',\n",
       " 'bird',\n",
       " 'birth',\n",
       " 'birthday',\n",
       " 'bit',\n",
       " 'bitch',\n",
       " 'bite',\n",
       " 'bitter',\n",
       " 'bizarre',\n",
       " 'black',\n",
       " 'blah',\n",
       " 'blame',\n",
       " 'blank',\n",
       " 'blanket',\n",
       " 'blend',\n",
       " 'blind',\n",
       " 'block',\n",
       " 'blog',\n",
       " 'blonde',\n",
       " 'blood',\n",
       " 'bloody',\n",
       " 'blow',\n",
       " 'blue',\n",
       " 'blunt',\n",
       " 'blushed',\n",
       " 'board',\n",
       " 'boat',\n",
       " 'bob',\n",
       " 'body',\n",
       " 'boil',\n",
       " 'bold',\n",
       " 'bolded',\n",
       " 'bomb',\n",
       " 'bond',\n",
       " 'bone',\n",
       " 'book',\n",
       " 'boot',\n",
       " 'borderline',\n",
       " 'bore',\n",
       " 'bored',\n",
       " 'boredom',\n",
       " 'boring',\n",
       " 'born',\n",
       " 'bos',\n",
       " 'bother',\n",
       " 'bothered',\n",
       " 'bothering',\n",
       " 'bottle',\n",
       " 'bought',\n",
       " 'bounce',\n",
       " 'bound',\n",
       " 'boundary',\n",
       " 'bout',\n",
       " 'bowl',\n",
       " 'box',\n",
       " 'boy',\n",
       " 'boyfriend',\n",
       " 'brain',\n",
       " 'branch',\n",
       " 'brand',\n",
       " 'brave',\n",
       " 'bread',\n",
       " 'break',\n",
       " 'breakdown',\n",
       " 'breakfast',\n",
       " 'breaking',\n",
       " 'breakup',\n",
       " 'breath',\n",
       " 'breathe',\n",
       " 'breathing',\n",
       " 'breed',\n",
       " 'bridge',\n",
       " 'brief',\n",
       " 'briggs',\n",
       " 'bright',\n",
       " 'brilliant',\n",
       " 'bring',\n",
       " 'bringing',\n",
       " 'brings',\n",
       " 'british',\n",
       " 'bro',\n",
       " 'broad',\n",
       " 'broke',\n",
       " 'broken',\n",
       " 'brother',\n",
       " 'brought',\n",
       " 'brown',\n",
       " 'browsing',\n",
       " 'brush',\n",
       " 'btw',\n",
       " 'bubble',\n",
       " 'bubbly',\n",
       " 'buddy',\n",
       " 'bug',\n",
       " 'build',\n",
       " 'building',\n",
       " 'built',\n",
       " 'bullied',\n",
       " 'bullshit',\n",
       " 'bully',\n",
       " 'bullying',\n",
       " 'bump',\n",
       " 'bunch',\n",
       " 'bunny',\n",
       " 'burden',\n",
       " 'burn',\n",
       " 'burned',\n",
       " 'burning',\n",
       " 'burst',\n",
       " 'bus',\n",
       " 'bush',\n",
       " 'business',\n",
       " 'busy',\n",
       " 'butt',\n",
       " 'butter',\n",
       " 'butterfly',\n",
       " 'button',\n",
       " 'buy',\n",
       " 'buying',\n",
       " 'cafe',\n",
       " 'caffeine',\n",
       " 'cake',\n",
       " 'calculus',\n",
       " 'california',\n",
       " 'called',\n",
       " 'calling',\n",
       " 'calm',\n",
       " 'came',\n",
       " 'camera',\n",
       " 'camp',\n",
       " 'campus',\n",
       " 'canada',\n",
       " 'cancer',\n",
       " 'candy',\n",
       " 'cap',\n",
       " 'capable',\n",
       " 'capacity',\n",
       " 'capitalism',\n",
       " 'captain',\n",
       " 'car',\n",
       " 'card',\n",
       " 'care',\n",
       " 'cared',\n",
       " 'career',\n",
       " 'careful',\n",
       " 'carefully',\n",
       " 'caring',\n",
       " 'carl',\n",
       " 'carry',\n",
       " 'cartoon',\n",
       " 'case',\n",
       " 'cash',\n",
       " 'cast',\n",
       " 'castle',\n",
       " 'casual',\n",
       " 'cat',\n",
       " 'catch',\n",
       " 'category',\n",
       " 'catholic',\n",
       " 'caught',\n",
       " 'cause',\n",
       " 'caused',\n",
       " 'causing',\n",
       " 'cautious',\n",
       " 'cave',\n",
       " 'celebrity',\n",
       " 'cell',\n",
       " 'cent',\n",
       " 'center',\n",
       " 'century',\n",
       " 'certain',\n",
       " 'certainly',\n",
       " 'certainty',\n",
       " 'chain',\n",
       " 'chair',\n",
       " 'challenge',\n",
       " 'challenging',\n",
       " 'chameleon',\n",
       " 'chance',\n",
       " 'change',\n",
       " 'changed',\n",
       " 'changing',\n",
       " 'channel',\n",
       " 'chaos',\n",
       " 'chaotic',\n",
       " 'chapter',\n",
       " 'character',\n",
       " 'characteristic',\n",
       " 'charge',\n",
       " 'charm',\n",
       " 'charming',\n",
       " 'chart',\n",
       " 'chase',\n",
       " 'chasing',\n",
       " 'chat',\n",
       " 'chatting',\n",
       " 'cheap',\n",
       " 'cheat',\n",
       " 'cheated',\n",
       " 'cheating',\n",
       " 'check',\n",
       " 'checked',\n",
       " 'checking',\n",
       " 'cheek',\n",
       " 'cheer',\n",
       " 'cheese',\n",
       " 'cheesy',\n",
       " 'chemical',\n",
       " 'chemistry',\n",
       " 'chess',\n",
       " 'chest',\n",
       " 'chick',\n",
       " 'chicken',\n",
       " 'child',\n",
       " 'childhood',\n",
       " 'childish',\n",
       " 'chill',\n",
       " 'china',\n",
       " 'chinese',\n",
       " 'chip',\n",
       " 'chocolate',\n",
       " 'choice',\n",
       " 'choose',\n",
       " 'choosing',\n",
       " 'chose',\n",
       " 'chosen',\n",
       " 'chris',\n",
       " 'christ',\n",
       " 'christian',\n",
       " 'christianity',\n",
       " 'christmas',\n",
       " 'church',\n",
       " 'cigarette',\n",
       " 'circle',\n",
       " 'circumstance',\n",
       " 'city',\n",
       " 'civilization',\n",
       " 'claim',\n",
       " 'claiming',\n",
       " 'clarification',\n",
       " 'clarify',\n",
       " 'clarity',\n",
       " 'clash',\n",
       " 'class',\n",
       " 'classic',\n",
       " 'classical',\n",
       " 'classmate',\n",
       " 'classroom',\n",
       " 'clean',\n",
       " 'cleaning',\n",
       " 'clear',\n",
       " 'clearly',\n",
       " 'clever',\n",
       " 'cliche',\n",
       " 'click',\n",
       " 'clicked',\n",
       " 'clingy',\n",
       " 'clinical',\n",
       " 'clip',\n",
       " 'clock',\n",
       " 'close',\n",
       " 'closed',\n",
       " 'closely',\n",
       " 'closer',\n",
       " 'closest',\n",
       " 'closet',\n",
       " 'clothes',\n",
       " 'clothing',\n",
       " 'cloud',\n",
       " 'club',\n",
       " 'clue',\n",
       " 'clueless',\n",
       " 'clumsy',\n",
       " 'code',\n",
       " 'coffee',\n",
       " 'cognitive',\n",
       " 'coincidence',\n",
       " 'cold',\n",
       " 'colleague',\n",
       " 'collect',\n",
       " 'collection',\n",
       " 'collective',\n",
       " 'college',\n",
       " 'color',\n",
       " 'colour',\n",
       " 'combination',\n",
       " 'combine',\n",
       " 'combined',\n",
       " 'combo',\n",
       " 'comedy',\n",
       " 'comfort',\n",
       " 'comfortable',\n",
       " 'comforting',\n",
       " 'comic',\n",
       " 'coming',\n",
       " 'comment',\n",
       " 'commercial',\n",
       " 'commit',\n",
       " 'commitment',\n",
       " 'committed',\n",
       " 'common',\n",
       " 'commonly',\n",
       " 'communicate',\n",
       " 'communicating',\n",
       " 'communication',\n",
       " 'community',\n",
       " 'company',\n",
       " 'compare',\n",
       " 'compared',\n",
       " 'comparing',\n",
       " 'comparison',\n",
       " 'compassion',\n",
       " 'compassionate',\n",
       " 'compatibility',\n",
       " 'compatible',\n",
       " 'competition',\n",
       " 'competitive',\n",
       " 'complain',\n",
       " 'complaining',\n",
       " 'complaint',\n",
       " 'complete',\n",
       " 'completed',\n",
       " 'completely',\n",
       " 'complex',\n",
       " 'complicated',\n",
       " 'compliment',\n",
       " 'component',\n",
       " 'comprehend',\n",
       " 'compromise',\n",
       " 'computer',\n",
       " 'concentrate',\n",
       " 'concept',\n",
       " 'concern',\n",
       " 'concerned',\n",
       " 'concerning',\n",
       " 'concert',\n",
       " 'conclusion',\n",
       " 'concrete',\n",
       " 'condescending',\n",
       " 'condition',\n",
       " 'confess',\n",
       " 'confession',\n",
       " 'confidence',\n",
       " 'confident',\n",
       " 'confirm',\n",
       " 'confirmed',\n",
       " 'conflict',\n",
       " 'confrontation',\n",
       " 'confuse',\n",
       " 'confused',\n",
       " 'confusing',\n",
       " 'confusion',\n",
       " 'congrats',\n",
       " 'congratulation',\n",
       " 'connect',\n",
       " 'connected',\n",
       " 'connecting',\n",
       " 'connection',\n",
       " 'conscious',\n",
       " 'consciously',\n",
       " 'consciousness',\n",
       " 'consensus',\n",
       " 'consequence',\n",
       " 'conservative',\n",
       " 'consider',\n",
       " 'considerate',\n",
       " 'consideration',\n",
       " 'considered',\n",
       " 'considering',\n",
       " 'consistent',\n",
       " 'consistently',\n",
       " 'conspiracy',\n",
       " 'constant',\n",
       " 'constantly',\n",
       " 'construct',\n",
       " 'constructive',\n",
       " 'contact',\n",
       " 'contemplating',\n",
       " 'content',\n",
       " 'context',\n",
       " 'continue',\n",
       " 'contradiction',\n",
       " 'contrary',\n",
       " 'contrast',\n",
       " 'contribute',\n",
       " 'contribution',\n",
       " 'control',\n",
       " 'controlled',\n",
       " 'controlling',\n",
       " 'conventional',\n",
       " 'conversation',\n",
       " 'convey',\n",
       " 'convince',\n",
       " 'convinced',\n",
       " 'convincing',\n",
       " 'cook',\n",
       " 'cookie',\n",
       " 'cooking',\n",
       " 'cooky',\n",
       " 'cool',\n",
       " 'cop',\n",
       " 'cope',\n",
       " 'coping',\n",
       " 'copy',\n",
       " 'core',\n",
       " 'corner',\n",
       " 'corporate',\n",
       " 'correct',\n",
       " 'correctly',\n",
       " 'correlate',\n",
       " 'correlation',\n",
       " 'cost',\n",
       " 'couch',\n",
       " 'cough',\n",
       " 'counseling',\n",
       " 'counselor',\n",
       " 'count',\n",
       " 'counter',\n",
       " 'country',\n",
       " 'couple',\n",
       " 'courage',\n",
       " 'course',\n",
       " 'cousin',\n",
       " 'cover',\n",
       " 'covered',\n",
       " 'cow',\n",
       " 'coworker',\n",
       " 'coworkers',\n",
       " 'crack',\n",
       " 'crap',\n",
       " 'crappy',\n",
       " 'crash',\n",
       " 'crave',\n",
       " 'crazy',\n",
       " 'cream',\n",
       " 'create',\n",
       " 'created',\n",
       " 'creates',\n",
       " 'creating',\n",
       " 'creation',\n",
       " 'creative',\n",
       " 'creativity',\n",
       " 'creator',\n",
       " 'creature',\n",
       " 'credit',\n",
       " 'creep',\n",
       " 'creepy',\n",
       " 'cried',\n",
       " 'crime',\n",
       " 'criminal',\n",
       " 'cringe',\n",
       " 'crisis',\n",
       " 'criterion',\n",
       " 'critical',\n",
       " 'criticism',\n",
       " 'criticize',\n",
       " 'cross',\n",
       " 'crossed',\n",
       " 'crowd',\n",
       " 'cruel',\n",
       " 'crush',\n",
       " 'crushing',\n",
       " 'cuddle',\n",
       " 'cuddly',\n",
       " 'cue',\n",
       " 'cultural',\n",
       " 'culture',\n",
       " 'cup',\n",
       " 'cure',\n",
       " 'curiosity',\n",
       " 'curious',\n",
       " 'current',\n",
       " 'currently',\n",
       " 'curse',\n",
       " 'customer',\n",
       " 'cut',\n",
       " 'cute',\n",
       " 'cutting',\n",
       " 'cuz',\n",
       " 'cycle',\n",
       " 'cynical',\n",
       " 'da',\n",
       " 'dad',\n",
       " 'daily',\n",
       " 'damage',\n",
       " 'damn',\n",
       " 'dance',\n",
       " 'dancing',\n",
       " 'dang',\n",
       " 'danger',\n",
       " 'dangerous',\n",
       " 'dare',\n",
       " 'dark',\n",
       " 'darker',\n",
       " 'darkness',\n",
       " 'darn',\n",
       " 'data',\n",
       " 'date',\n",
       " 'dated',\n",
       " 'dating',\n",
       " 'daughter',\n",
       " 'david',\n",
       " 'daydream',\n",
       " 'daydreaming',\n",
       " 'dead',\n",
       " 'deadline',\n",
       " 'deal',\n",
       " 'dealing',\n",
       " 'dealt',\n",
       " 'dear',\n",
       " 'death',\n",
       " 'debate',\n",
       " 'debating',\n",
       " 'debt',\n",
       " 'decade',\n",
       " 'decent',\n",
       " 'decide',\n",
       " 'decided',\n",
       " 'deciding',\n",
       " 'decision',\n",
       " 'dedicated',\n",
       " 'deep',\n",
       " 'deeper',\n",
       " 'deeply',\n",
       " 'def',\n",
       " 'default',\n",
       " 'defend',\n",
       " 'defense',\n",
       " 'defensive',\n",
       " 'definately',\n",
       " 'define',\n",
       " 'defined',\n",
       " 'defining',\n",
       " 'definite',\n",
       " 'definitely',\n",
       " 'definition',\n",
       " 'degree',\n",
       " 'delete',\n",
       " 'deleted',\n",
       " 'delicious',\n",
       " 'demand',\n",
       " 'demanding',\n",
       " 'demon',\n",
       " 'deny',\n",
       " 'department',\n",
       " 'depend',\n",
       " 'dependent',\n",
       " 'depending',\n",
       " 'depends',\n",
       " 'depressed',\n",
       " 'depressing',\n",
       " 'depression',\n",
       " 'depth',\n",
       " 'described',\n",
       " 'describes',\n",
       " 'describing',\n",
       " 'description',\n",
       " 'deserve',\n",
       " 'deserves',\n",
       " 'design',\n",
       " 'designed',\n",
       " 'designer',\n",
       " 'desire',\n",
       " 'desk',\n",
       " 'desperate',\n",
       " 'desperately',\n",
       " 'despise',\n",
       " 'despite',\n",
       " 'destroy',\n",
       " 'destructive',\n",
       " 'detached',\n",
       " 'detailed',\n",
       " 'determine',\n",
       " 'determined',\n",
       " 'develop',\n",
       " 'developed',\n",
       " 'developing',\n",
       " 'development',\n",
       " 'device',\n",
       " 'devil',\n",
       " 'diagnosed',\n",
       " 'diagnosis',\n",
       " 'dialogue',\n",
       " 'diary',\n",
       " 'dichotomy',\n",
       " 'dick',\n",
       " 'dictionary',\n",
       " 'die',\n",
       " 'died',\n",
       " 'diet',\n",
       " 'differ',\n",
       " 'difference',\n",
       " 'differently',\n",
       " 'difficult',\n",
       " 'difficulty',\n",
       " 'dig',\n",
       " 'digital',\n",
       " 'dilemma',\n",
       " 'dimension',\n",
       " 'dinner',\n",
       " 'direct',\n",
       " 'directed',\n",
       " 'direction',\n",
       " 'directly',\n",
       " 'director',\n",
       " 'dirty',\n",
       " 'disagree',\n",
       " 'disappear',\n",
       " 'disappointed',\n",
       " 'disaster',\n",
       " 'discipline',\n",
       " 'disclaimer',\n",
       " 'discover',\n",
       " 'discovered',\n",
       " 'discovering',\n",
       " 'discovery',\n",
       " 'discus',\n",
       " 'discussed',\n",
       " 'discussing',\n",
       " 'discussion',\n",
       " 'disease',\n",
       " 'disgusting',\n",
       " 'dish',\n",
       " 'dislike',\n",
       " 'dismiss',\n",
       " 'disney',\n",
       " 'disorder',\n",
       " 'display',\n",
       " 'disregard',\n",
       " 'distance',\n",
       " 'distant',\n",
       " 'distinct',\n",
       " 'distinction',\n",
       " 'distracted',\n",
       " 'distraction',\n",
       " 'disturbing',\n",
       " 'ditto',\n",
       " 'divorce',\n",
       " 'doctor',\n",
       " 'documentary',\n",
       " 'dog',\n",
       " 'doll',\n",
       " 'dollar',\n",
       " 'dom',\n",
       " 'dominance',\n",
       " 'dominant',\n",
       " 'dominate',\n",
       " 'doms',\n",
       " 'don',\n",
       " 'door',\n",
       " 'dot',\n",
       " 'double',\n",
       " 'doubt',\n",
       " 'doubting',\n",
       " 'dozen',\n",
       " 'dr',\n",
       " 'drag',\n",
       " 'dragon',\n",
       " 'drain',\n",
       " ...]"
      ]
     },
     "execution_count": 73,
     "metadata": {},
     "output_type": "execute_result"
    }
   ],
   "source": [
    "vect_nature = TfidfVectorizer(lowercase=True, \n",
    "                            stop_words='english', \n",
    "                            max_features=3900,\n",
    "                            min_df=4,\n",
    "                            max_df=0.5\n",
    "                           )\n",
    "vect_nature.fit(nature_df['lemma'])\n",
    "X_count_nature = vect_nature.transform(nature_df['lemma'])\n",
    "\n",
    "X_count_nature.shape\n",
    "\n",
    "vect_nature.get_feature_names()"
   ]
  },
  {
   "cell_type": "code",
   "execution_count": 74,
   "metadata": {},
   "outputs": [],
   "source": [
    "X = X_count_nature\n",
    "y = nature_df['T']\n",
    "X_train, X_test, y_train, y_test = train_test_split(X, \n",
    "                                                    y,\n",
    "                                                    test_size =0.3,\n",
    "                                                   random_state = 42)"
   ]
  },
  {
   "cell_type": "code",
   "execution_count": 75,
   "metadata": {},
   "outputs": [
    {
     "name": "stderr",
     "output_type": "stream",
     "text": [
      "c:\\Users\\Parthasarathy\\AppData\\Local\\Programs\\Python\\Python39\\lib\\site-packages\\sklearn\\linear_model\\_logistic.py:814: ConvergenceWarning: lbfgs failed to converge (status=1):\n",
      "STOP: TOTAL NO. of ITERATIONS REACHED LIMIT.\n",
      "\n",
      "Increase the number of iterations (max_iter) or scale the data as shown in:\n",
      "    https://scikit-learn.org/stable/modules/preprocessing.html\n",
      "Please also refer to the documentation for alternative solver options:\n",
      "    https://scikit-learn.org/stable/modules/linear_model.html#logistic-regression\n",
      "  n_iter_i = _check_optimize_result(\n",
      "c:\\Users\\Parthasarathy\\AppData\\Local\\Programs\\Python\\Python39\\lib\\site-packages\\sklearn\\linear_model\\_logistic.py:814: ConvergenceWarning: lbfgs failed to converge (status=1):\n",
      "STOP: TOTAL NO. of ITERATIONS REACHED LIMIT.\n",
      "\n",
      "Increase the number of iterations (max_iter) or scale the data as shown in:\n",
      "    https://scikit-learn.org/stable/modules/preprocessing.html\n",
      "Please also refer to the documentation for alternative solver options:\n",
      "    https://scikit-learn.org/stable/modules/linear_model.html#logistic-regression\n",
      "  n_iter_i = _check_optimize_result(\n",
      "c:\\Users\\Parthasarathy\\AppData\\Local\\Programs\\Python\\Python39\\lib\\site-packages\\sklearn\\linear_model\\_logistic.py:814: ConvergenceWarning: lbfgs failed to converge (status=1):\n",
      "STOP: TOTAL NO. of ITERATIONS REACHED LIMIT.\n",
      "\n",
      "Increase the number of iterations (max_iter) or scale the data as shown in:\n",
      "    https://scikit-learn.org/stable/modules/preprocessing.html\n",
      "Please also refer to the documentation for alternative solver options:\n",
      "    https://scikit-learn.org/stable/modules/linear_model.html#logistic-regression\n",
      "  n_iter_i = _check_optimize_result(\n",
      "c:\\Users\\Parthasarathy\\AppData\\Local\\Programs\\Python\\Python39\\lib\\site-packages\\sklearn\\linear_model\\_logistic.py:814: ConvergenceWarning: lbfgs failed to converge (status=1):\n",
      "STOP: TOTAL NO. of ITERATIONS REACHED LIMIT.\n",
      "\n",
      "Increase the number of iterations (max_iter) or scale the data as shown in:\n",
      "    https://scikit-learn.org/stable/modules/preprocessing.html\n",
      "Please also refer to the documentation for alternative solver options:\n",
      "    https://scikit-learn.org/stable/modules/linear_model.html#logistic-regression\n",
      "  n_iter_i = _check_optimize_result(\n",
      "c:\\Users\\Parthasarathy\\AppData\\Local\\Programs\\Python\\Python39\\lib\\site-packages\\sklearn\\linear_model\\_logistic.py:814: ConvergenceWarning: lbfgs failed to converge (status=1):\n",
      "STOP: TOTAL NO. of ITERATIONS REACHED LIMIT.\n",
      "\n",
      "Increase the number of iterations (max_iter) or scale the data as shown in:\n",
      "    https://scikit-learn.org/stable/modules/preprocessing.html\n",
      "Please also refer to the documentation for alternative solver options:\n",
      "    https://scikit-learn.org/stable/modules/linear_model.html#logistic-regression\n",
      "  n_iter_i = _check_optimize_result(\n",
      "c:\\Users\\Parthasarathy\\AppData\\Local\\Programs\\Python\\Python39\\lib\\site-packages\\sklearn\\linear_model\\_logistic.py:814: ConvergenceWarning: lbfgs failed to converge (status=1):\n",
      "STOP: TOTAL NO. of ITERATIONS REACHED LIMIT.\n",
      "\n",
      "Increase the number of iterations (max_iter) or scale the data as shown in:\n",
      "    https://scikit-learn.org/stable/modules/preprocessing.html\n",
      "Please also refer to the documentation for alternative solver options:\n",
      "    https://scikit-learn.org/stable/modules/linear_model.html#logistic-regression\n",
      "  n_iter_i = _check_optimize_result(\n",
      "c:\\Users\\Parthasarathy\\AppData\\Local\\Programs\\Python\\Python39\\lib\\site-packages\\sklearn\\linear_model\\_logistic.py:814: ConvergenceWarning: lbfgs failed to converge (status=1):\n",
      "STOP: TOTAL NO. of ITERATIONS REACHED LIMIT.\n",
      "\n",
      "Increase the number of iterations (max_iter) or scale the data as shown in:\n",
      "    https://scikit-learn.org/stable/modules/preprocessing.html\n",
      "Please also refer to the documentation for alternative solver options:\n",
      "    https://scikit-learn.org/stable/modules/linear_model.html#logistic-regression\n",
      "  n_iter_i = _check_optimize_result(\n",
      "c:\\Users\\Parthasarathy\\AppData\\Local\\Programs\\Python\\Python39\\lib\\site-packages\\sklearn\\linear_model\\_logistic.py:814: ConvergenceWarning: lbfgs failed to converge (status=1):\n",
      "STOP: TOTAL NO. of ITERATIONS REACHED LIMIT.\n",
      "\n",
      "Increase the number of iterations (max_iter) or scale the data as shown in:\n",
      "    https://scikit-learn.org/stable/modules/preprocessing.html\n",
      "Please also refer to the documentation for alternative solver options:\n",
      "    https://scikit-learn.org/stable/modules/linear_model.html#logistic-regression\n",
      "  n_iter_i = _check_optimize_result(\n",
      "c:\\Users\\Parthasarathy\\AppData\\Local\\Programs\\Python\\Python39\\lib\\site-packages\\sklearn\\model_selection\\_validation.py:372: FitFailedWarning: \n",
      "50 fits failed out of a total of 100.\n",
      "The score on these train-test partitions for these parameters will be set to nan.\n",
      "If these failures are not expected, you can try to debug them by setting error_score='raise'.\n",
      "\n",
      "Below are more details about the failures:\n",
      "--------------------------------------------------------------------------------\n",
      "50 fits failed with the following error:\n",
      "Traceback (most recent call last):\n",
      "  File \"c:\\Users\\Parthasarathy\\AppData\\Local\\Programs\\Python\\Python39\\lib\\site-packages\\sklearn\\model_selection\\_validation.py\", line 681, in _fit_and_score\n",
      "    estimator.fit(X_train, y_train, **fit_params)\n",
      "  File \"c:\\Users\\Parthasarathy\\AppData\\Local\\Programs\\Python\\Python39\\lib\\site-packages\\sklearn\\linear_model\\_logistic.py\", line 1461, in fit\n",
      "    solver = _check_solver(self.solver, self.penalty, self.dual)\n",
      "  File \"c:\\Users\\Parthasarathy\\AppData\\Local\\Programs\\Python\\Python39\\lib\\site-packages\\sklearn\\linear_model\\_logistic.py\", line 447, in _check_solver\n",
      "    raise ValueError(\n",
      "ValueError: Solver lbfgs supports only 'l2' or 'none' penalties, got l1 penalty.\n",
      "\n",
      "  warnings.warn(some_fits_failed_message, FitFailedWarning)\n",
      "c:\\Users\\Parthasarathy\\AppData\\Local\\Programs\\Python\\Python39\\lib\\site-packages\\sklearn\\model_selection\\_search.py:969: UserWarning: One or more of the test scores are non-finite: [         nan -15.89284347          nan -15.32968506          nan\n",
      "  -5.38099307          nan  -4.73827064          nan  -4.74964288\n",
      "          nan  -4.81791122          nan  -5.37536859          nan\n",
      "  -5.65982534          nan  -6.04658188          nan  -6.46177344]\n",
      "  warnings.warn(\n"
     ]
    }
   ],
   "source": [
    "best_nature_model = tune_LogReg_model(X_train, y_train)"
   ]
  },
  {
   "cell_type": "code",
   "execution_count": 76,
   "metadata": {},
   "outputs": [
    {
     "data": {
      "text/plain": [
       "{'C': 0.5, 'penalty': 'l2'}"
      ]
     },
     "execution_count": 76,
     "metadata": {},
     "output_type": "execute_result"
    }
   ],
   "source": [
    "best_nature_model.best_params_"
   ]
  },
  {
   "cell_type": "code",
   "execution_count": 77,
   "metadata": {},
   "outputs": [
    {
     "data": {
      "text/plain": [
       "LogisticRegression(C=0.5)"
      ]
     },
     "execution_count": 77,
     "metadata": {},
     "output_type": "execute_result"
    }
   ],
   "source": [
    "nature_model = LogisticRegression(C=best_nature_model.best_params_['C'], penalty = best_nature_model.best_params_['penalty'])\n",
    "nature_model.fit(X_train, y_train)"
   ]
  },
  {
   "cell_type": "code",
   "execution_count": 78,
   "metadata": {},
   "outputs": [
    {
     "data": {
      "text/plain": [
       "0.9015151515151515"
      ]
     },
     "execution_count": 78,
     "metadata": {},
     "output_type": "execute_result"
    }
   ],
   "source": [
    "y_pred_train = nature_model.predict(X_train)\n",
    "accuracy_score(y_train, y_pred_train)"
   ]
  },
  {
   "cell_type": "code",
   "execution_count": 79,
   "metadata": {},
   "outputs": [
    {
     "data": {
      "text/plain": [
       "0.8482520169035728"
      ]
     },
     "execution_count": 79,
     "metadata": {},
     "output_type": "execute_result"
    }
   ],
   "source": [
    "y_pred_test = nature_model.predict(X_test)\n",
    "\n",
    "accuracy_score(y_test, y_pred_test)"
   ]
  },
  {
   "cell_type": "code",
   "execution_count": 80,
   "metadata": {},
   "outputs": [
    {
     "data": {
      "text/plain": [
       "array([[2994,  284],\n",
       "       [ 314, 2480]], dtype=int64)"
      ]
     },
     "execution_count": 80,
     "metadata": {},
     "output_type": "execute_result"
    }
   ],
   "source": [
    "confusion_matrix(y_train, y_pred_train)"
   ]
  },
  {
   "cell_type": "code",
   "execution_count": 81,
   "metadata": {},
   "outputs": [
    {
     "data": {
      "text/plain": [
       "array([[1226,  190],\n",
       "       [ 205,  982]], dtype=int64)"
      ]
     },
     "execution_count": 81,
     "metadata": {},
     "output_type": "execute_result"
    }
   ],
   "source": [
    "from sklearn import metrics\n",
    "metrics.confusion_matrix(y_test, y_pred_test, labels=[0,1])"
   ]
  },
  {
   "cell_type": "code",
   "execution_count": 82,
   "metadata": {},
   "outputs": [
    {
     "name": "stdout",
     "output_type": "stream",
     "text": [
      "              precision    recall  f1-score   support\n",
      "\n",
      "           0       0.91      0.91      0.91      3278\n",
      "           1       0.90      0.89      0.89      2794\n",
      "\n",
      "    accuracy                           0.90      6072\n",
      "   macro avg       0.90      0.90      0.90      6072\n",
      "weighted avg       0.90      0.90      0.90      6072\n",
      "\n"
     ]
    }
   ],
   "source": [
    "print(classification_report(y_train, y_pred_train))"
   ]
  },
  {
   "cell_type": "code",
   "execution_count": 83,
   "metadata": {},
   "outputs": [
    {
     "name": "stdout",
     "output_type": "stream",
     "text": [
      "              precision    recall  f1-score   support\n",
      "\n",
      "           0       0.86      0.87      0.86      1416\n",
      "           1       0.84      0.83      0.83      1187\n",
      "\n",
      "    accuracy                           0.85      2603\n",
      "   macro avg       0.85      0.85      0.85      2603\n",
      "weighted avg       0.85      0.85      0.85      2603\n",
      "\n"
     ]
    }
   ],
   "source": [
    "from sklearn import metrics\n",
    "print(metrics.classification_report(y_test, y_pred_test, labels=[0,1]))"
   ]
  },
  {
   "cell_type": "code",
   "execution_count": 84,
   "metadata": {},
   "outputs": [
    {
     "data": {
      "text/plain": [
       "3.401583558930627"
      ]
     },
     "execution_count": 84,
     "metadata": {},
     "output_type": "execute_result"
    }
   ],
   "source": [
    "log_loss(y_train, y_pred_train)"
   ]
  },
  {
   "cell_type": "code",
   "execution_count": 85,
   "metadata": {},
   "outputs": [
    {
     "data": {
      "text/plain": [
       "5.241248021322112"
      ]
     },
     "execution_count": 85,
     "metadata": {},
     "output_type": "execute_result"
    }
   ],
   "source": [
    "log_loss(y_test, y_pred_test)"
   ]
  },
  {
   "cell_type": "code",
   "execution_count": 86,
   "metadata": {},
   "outputs": [
    {
     "name": "stdout",
     "output_type": "stream",
     "text": [
      "Log Loss 4.809612\n",
      "Accuracy 0.860749\n"
     ]
    }
   ],
   "source": [
    "nature_log_loss = cross_val_score(nature_model, X, y, scoring=score_log_loss,cv=4,)\n",
    "print('Log Loss %2f' %(-1 * nature_log_loss.mean()))\n",
    "\n",
    "nature_acc = cross_val_score(nature_model, X, y, scoring='accuracy',cv=4,)\n",
    "print('Accuracy %2f' %(nature_acc.mean()))"
   ]
  },
  {
   "cell_type": "code",
   "execution_count": 87,
   "metadata": {},
   "outputs": [
    {
     "data": {
      "image/png": "[encoded data removed]",
      "text/plain": [
       "<Figure size 432x288 with 2 Axes>"
      ]
     },
     "metadata": {
      "needs_background": "light"
     },
     "output_type": "display_data"
    }
   ],
   "source": [
    "from sklearn.metrics import confusion_matrix,plot_confusion_matrix\n",
    "nature_model.fit(X_train, y_train)\n",
    "plot_confusion_matrix(nature_model,X_test,y_test,cmap=plt.cm.Blues,values_format = '.5g', display_labels = [\"Feeling\",\"Thinking\"])\n",
    "plt.show()"
   ]
  },
  {
   "cell_type": "code",
   "execution_count": 88,
   "metadata": {},
   "outputs": [],
   "source": [
    "# Tactics model\n",
    "tactics_df = train[['lemma','J']]"
   ]
  },
  {
   "cell_type": "code",
   "execution_count": 89,
   "metadata": {},
   "outputs": [
    {
     "data": {
      "text/plain": [
       "['able',\n",
       " 'absolutely',\n",
       " 'act',\n",
       " 'advice',\n",
       " 'age',\n",
       " 'ago',\n",
       " 'agree',\n",
       " 'answer',\n",
       " 'arent',\n",
       " 'ask',\n",
       " 'away',\n",
       " 'awesome',\n",
       " 'bad',\n",
       " 'based',\n",
       " 'believe',\n",
       " 'big',\n",
       " 'bit',\n",
       " 'book',\n",
       " 'called',\n",
       " 'came',\n",
       " 'care',\n",
       " 'case',\n",
       " 'cause',\n",
       " 'certain',\n",
       " 'change',\n",
       " 'character',\n",
       " 'child',\n",
       " 'class',\n",
       " 'close',\n",
       " 'college',\n",
       " 'common',\n",
       " 'completely',\n",
       " 'consider',\n",
       " 'conversation',\n",
       " 'cool',\n",
       " 'couple',\n",
       " 'course',\n",
       " 'crazy',\n",
       " 'dad',\n",
       " 'deal',\n",
       " 'definitely',\n",
       " 'depends',\n",
       " 'description',\n",
       " 'difference',\n",
       " 'difficult',\n",
       " 'dream',\n",
       " 'easy',\n",
       " 'emotion',\n",
       " 'emotional',\n",
       " 'end',\n",
       " 'enfj',\n",
       " 'enfp',\n",
       " 'enfps',\n",
       " 'enjoy',\n",
       " 'entj',\n",
       " 'entp',\n",
       " 'entps',\n",
       " 'esfj',\n",
       " 'esfp',\n",
       " 'especially',\n",
       " 'estp',\n",
       " 'exactly',\n",
       " 'example',\n",
       " 'experience',\n",
       " 'eye',\n",
       " 'face',\n",
       " 'fact',\n",
       " 'family',\n",
       " 'far',\n",
       " 'favorite',\n",
       " 'fe',\n",
       " 'felt',\n",
       " 'female',\n",
       " 'fi',\n",
       " 'figure',\n",
       " 'fit',\n",
       " 'forum',\n",
       " 'fun',\n",
       " 'function',\n",
       " 'funny',\n",
       " 'game',\n",
       " 'general',\n",
       " 'generally',\n",
       " 'getting',\n",
       " 'girl',\n",
       " 'god',\n",
       " 'great',\n",
       " 'group',\n",
       " 'guess',\n",
       " 'haha',\n",
       " 'hand',\n",
       " 'happy',\n",
       " 'hate',\n",
       " 'havent',\n",
       " 'having',\n",
       " 'head',\n",
       " 'hear',\n",
       " 'heard',\n",
       " 'heart',\n",
       " 'hell',\n",
       " 'hello',\n",
       " 'hey',\n",
       " 'hi',\n",
       " 'high',\n",
       " 'home',\n",
       " 'honestly',\n",
       " 'hope',\n",
       " 'hour',\n",
       " 'house',\n",
       " 'human',\n",
       " 'hurt',\n",
       " 'important',\n",
       " 'infj',\n",
       " 'infjs',\n",
       " 'infp',\n",
       " 'infps',\n",
       " 'instead',\n",
       " 'interested',\n",
       " 'interesting',\n",
       " 'intj',\n",
       " 'intjs',\n",
       " 'intp',\n",
       " 'intps',\n",
       " 'isfj',\n",
       " 'isfp',\n",
       " 'isnt',\n",
       " 'issue',\n",
       " 'istj',\n",
       " 'istp',\n",
       " 'job',\n",
       " 'kid',\n",
       " 'laughing',\n",
       " 'le',\n",
       " 'learn',\n",
       " 'level',\n",
       " 'likely',\n",
       " 'live',\n",
       " 'lol',\n",
       " 'looking',\n",
       " 'making',\n",
       " 'male',\n",
       " 'man',\n",
       " 'matter',\n",
       " 'mbti',\n",
       " 'meet',\n",
       " 'met',\n",
       " 'mom',\n",
       " 'moment',\n",
       " 'month',\n",
       " 'mother',\n",
       " 'movie',\n",
       " 'music',\n",
       " 'ne',\n",
       " 'new',\n",
       " 'ni',\n",
       " 'nice',\n",
       " 'night',\n",
       " 'oh',\n",
       " 'ok',\n",
       " 'okay',\n",
       " 'old',\n",
       " 'open',\n",
       " 'opinion',\n",
       " 'parent',\n",
       " 'past',\n",
       " 'personal',\n",
       " 'personality',\n",
       " 'personally',\n",
       " 'picture',\n",
       " 'place',\n",
       " 'play',\n",
       " 'possible',\n",
       " 'prefer',\n",
       " 'quite',\n",
       " 'reading',\n",
       " 'real',\n",
       " 'reason',\n",
       " 'recently',\n",
       " 'relate',\n",
       " 'relationship',\n",
       " 'remember',\n",
       " 'response',\n",
       " 'result',\n",
       " 'sad',\n",
       " 'saw',\n",
       " 'saying',\n",
       " 'school',\n",
       " 'se',\n",
       " 'second',\n",
       " 'seen',\n",
       " 'self',\n",
       " 'sense',\n",
       " 'seriously',\n",
       " 'sex',\n",
       " 'share',\n",
       " 'shes',\n",
       " 'shit',\n",
       " 'similar',\n",
       " 'situation',\n",
       " 'sleep',\n",
       " 'small',\n",
       " 'social',\n",
       " 'song',\n",
       " 'sorry',\n",
       " 'sort',\n",
       " 'start',\n",
       " 'started',\n",
       " 'stop',\n",
       " 'story',\n",
       " 'strong',\n",
       " 'stuff',\n",
       " 'taking',\n",
       " 'talk',\n",
       " 'talking',\n",
       " 'tend',\n",
       " 'term',\n",
       " 'test',\n",
       " 'thank',\n",
       " 'thanks',\n",
       " 'theory',\n",
       " 'theyre',\n",
       " 'ti',\n",
       " 'today',\n",
       " 'told',\n",
       " 'tongue',\n",
       " 'took',\n",
       " 'topic',\n",
       " 'totally',\n",
       " 'tried',\n",
       " 'true',\n",
       " 'turn',\n",
       " 'unless',\n",
       " 'use',\n",
       " 'used',\n",
       " 'using',\n",
       " 'value',\n",
       " 'video',\n",
       " 'view',\n",
       " 'wanted',\n",
       " 'wasnt',\n",
       " 'watch',\n",
       " 'week',\n",
       " 'weird',\n",
       " 'welcome',\n",
       " 'went',\n",
       " 'whats',\n",
       " 'wish',\n",
       " 'woman',\n",
       " 'wonder',\n",
       " 'wont',\n",
       " 'word',\n",
       " 'working',\n",
       " 'wouldnt',\n",
       " 'wow',\n",
       " 'write',\n",
       " 'writing',\n",
       " 'wrong',\n",
       " 'xd',\n",
       " 'yeah',\n",
       " 'youve']"
      ]
     },
     "execution_count": 89,
     "metadata": {},
     "output_type": "execute_result"
    }
   ],
   "source": [
    "vect_tactics = TfidfVectorizer(lowercase=True, \n",
    "                            stop_words='english', \n",
    "                            max_features=260,\n",
    "                            min_df=4,\n",
    "                            max_df=0.5\n",
    "                           )\n",
    "vect_tactics.fit(tactics_df['lemma'])\n",
    "X_count_tactics = vect_tactics.transform(tactics_df['lemma'])\n",
    "\n",
    "X_count_tactics.shape\n",
    "\n",
    "vect_tactics.get_feature_names()"
   ]
  },
  {
   "cell_type": "code",
   "execution_count": 90,
   "metadata": {},
   "outputs": [],
   "source": [
    "X = X_count_tactics\n",
    "y = tactics_df['J']\n",
    "X_train, X_test, y_train, y_test = train_test_split(X, \n",
    "                                                    y,\n",
    "                                                    test_size =0.3,\n",
    "                                                   random_state = 42)"
   ]
  },
  {
   "cell_type": "code",
   "execution_count": 91,
   "metadata": {},
   "outputs": [
    {
     "name": "stderr",
     "output_type": "stream",
     "text": [
      "c:\\Users\\Parthasarathy\\AppData\\Local\\Programs\\Python\\Python39\\lib\\site-packages\\sklearn\\model_selection\\_validation.py:372: FitFailedWarning: \n",
      "50 fits failed out of a total of 100.\n",
      "The score on these train-test partitions for these parameters will be set to nan.\n",
      "If these failures are not expected, you can try to debug them by setting error_score='raise'.\n",
      "\n",
      "Below are more details about the failures:\n",
      "--------------------------------------------------------------------------------\n",
      "50 fits failed with the following error:\n",
      "Traceback (most recent call last):\n",
      "  File \"c:\\Users\\Parthasarathy\\AppData\\Local\\Programs\\Python\\Python39\\lib\\site-packages\\sklearn\\model_selection\\_validation.py\", line 681, in _fit_and_score\n",
      "    estimator.fit(X_train, y_train, **fit_params)\n",
      "  File \"c:\\Users\\Parthasarathy\\AppData\\Local\\Programs\\Python\\Python39\\lib\\site-packages\\sklearn\\linear_model\\_logistic.py\", line 1461, in fit\n",
      "    solver = _check_solver(self.solver, self.penalty, self.dual)\n",
      "  File \"c:\\Users\\Parthasarathy\\AppData\\Local\\Programs\\Python\\Python39\\lib\\site-packages\\sklearn\\linear_model\\_logistic.py\", line 447, in _check_solver\n",
      "    raise ValueError(\n",
      "ValueError: Solver lbfgs supports only 'l2' or 'none' penalties, got l1 penalty.\n",
      "\n",
      "  warnings.warn(some_fits_failed_message, FitFailedWarning)\n",
      "c:\\Users\\Parthasarathy\\AppData\\Local\\Programs\\Python\\Python39\\lib\\site-packages\\sklearn\\model_selection\\_search.py:969: UserWarning: One or more of the test scores are non-finite: [         nan -13.74838636          nan -13.41279884          nan\n",
      "  -7.935085            nan  -7.12167121          nan  -7.07620578\n",
      "          nan  -7.08759781          nan  -7.26968136          nan\n",
      "  -7.32087036          nan  -7.33792278          nan  -7.34929852]\n",
      "  warnings.warn(\n"
     ]
    }
   ],
   "source": [
    "best_tactics_model = tune_LogReg_model(X_train, y_train)"
   ]
  },
  {
   "cell_type": "code",
   "execution_count": 92,
   "metadata": {},
   "outputs": [
    {
     "data": {
      "text/plain": [
       "{'C': 0.75, 'penalty': 'l2'}"
      ]
     },
     "execution_count": 92,
     "metadata": {},
     "output_type": "execute_result"
    }
   ],
   "source": [
    "best_tactics_model.best_params_"
   ]
  },
  {
   "cell_type": "code",
   "execution_count": 93,
   "metadata": {},
   "outputs": [
    {
     "data": {
      "text/plain": [
       "LogisticRegression(C=0.75)"
      ]
     },
     "execution_count": 93,
     "metadata": {},
     "output_type": "execute_result"
    }
   ],
   "source": [
    "tactics_model = LogisticRegression(C=best_tactics_model.best_params_['C'], penalty = best_tactics_model.best_params_['penalty'])\n",
    "tactics_model.fit(X_train, y_train)"
   ]
  },
  {
   "cell_type": "code",
   "execution_count": 94,
   "metadata": {},
   "outputs": [
    {
     "data": {
      "text/plain": [
       "0.8165349143610013"
      ]
     },
     "execution_count": 94,
     "metadata": {},
     "output_type": "execute_result"
    }
   ],
   "source": [
    "y_pred_train = tactics_model.predict(X_train)\n",
    "\n",
    "accuracy_score(y_train, y_pred_train)"
   ]
  },
  {
   "cell_type": "code",
   "execution_count": 95,
   "metadata": {},
   "outputs": [
    {
     "data": {
      "text/plain": [
       "0.7990779869381482"
      ]
     },
     "execution_count": 95,
     "metadata": {},
     "output_type": "execute_result"
    }
   ],
   "source": [
    "y_pred_test = tactics_model.predict(X_test)\n",
    "\n",
    "accuracy_score(y_test, y_pred_test)"
   ]
  },
  {
   "cell_type": "code",
   "execution_count": 96,
   "metadata": {},
   "outputs": [
    {
     "data": {
      "text/plain": [
       "array([[1656,  761],\n",
       "       [ 353, 3302]], dtype=int64)"
      ]
     },
     "execution_count": 96,
     "metadata": {},
     "output_type": "execute_result"
    }
   ],
   "source": [
    "from sklearn import metrics\n",
    "metrics.confusion_matrix(y_train, y_pred_train, labels=[1,0])"
   ]
  },
  {
   "cell_type": "code",
   "execution_count": 97,
   "metadata": {},
   "outputs": [
    {
     "data": {
      "text/plain": [
       "array([[1425,  161],\n",
       "       [ 362,  655]], dtype=int64)"
      ]
     },
     "execution_count": 97,
     "metadata": {},
     "output_type": "execute_result"
    }
   ],
   "source": [
    "from sklearn import metrics\n",
    "metrics.confusion_matrix(y_test, y_pred_test, labels=[0,1])\n",
    "# confusion_matrix()"
   ]
  },
  {
   "cell_type": "code",
   "execution_count": 98,
   "metadata": {},
   "outputs": [
    {
     "name": "stdout",
     "output_type": "stream",
     "text": [
      "              precision    recall  f1-score   support\n",
      "\n",
      "           0       0.81      0.90      0.86      3655\n",
      "           1       0.82      0.69      0.75      2417\n",
      "\n",
      "    accuracy                           0.82      6072\n",
      "   macro avg       0.82      0.79      0.80      6072\n",
      "weighted avg       0.82      0.82      0.81      6072\n",
      "\n"
     ]
    }
   ],
   "source": [
    "print(classification_report(y_train, y_pred_train))"
   ]
  },
  {
   "cell_type": "code",
   "execution_count": 99,
   "metadata": {},
   "outputs": [
    {
     "name": "stdout",
     "output_type": "stream",
     "text": [
      "              precision    recall  f1-score   support\n",
      "\n",
      "           0       0.80      0.90      0.84      1586\n",
      "           1       0.80      0.64      0.71      1017\n",
      "\n",
      "    accuracy                           0.80      2603\n",
      "   macro avg       0.80      0.77      0.78      2603\n",
      "weighted avg       0.80      0.80      0.79      2603\n",
      "\n"
     ]
    }
   ],
   "source": [
    "from sklearn import metrics\n",
    "print(metrics.classification_report(y_test, y_pred_test, labels=[0,1]))"
   ]
  },
  {
   "cell_type": "code",
   "execution_count": 100,
   "metadata": {},
   "outputs": [
    {
     "data": {
      "text/plain": [
       "6.336706054318736"
      ]
     },
     "execution_count": 100,
     "metadata": {},
     "output_type": "execute_result"
    }
   ],
   "source": [
    "log_loss(y_train, y_pred_train)"
   ]
  },
  {
   "cell_type": "code",
   "execution_count": 101,
   "metadata": {},
   "outputs": [
    {
     "data": {
      "text/plain": [
       "6.9396499384266415"
      ]
     },
     "execution_count": 101,
     "metadata": {},
     "output_type": "execute_result"
    }
   ],
   "source": [
    "log_loss(y_test, y_pred_test)"
   ]
  },
  {
   "cell_type": "code",
   "execution_count": 102,
   "metadata": {},
   "outputs": [
    {
     "name": "stdout",
     "output_type": "stream",
     "text": [
      "Log Loss 6.879968\n",
      "Accuracy 0.800806\n"
     ]
    }
   ],
   "source": [
    "tactics_log_loss = cross_val_score(tactics_model, X, y, scoring=score_log_loss,cv=4,)\n",
    "print('Log Loss %2f' %(-1 * tactics_log_loss.mean()))\n",
    "\n",
    "tactics_acc = cross_val_score(tactics_model, X, y, scoring='accuracy',cv=4,)\n",
    "print('Accuracy %2f' %(tactics_acc.mean()))"
   ]
  },
  {
   "cell_type": "code",
   "execution_count": 103,
   "metadata": {},
   "outputs": [
    {
     "data": {
      "image/png": "[encoded data removed]",
      "text/plain": [
       "<Figure size 432x288 with 2 Axes>"
      ]
     },
     "metadata": {
      "needs_background": "light"
     },
     "output_type": "display_data"
    }
   ],
   "source": [
    "from sklearn.metrics import plot_confusion_matrix\n",
    "tactics_model.fit(X_train, y_train)\n",
    "plot_confusion_matrix(tactics_model,X_test,y_test,cmap=plt.cm.Greens,values_format = '.5g', display_labels = [\"Perceiving\",\"Judging\"])\n",
    "plt.show()"
   ]
  },
  {
   "cell_type": "code",
   "execution_count": 104,
   "metadata": {},
   "outputs": [
    {
     "data": {
      "text/html": [
       "<div>\n",
       "<style scoped>\n",
       "    .dataframe tbody tr th:only-of-type {\n",
       "        vertical-align: middle;\n",
       "    }\n",
       "\n",
       "    .dataframe tbody tr th {\n",
       "        vertical-align: top;\n",
       "    }\n",
       "\n",
       "    .dataframe thead th {\n",
       "        text-align: right;\n",
       "    }\n",
       "</style>\n",
       "<table border=\"1\" class=\"dataframe\">\n",
       "  <thead>\n",
       "    <tr style=\"text-align: right;\">\n",
       "      <th></th>\n",
       "      <th>username</th>\n",
       "      <th>description</th>\n",
       "      <th>lemma</th>\n",
       "      <th>stopwords</th>\n",
       "      <th>lemma_no_stop</th>\n",
       "    </tr>\n",
       "  </thead>\n",
       "  <tbody>\n",
       "    <tr>\n",
       "      <th>0</th>\n",
       "      <td>_.anju.u</td>\n",
       "      <td>i used to make up songs all the time just beca...</td>\n",
       "      <td>i used to make up song all the time just becau...</td>\n",
       "      <td>62</td>\n",
       "      <td>used  make  song   time    wa fun   also used...</td>\n",
       "    </tr>\n",
       "    <tr>\n",
       "      <th>1</th>\n",
       "      <td>__.tickled_pink.__</td>\n",
       "      <td>cant win unless you learn how to lose from the...</td>\n",
       "      <td>cant win unless you learn how to lose from the...</td>\n",
       "      <td>14</td>\n",
       "      <td>cant win unless  learn   lose  theory  interac...</td>\n",
       "    </tr>\n",
       "    <tr>\n",
       "      <th>2</th>\n",
       "      <td>_anugrahanair_</td>\n",
       "      <td>you do not find the happy life you make it som...</td>\n",
       "      <td>you do not find the happy life you make it som...</td>\n",
       "      <td>14</td>\n",
       "      <td>find  happy life  make  sometimes  better  ...</td>\n",
       "    </tr>\n",
       "    <tr>\n",
       "      <th>3</th>\n",
       "      <td>_charuzz_</td>\n",
       "      <td>stop staring its our body womenempowerment gen...</td>\n",
       "      <td>stop staring it our body womenempowerment gend...</td>\n",
       "      <td>13</td>\n",
       "      <td>stop staring   body womenempowerment genderequ...</td>\n",
       "    </tr>\n",
       "    <tr>\n",
       "      <th>4</th>\n",
       "      <td>_gaayu___</td>\n",
       "      <td>freedom lies in being bold be somebody that no...</td>\n",
       "      <td>freedom lie in being bold be somebody that nob...</td>\n",
       "      <td>10</td>\n",
       "      <td>freedom lie   bold  somebody  nobady thought  ...</td>\n",
       "    </tr>\n",
       "  </tbody>\n",
       "</table>\n",
       "</div>"
      ],
      "text/plain": [
       "             username                                        description  \\\n",
       "0            _.anju.u  i used to make up songs all the time just beca...   \n",
       "1  __.tickled_pink.__  cant win unless you learn how to lose from the...   \n",
       "2      _anugrahanair_  you do not find the happy life you make it som...   \n",
       "3           _charuzz_  stop staring its our body womenempowerment gen...   \n",
       "4           _gaayu___  freedom lies in being bold be somebody that no...   \n",
       "\n",
       "                                               lemma  stopwords  \\\n",
       "0  i used to make up song all the time just becau...         62   \n",
       "1  cant win unless you learn how to lose from the...         14   \n",
       "2  you do not find the happy life you make it som...         14   \n",
       "3  stop staring it our body womenempowerment gend...         13   \n",
       "4  freedom lie in being bold be somebody that nob...         10   \n",
       "\n",
       "                                       lemma_no_stop  \n",
       "0   used  make  song   time    wa fun   also used...  \n",
       "1  cant win unless  learn   lose  theory  interac...  \n",
       "2     find  happy life  make  sometimes  better  ...  \n",
       "3  stop staring   body womenempowerment genderequ...  \n",
       "4  freedom lie   bold  somebody  nobady thought  ...  "
      ]
     },
     "execution_count": 104,
     "metadata": {},
     "output_type": "execute_result"
    }
   ],
   "source": [
    "# Predicting on test data\n",
    "test.head()"
   ]
  },
  {
   "cell_type": "code",
   "execution_count": 105,
   "metadata": {},
   "outputs": [
    {
     "data": {
      "image/png": "[encoded data removed]",
      "text/plain": [
       "<Figure size 432x288 with 1 Axes>"
      ]
     },
     "metadata": {
      "needs_background": "light"
     },
     "output_type": "display_data"
    },
    {
     "data": {
      "text/html": [
       "<div>\n",
       "<style scoped>\n",
       "    .dataframe tbody tr th:only-of-type {\n",
       "        vertical-align: middle;\n",
       "    }\n",
       "\n",
       "    .dataframe tbody tr th {\n",
       "        vertical-align: top;\n",
       "    }\n",
       "\n",
       "    .dataframe thead th {\n",
       "        text-align: right;\n",
       "    }\n",
       "</style>\n",
       "<table border=\"1\" class=\"dataframe\">\n",
       "  <thead>\n",
       "    <tr style=\"text-align: right;\">\n",
       "      <th></th>\n",
       "      <th>username</th>\n",
       "      <th>E_pred</th>\n",
       "    </tr>\n",
       "  </thead>\n",
       "  <tbody>\n",
       "    <tr>\n",
       "      <th>0</th>\n",
       "      <td>_.anju.u</td>\n",
       "      <td>0</td>\n",
       "    </tr>\n",
       "    <tr>\n",
       "      <th>1</th>\n",
       "      <td>__.tickled_pink.__</td>\n",
       "      <td>0</td>\n",
       "    </tr>\n",
       "    <tr>\n",
       "      <th>2</th>\n",
       "      <td>_anugrahanair_</td>\n",
       "      <td>0</td>\n",
       "    </tr>\n",
       "    <tr>\n",
       "      <th>3</th>\n",
       "      <td>_charuzz_</td>\n",
       "      <td>0</td>\n",
       "    </tr>\n",
       "    <tr>\n",
       "      <th>4</th>\n",
       "      <td>_gaayu___</td>\n",
       "      <td>0</td>\n",
       "    </tr>\n",
       "    <tr>\n",
       "      <th>5</th>\n",
       "      <td>_haripriyag_</td>\n",
       "      <td>0</td>\n",
       "    </tr>\n",
       "    <tr>\n",
       "      <th>6</th>\n",
       "      <td>_mariaknows_</td>\n",
       "      <td>0</td>\n",
       "    </tr>\n",
       "    <tr>\n",
       "      <th>7</th>\n",
       "      <td>_nina_abraham</td>\n",
       "      <td>0</td>\n",
       "    </tr>\n",
       "    <tr>\n",
       "      <th>8</th>\n",
       "      <td>_princess_cinderell___</td>\n",
       "      <td>0</td>\n",
       "    </tr>\n",
       "    <tr>\n",
       "      <th>9</th>\n",
       "      <td>_shifa_bilqis</td>\n",
       "      <td>0</td>\n",
       "    </tr>\n",
       "  </tbody>\n",
       "</table>\n",
       "</div>"
      ],
      "text/plain": [
       "                 username  E_pred\n",
       "0                _.anju.u       0\n",
       "1      __.tickled_pink.__       0\n",
       "2          _anugrahanair_       0\n",
       "3               _charuzz_       0\n",
       "4               _gaayu___       0\n",
       "5            _haripriyag_       0\n",
       "6            _mariaknows_       0\n",
       "7           _nina_abraham       0\n",
       "8  _princess_cinderell___       0\n",
       "9           _shifa_bilqis       0"
      ]
     },
     "execution_count": 105,
     "metadata": {},
     "output_type": "execute_result"
    }
   ],
   "source": [
    "# Predicting mind\n",
    "pred_mind_count = vect_mind.transform(test['lemma_no_stop'])\n",
    "\n",
    "pred_mind_count.shape\n",
    "\n",
    "X = X_count_mind\n",
    "y = mind_df['E']\n",
    "\n",
    "final_mind_model = mind_model\n",
    "final_mind_model.fit(X, y)\n",
    "\n",
    "final_mind_predictions = final_mind_model.predict(pred_mind_count)\n",
    "\n",
    "test['E_pred'] = final_mind_predictions\n",
    "\n",
    "test.head()\n",
    "\n",
    "pred_mind_df = test[['username', 'E_pred']]\n",
    "\n",
    "pred_mind_df.head(10)\n",
    "\n",
    "pred_mind_df.columns\n",
    "\n",
    "pred_mind_df['E_pred'].value_counts().plot(kind = 'bar',color = ['dodgerblue','darkblue'])\n",
    "\n",
    "#pred_mind_df\n",
    "\n",
    "plt.show()\n",
    "\n",
    "pred_mind_df.head(10)"
   ]
  },
  {
   "cell_type": "code",
   "execution_count": 106,
   "metadata": {},
   "outputs": [
    {
     "data": {
      "image/png": "[encoded data removed]",
      "text/plain": [
       "<Figure size 432x288 with 1 Axes>"
      ]
     },
     "metadata": {
      "needs_background": "light"
     },
     "output_type": "display_data"
    },
    {
     "data": {
      "text/html": [
       "<div>\n",
       "<style scoped>\n",
       "    .dataframe tbody tr th:only-of-type {\n",
       "        vertical-align: middle;\n",
       "    }\n",
       "\n",
       "    .dataframe tbody tr th {\n",
       "        vertical-align: top;\n",
       "    }\n",
       "\n",
       "    .dataframe thead th {\n",
       "        text-align: right;\n",
       "    }\n",
       "</style>\n",
       "<table border=\"1\" class=\"dataframe\">\n",
       "  <thead>\n",
       "    <tr style=\"text-align: right;\">\n",
       "      <th></th>\n",
       "      <th>username</th>\n",
       "      <th>N_pred</th>\n",
       "    </tr>\n",
       "  </thead>\n",
       "  <tbody>\n",
       "    <tr>\n",
       "      <th>0</th>\n",
       "      <td>_.anju.u</td>\n",
       "      <td>1</td>\n",
       "    </tr>\n",
       "    <tr>\n",
       "      <th>1</th>\n",
       "      <td>__.tickled_pink.__</td>\n",
       "      <td>1</td>\n",
       "    </tr>\n",
       "    <tr>\n",
       "      <th>2</th>\n",
       "      <td>_anugrahanair_</td>\n",
       "      <td>1</td>\n",
       "    </tr>\n",
       "    <tr>\n",
       "      <th>3</th>\n",
       "      <td>_charuzz_</td>\n",
       "      <td>1</td>\n",
       "    </tr>\n",
       "    <tr>\n",
       "      <th>4</th>\n",
       "      <td>_gaayu___</td>\n",
       "      <td>1</td>\n",
       "    </tr>\n",
       "    <tr>\n",
       "      <th>5</th>\n",
       "      <td>_haripriyag_</td>\n",
       "      <td>1</td>\n",
       "    </tr>\n",
       "    <tr>\n",
       "      <th>6</th>\n",
       "      <td>_mariaknows_</td>\n",
       "      <td>1</td>\n",
       "    </tr>\n",
       "    <tr>\n",
       "      <th>7</th>\n",
       "      <td>_nina_abraham</td>\n",
       "      <td>1</td>\n",
       "    </tr>\n",
       "    <tr>\n",
       "      <th>8</th>\n",
       "      <td>_princess_cinderell___</td>\n",
       "      <td>1</td>\n",
       "    </tr>\n",
       "    <tr>\n",
       "      <th>9</th>\n",
       "      <td>_shifa_bilqis</td>\n",
       "      <td>1</td>\n",
       "    </tr>\n",
       "  </tbody>\n",
       "</table>\n",
       "</div>"
      ],
      "text/plain": [
       "                 username  N_pred\n",
       "0                _.anju.u       1\n",
       "1      __.tickled_pink.__       1\n",
       "2          _anugrahanair_       1\n",
       "3               _charuzz_       1\n",
       "4               _gaayu___       1\n",
       "5            _haripriyag_       1\n",
       "6            _mariaknows_       1\n",
       "7           _nina_abraham       1\n",
       "8  _princess_cinderell___       1\n",
       "9           _shifa_bilqis       1"
      ]
     },
     "execution_count": 106,
     "metadata": {},
     "output_type": "execute_result"
    }
   ],
   "source": [
    "# Predicting energy\n",
    "pred_energy_count = vect_energy.transform(test['lemma_no_stop'])\n",
    "\n",
    "pred_energy_count.shape\n",
    "\n",
    "X = X_count_energy\n",
    "y = energy_df['N']\n",
    "\n",
    "final_energy_model = energy_model\n",
    "final_energy_model.fit(X, y)\n",
    "\n",
    "final_energy_predictions = final_energy_model.predict(pred_energy_count)\n",
    "\n",
    "test['N_pred'] = final_energy_predictions\n",
    "\n",
    "pred_energy_df = test[['username', 'N_pred']]\n",
    "\n",
    "pred_energy_df['N_pred'].value_counts().plot(kind = 'bar', color = ['purple','violet'])\n",
    "plt.show()\n",
    "\n",
    "pred_energy_df.head(10)\n"
   ]
  },
  {
   "cell_type": "code",
   "execution_count": 107,
   "metadata": {},
   "outputs": [
    {
     "data": {
      "image/png": "[encoded data removed]",
      "text/plain": [
       "<Figure size 432x288 with 1 Axes>"
      ]
     },
     "metadata": {
      "needs_background": "light"
     },
     "output_type": "display_data"
    },
    {
     "data": {
      "text/html": [
       "<div>\n",
       "<style scoped>\n",
       "    .dataframe tbody tr th:only-of-type {\n",
       "        vertical-align: middle;\n",
       "    }\n",
       "\n",
       "    .dataframe tbody tr th {\n",
       "        vertical-align: top;\n",
       "    }\n",
       "\n",
       "    .dataframe thead th {\n",
       "        text-align: right;\n",
       "    }\n",
       "</style>\n",
       "<table border=\"1\" class=\"dataframe\">\n",
       "  <thead>\n",
       "    <tr style=\"text-align: right;\">\n",
       "      <th></th>\n",
       "      <th>username</th>\n",
       "      <th>T_pred</th>\n",
       "    </tr>\n",
       "  </thead>\n",
       "  <tbody>\n",
       "    <tr>\n",
       "      <th>0</th>\n",
       "      <td>_.anju.u</td>\n",
       "      <td>1</td>\n",
       "    </tr>\n",
       "    <tr>\n",
       "      <th>1</th>\n",
       "      <td>__.tickled_pink.__</td>\n",
       "      <td>1</td>\n",
       "    </tr>\n",
       "    <tr>\n",
       "      <th>2</th>\n",
       "      <td>_anugrahanair_</td>\n",
       "      <td>0</td>\n",
       "    </tr>\n",
       "    <tr>\n",
       "      <th>3</th>\n",
       "      <td>_charuzz_</td>\n",
       "      <td>0</td>\n",
       "    </tr>\n",
       "    <tr>\n",
       "      <th>4</th>\n",
       "      <td>_gaayu___</td>\n",
       "      <td>0</td>\n",
       "    </tr>\n",
       "    <tr>\n",
       "      <th>5</th>\n",
       "      <td>_haripriyag_</td>\n",
       "      <td>0</td>\n",
       "    </tr>\n",
       "    <tr>\n",
       "      <th>6</th>\n",
       "      <td>_mariaknows_</td>\n",
       "      <td>0</td>\n",
       "    </tr>\n",
       "    <tr>\n",
       "      <th>7</th>\n",
       "      <td>_nina_abraham</td>\n",
       "      <td>0</td>\n",
       "    </tr>\n",
       "    <tr>\n",
       "      <th>8</th>\n",
       "      <td>_princess_cinderell___</td>\n",
       "      <td>0</td>\n",
       "    </tr>\n",
       "    <tr>\n",
       "      <th>9</th>\n",
       "      <td>_shifa_bilqis</td>\n",
       "      <td>1</td>\n",
       "    </tr>\n",
       "  </tbody>\n",
       "</table>\n",
       "</div>"
      ],
      "text/plain": [
       "                 username  T_pred\n",
       "0                _.anju.u       1\n",
       "1      __.tickled_pink.__       1\n",
       "2          _anugrahanair_       0\n",
       "3               _charuzz_       0\n",
       "4               _gaayu___       0\n",
       "5            _haripriyag_       0\n",
       "6            _mariaknows_       0\n",
       "7           _nina_abraham       0\n",
       "8  _princess_cinderell___       0\n",
       "9           _shifa_bilqis       1"
      ]
     },
     "execution_count": 107,
     "metadata": {},
     "output_type": "execute_result"
    }
   ],
   "source": [
    "# Predicting nature\n",
    "pred_nature_count = vect_nature.transform(test['lemma_no_stop'])\n",
    "\n",
    "pred_nature_count.shape\n",
    "\n",
    "X = X_count_nature\n",
    "y = nature_df['T']\n",
    "\n",
    "final_nature_model = nature_model\n",
    "final_nature_model.fit(X, y)\n",
    "\n",
    "final_nature_predictions = final_nature_model.predict(pred_nature_count)\n",
    "\n",
    "test['T_pred'] = final_nature_predictions\n",
    "\n",
    "pred_nature_df = test[['username', 'T_pred']]\n",
    "\n",
    "pred_nature_df['T_pred'].value_counts().plot(kind = 'bar', color = ['darkgreen','yellowgreen'])\n",
    "plt.show()\n",
    "\n",
    "pred_nature_df.head(10)\n"
   ]
  },
  {
   "cell_type": "code",
   "execution_count": 108,
   "metadata": {},
   "outputs": [
    {
     "data": {
      "image/png": "[encoded data removed]",
      "text/plain": [
       "<Figure size 432x288 with 1 Axes>"
      ]
     },
     "metadata": {
      "needs_background": "light"
     },
     "output_type": "display_data"
    },
    {
     "data": {
      "text/html": [
       "<div>\n",
       "<style scoped>\n",
       "    .dataframe tbody tr th:only-of-type {\n",
       "        vertical-align: middle;\n",
       "    }\n",
       "\n",
       "    .dataframe tbody tr th {\n",
       "        vertical-align: top;\n",
       "    }\n",
       "\n",
       "    .dataframe thead th {\n",
       "        text-align: right;\n",
       "    }\n",
       "</style>\n",
       "<table border=\"1\" class=\"dataframe\">\n",
       "  <thead>\n",
       "    <tr style=\"text-align: right;\">\n",
       "      <th></th>\n",
       "      <th>username</th>\n",
       "      <th>J_pred</th>\n",
       "    </tr>\n",
       "  </thead>\n",
       "  <tbody>\n",
       "    <tr>\n",
       "      <th>0</th>\n",
       "      <td>_.anju.u</td>\n",
       "      <td>0</td>\n",
       "    </tr>\n",
       "    <tr>\n",
       "      <th>1</th>\n",
       "      <td>__.tickled_pink.__</td>\n",
       "      <td>0</td>\n",
       "    </tr>\n",
       "    <tr>\n",
       "      <th>2</th>\n",
       "      <td>_anugrahanair_</td>\n",
       "      <td>0</td>\n",
       "    </tr>\n",
       "    <tr>\n",
       "      <th>3</th>\n",
       "      <td>_charuzz_</td>\n",
       "      <td>0</td>\n",
       "    </tr>\n",
       "    <tr>\n",
       "      <th>4</th>\n",
       "      <td>_gaayu___</td>\n",
       "      <td>0</td>\n",
       "    </tr>\n",
       "    <tr>\n",
       "      <th>5</th>\n",
       "      <td>_haripriyag_</td>\n",
       "      <td>0</td>\n",
       "    </tr>\n",
       "    <tr>\n",
       "      <th>6</th>\n",
       "      <td>_mariaknows_</td>\n",
       "      <td>0</td>\n",
       "    </tr>\n",
       "    <tr>\n",
       "      <th>7</th>\n",
       "      <td>_nina_abraham</td>\n",
       "      <td>0</td>\n",
       "    </tr>\n",
       "    <tr>\n",
       "      <th>8</th>\n",
       "      <td>_princess_cinderell___</td>\n",
       "      <td>0</td>\n",
       "    </tr>\n",
       "    <tr>\n",
       "      <th>9</th>\n",
       "      <td>_shifa_bilqis</td>\n",
       "      <td>0</td>\n",
       "    </tr>\n",
       "  </tbody>\n",
       "</table>\n",
       "</div>"
      ],
      "text/plain": [
       "                 username  J_pred\n",
       "0                _.anju.u       0\n",
       "1      __.tickled_pink.__       0\n",
       "2          _anugrahanair_       0\n",
       "3               _charuzz_       0\n",
       "4               _gaayu___       0\n",
       "5            _haripriyag_       0\n",
       "6            _mariaknows_       0\n",
       "7           _nina_abraham       0\n",
       "8  _princess_cinderell___       0\n",
       "9           _shifa_bilqis       0"
      ]
     },
     "execution_count": 108,
     "metadata": {},
     "output_type": "execute_result"
    }
   ],
   "source": [
    "# Predicting tactics\n",
    "pred_tactics_count = vect_tactics.transform(test['lemma_no_stop'])\n",
    "\n",
    "pred_tactics_count.shape\n",
    "\n",
    "X = X_count_tactics\n",
    "y = tactics_df['J']\n",
    "\n",
    "final_tactics_model = tactics_model\n",
    "final_tactics_model.fit(X, y)\n",
    "\n",
    "final_tactics_predictions = final_tactics_model.predict(pred_tactics_count)\n",
    "\n",
    "test['J_pred'] = final_tactics_predictions\n",
    "\n",
    "pred_tactics_df = test[['username', 'J_pred']]\n",
    "\n",
    "pred_tactics_df['J_pred'].value_counts().plot(kind = 'bar', color = ['black','grey'])\n",
    "\n",
    "plt.show()\n",
    "\n",
    "pred_tactics_df.head(10)\n"
   ]
  },
  {
   "cell_type": "code",
   "execution_count": 109,
   "metadata": {},
   "outputs": [],
   "source": [
    "my_submission = pd.merge(pred_mind_df[['username','E_pred']], pred_energy_df[['username','N_pred']], how ='inner', on ='username') \n",
    "my_submission = pd.merge(my_submission[['username','E_pred', 'N_pred']], pred_nature_df[['username','T_pred']], how ='inner', on ='username')\n",
    "my_submission = pd.merge(my_submission[['username','E_pred', 'N_pred','T_pred']], pred_tactics_df[['username','J_pred']], how ='inner', on ='username')"
   ]
  },
  {
   "cell_type": "code",
   "execution_count": 110,
   "metadata": {},
   "outputs": [
    {
     "data": {
      "text/html": [
       "<div>\n",
       "<style scoped>\n",
       "    .dataframe tbody tr th:only-of-type {\n",
       "        vertical-align: middle;\n",
       "    }\n",
       "\n",
       "    .dataframe tbody tr th {\n",
       "        vertical-align: top;\n",
       "    }\n",
       "\n",
       "    .dataframe thead th {\n",
       "        text-align: right;\n",
       "    }\n",
       "</style>\n",
       "<table border=\"1\" class=\"dataframe\">\n",
       "  <thead>\n",
       "    <tr style=\"text-align: right;\">\n",
       "      <th></th>\n",
       "      <th>username</th>\n",
       "      <th>E_pred</th>\n",
       "      <th>N_pred</th>\n",
       "      <th>T_pred</th>\n",
       "      <th>J_pred</th>\n",
       "    </tr>\n",
       "  </thead>\n",
       "  <tbody>\n",
       "    <tr>\n",
       "      <th>0</th>\n",
       "      <td>_.anju.u</td>\n",
       "      <td>0</td>\n",
       "      <td>1</td>\n",
       "      <td>1</td>\n",
       "      <td>0</td>\n",
       "    </tr>\n",
       "    <tr>\n",
       "      <th>1</th>\n",
       "      <td>__.tickled_pink.__</td>\n",
       "      <td>0</td>\n",
       "      <td>1</td>\n",
       "      <td>1</td>\n",
       "      <td>0</td>\n",
       "    </tr>\n",
       "    <tr>\n",
       "      <th>2</th>\n",
       "      <td>_anugrahanair_</td>\n",
       "      <td>0</td>\n",
       "      <td>1</td>\n",
       "      <td>0</td>\n",
       "      <td>0</td>\n",
       "    </tr>\n",
       "    <tr>\n",
       "      <th>3</th>\n",
       "      <td>_charuzz_</td>\n",
       "      <td>0</td>\n",
       "      <td>1</td>\n",
       "      <td>0</td>\n",
       "      <td>0</td>\n",
       "    </tr>\n",
       "    <tr>\n",
       "      <th>4</th>\n",
       "      <td>_gaayu___</td>\n",
       "      <td>0</td>\n",
       "      <td>1</td>\n",
       "      <td>0</td>\n",
       "      <td>0</td>\n",
       "    </tr>\n",
       "    <tr>\n",
       "      <th>5</th>\n",
       "      <td>_haripriyag_</td>\n",
       "      <td>0</td>\n",
       "      <td>1</td>\n",
       "      <td>0</td>\n",
       "      <td>0</td>\n",
       "    </tr>\n",
       "    <tr>\n",
       "      <th>6</th>\n",
       "      <td>_mariaknows_</td>\n",
       "      <td>0</td>\n",
       "      <td>1</td>\n",
       "      <td>0</td>\n",
       "      <td>0</td>\n",
       "    </tr>\n",
       "    <tr>\n",
       "      <th>7</th>\n",
       "      <td>_nina_abraham</td>\n",
       "      <td>0</td>\n",
       "      <td>1</td>\n",
       "      <td>0</td>\n",
       "      <td>0</td>\n",
       "    </tr>\n",
       "    <tr>\n",
       "      <th>8</th>\n",
       "      <td>_princess_cinderell___</td>\n",
       "      <td>0</td>\n",
       "      <td>1</td>\n",
       "      <td>0</td>\n",
       "      <td>0</td>\n",
       "    </tr>\n",
       "    <tr>\n",
       "      <th>9</th>\n",
       "      <td>_shifa_bilqis</td>\n",
       "      <td>0</td>\n",
       "      <td>1</td>\n",
       "      <td>1</td>\n",
       "      <td>0</td>\n",
       "    </tr>\n",
       "  </tbody>\n",
       "</table>\n",
       "</div>"
      ],
      "text/plain": [
       "                 username  E_pred  N_pred  T_pred  J_pred\n",
       "0                _.anju.u       0       1       1       0\n",
       "1      __.tickled_pink.__       0       1       1       0\n",
       "2          _anugrahanair_       0       1       0       0\n",
       "3               _charuzz_       0       1       0       0\n",
       "4               _gaayu___       0       1       0       0\n",
       "5            _haripriyag_       0       1       0       0\n",
       "6            _mariaknows_       0       1       0       0\n",
       "7           _nina_abraham       0       1       0       0\n",
       "8  _princess_cinderell___       0       1       0       0\n",
       "9           _shifa_bilqis       0       1       1       0"
      ]
     },
     "execution_count": 110,
     "metadata": {},
     "output_type": "execute_result"
    }
   ],
   "source": [
    "my_submission.head(10)"
   ]
  },
  {
   "cell_type": "code",
   "execution_count": 111,
   "metadata": {},
   "outputs": [
    {
     "data": {
      "text/html": [
       "<div>\n",
       "<style scoped>\n",
       "    .dataframe tbody tr th:only-of-type {\n",
       "        vertical-align: middle;\n",
       "    }\n",
       "\n",
       "    .dataframe tbody tr th {\n",
       "        vertical-align: top;\n",
       "    }\n",
       "\n",
       "    .dataframe thead th {\n",
       "        text-align: right;\n",
       "    }\n",
       "</style>\n",
       "<table border=\"1\" class=\"dataframe\">\n",
       "  <thead>\n",
       "    <tr style=\"text-align: right;\">\n",
       "      <th></th>\n",
       "      <th>username</th>\n",
       "      <th>mind</th>\n",
       "      <th>energy</th>\n",
       "      <th>nature</th>\n",
       "      <th>tactics</th>\n",
       "    </tr>\n",
       "  </thead>\n",
       "  <tbody>\n",
       "    <tr>\n",
       "      <th>0</th>\n",
       "      <td>_.anju.u</td>\n",
       "      <td>0</td>\n",
       "      <td>1</td>\n",
       "      <td>1</td>\n",
       "      <td>0</td>\n",
       "    </tr>\n",
       "    <tr>\n",
       "      <th>1</th>\n",
       "      <td>__.tickled_pink.__</td>\n",
       "      <td>0</td>\n",
       "      <td>1</td>\n",
       "      <td>1</td>\n",
       "      <td>0</td>\n",
       "    </tr>\n",
       "    <tr>\n",
       "      <th>2</th>\n",
       "      <td>_anugrahanair_</td>\n",
       "      <td>0</td>\n",
       "      <td>1</td>\n",
       "      <td>0</td>\n",
       "      <td>0</td>\n",
       "    </tr>\n",
       "    <tr>\n",
       "      <th>3</th>\n",
       "      <td>_charuzz_</td>\n",
       "      <td>0</td>\n",
       "      <td>1</td>\n",
       "      <td>0</td>\n",
       "      <td>0</td>\n",
       "    </tr>\n",
       "    <tr>\n",
       "      <th>4</th>\n",
       "      <td>_gaayu___</td>\n",
       "      <td>0</td>\n",
       "      <td>1</td>\n",
       "      <td>0</td>\n",
       "      <td>0</td>\n",
       "    </tr>\n",
       "    <tr>\n",
       "      <th>...</th>\n",
       "      <td>...</td>\n",
       "      <td>...</td>\n",
       "      <td>...</td>\n",
       "      <td>...</td>\n",
       "      <td>...</td>\n",
       "    </tr>\n",
       "    <tr>\n",
       "      <th>145</th>\n",
       "      <td>wushu_luvr_shab</td>\n",
       "      <td>0</td>\n",
       "      <td>1</td>\n",
       "      <td>0</td>\n",
       "      <td>0</td>\n",
       "    </tr>\n",
       "    <tr>\n",
       "      <th>146</th>\n",
       "      <td>narendraprasath_np</td>\n",
       "      <td>0</td>\n",
       "      <td>1</td>\n",
       "      <td>1</td>\n",
       "      <td>0</td>\n",
       "    </tr>\n",
       "    <tr>\n",
       "      <th>147</th>\n",
       "      <td>teejayarunasalam</td>\n",
       "      <td>0</td>\n",
       "      <td>1</td>\n",
       "      <td>0</td>\n",
       "      <td>0</td>\n",
       "    </tr>\n",
       "    <tr>\n",
       "      <th>148</th>\n",
       "      <td>vickykaushal09</td>\n",
       "      <td>0</td>\n",
       "      <td>1</td>\n",
       "      <td>0</td>\n",
       "      <td>1</td>\n",
       "    </tr>\n",
       "    <tr>\n",
       "      <th>149</th>\n",
       "      <td>alya_manasa</td>\n",
       "      <td>0</td>\n",
       "      <td>1</td>\n",
       "      <td>0</td>\n",
       "      <td>0</td>\n",
       "    </tr>\n",
       "  </tbody>\n",
       "</table>\n",
       "<p>150 rows × 5 columns</p>\n",
       "</div>"
      ],
      "text/plain": [
       "               username  mind  energy  nature  tactics\n",
       "0              _.anju.u     0       1       1        0\n",
       "1    __.tickled_pink.__     0       1       1        0\n",
       "2        _anugrahanair_     0       1       0        0\n",
       "3             _charuzz_     0       1       0        0\n",
       "4             _gaayu___     0       1       0        0\n",
       "..                  ...   ...     ...     ...      ...\n",
       "145     wushu_luvr_shab     0       1       0        0\n",
       "146  narendraprasath_np     0       1       1        0\n",
       "147    teejayarunasalam     0       1       0        0\n",
       "148      vickykaushal09     0       1       0        1\n",
       "149         alya_manasa     0       1       0        0\n",
       "\n",
       "[150 rows x 5 columns]"
      ]
     },
     "execution_count": 111,
     "metadata": {},
     "output_type": "execute_result"
    }
   ],
   "source": [
    "my_submission.rename(columns={'username':'username',\n",
    "                            'E_pred':'mind',\n",
    "                            'N_pred': 'energy',\n",
    "                            'T_pred': 'nature',\n",
    "                            'J_pred': 'tactics'\n",
    "                             }, \n",
    "                 inplace=True)\n",
    "\n",
    "my_submission"
   ]
  },
  {
   "cell_type": "code",
   "execution_count": 112,
   "metadata": {},
   "outputs": [],
   "source": [
    "# Create column for the predictions of each of the 4 chracteristics\n",
    "my_submission['Mind Pred'] = my_submission['mind'].map(lambda x: 'E' if x == 1 else 'I')\n",
    "my_submission['Energy Pred'] = my_submission['energy'].map(lambda x: 'N' if x == 1 else 'S')\n",
    "my_submission['Nature Pred'] = my_submission['nature'].map(lambda x: 'T' if x == 1 else 'F')\n",
    "my_submission['Tactics Pred'] = my_submission['tactics'].map(lambda x: 'J' if x == 1 else 'P')"
   ]
  },
  {
   "cell_type": "code",
   "execution_count": 113,
   "metadata": {},
   "outputs": [
    {
     "data": {
      "text/html": [
       "<div>\n",
       "<style scoped>\n",
       "    .dataframe tbody tr th:only-of-type {\n",
       "        vertical-align: middle;\n",
       "    }\n",
       "\n",
       "    .dataframe tbody tr th {\n",
       "        vertical-align: top;\n",
       "    }\n",
       "\n",
       "    .dataframe thead th {\n",
       "        text-align: right;\n",
       "    }\n",
       "</style>\n",
       "<table border=\"1\" class=\"dataframe\">\n",
       "  <thead>\n",
       "    <tr style=\"text-align: right;\">\n",
       "      <th></th>\n",
       "      <th>username</th>\n",
       "      <th>mind</th>\n",
       "      <th>energy</th>\n",
       "      <th>nature</th>\n",
       "      <th>tactics</th>\n",
       "      <th>Mind Pred</th>\n",
       "      <th>Energy Pred</th>\n",
       "      <th>Nature Pred</th>\n",
       "      <th>Tactics Pred</th>\n",
       "    </tr>\n",
       "  </thead>\n",
       "  <tbody>\n",
       "    <tr>\n",
       "      <th>0</th>\n",
       "      <td>_.anju.u</td>\n",
       "      <td>0</td>\n",
       "      <td>1</td>\n",
       "      <td>1</td>\n",
       "      <td>0</td>\n",
       "      <td>I</td>\n",
       "      <td>N</td>\n",
       "      <td>T</td>\n",
       "      <td>P</td>\n",
       "    </tr>\n",
       "    <tr>\n",
       "      <th>1</th>\n",
       "      <td>__.tickled_pink.__</td>\n",
       "      <td>0</td>\n",
       "      <td>1</td>\n",
       "      <td>1</td>\n",
       "      <td>0</td>\n",
       "      <td>I</td>\n",
       "      <td>N</td>\n",
       "      <td>T</td>\n",
       "      <td>P</td>\n",
       "    </tr>\n",
       "    <tr>\n",
       "      <th>2</th>\n",
       "      <td>_anugrahanair_</td>\n",
       "      <td>0</td>\n",
       "      <td>1</td>\n",
       "      <td>0</td>\n",
       "      <td>0</td>\n",
       "      <td>I</td>\n",
       "      <td>N</td>\n",
       "      <td>F</td>\n",
       "      <td>P</td>\n",
       "    </tr>\n",
       "    <tr>\n",
       "      <th>3</th>\n",
       "      <td>_charuzz_</td>\n",
       "      <td>0</td>\n",
       "      <td>1</td>\n",
       "      <td>0</td>\n",
       "      <td>0</td>\n",
       "      <td>I</td>\n",
       "      <td>N</td>\n",
       "      <td>F</td>\n",
       "      <td>P</td>\n",
       "    </tr>\n",
       "    <tr>\n",
       "      <th>4</th>\n",
       "      <td>_gaayu___</td>\n",
       "      <td>0</td>\n",
       "      <td>1</td>\n",
       "      <td>0</td>\n",
       "      <td>0</td>\n",
       "      <td>I</td>\n",
       "      <td>N</td>\n",
       "      <td>F</td>\n",
       "      <td>P</td>\n",
       "    </tr>\n",
       "  </tbody>\n",
       "</table>\n",
       "</div>"
      ],
      "text/plain": [
       "             username  mind  energy  nature  tactics Mind Pred Energy Pred  \\\n",
       "0            _.anju.u     0       1       1        0         I           N   \n",
       "1  __.tickled_pink.__     0       1       1        0         I           N   \n",
       "2      _anugrahanair_     0       1       0        0         I           N   \n",
       "3           _charuzz_     0       1       0        0         I           N   \n",
       "4           _gaayu___     0       1       0        0         I           N   \n",
       "\n",
       "  Nature Pred Tactics Pred  \n",
       "0           T            P  \n",
       "1           T            P  \n",
       "2           F            P  \n",
       "3           F            P  \n",
       "4           F            P  "
      ]
     },
     "execution_count": 113,
     "metadata": {},
     "output_type": "execute_result"
    }
   ],
   "source": [
    "my_submission.head()"
   ]
  },
  {
   "cell_type": "code",
   "execution_count": 114,
   "metadata": {},
   "outputs": [],
   "source": [
    "my_submission['Personality Pred'] = my_submission['Mind Pred'] + my_submission['Energy Pred'] + my_submission['Nature Pred']+ my_submission['Tactics Pred']"
   ]
  },
  {
   "cell_type": "code",
   "execution_count": 115,
   "metadata": {},
   "outputs": [
    {
     "data": {
      "text/html": [
       "<div>\n",
       "<style scoped>\n",
       "    .dataframe tbody tr th:only-of-type {\n",
       "        vertical-align: middle;\n",
       "    }\n",
       "\n",
       "    .dataframe tbody tr th {\n",
       "        vertical-align: top;\n",
       "    }\n",
       "\n",
       "    .dataframe thead th {\n",
       "        text-align: right;\n",
       "    }\n",
       "</style>\n",
       "<table border=\"1\" class=\"dataframe\">\n",
       "  <thead>\n",
       "    <tr style=\"text-align: right;\">\n",
       "      <th></th>\n",
       "      <th>username</th>\n",
       "      <th>Personality Pred</th>\n",
       "    </tr>\n",
       "  </thead>\n",
       "  <tbody>\n",
       "    <tr>\n",
       "      <th>0</th>\n",
       "      <td>_.anju.u</td>\n",
       "      <td>INTP</td>\n",
       "    </tr>\n",
       "    <tr>\n",
       "      <th>1</th>\n",
       "      <td>__.tickled_pink.__</td>\n",
       "      <td>INTP</td>\n",
       "    </tr>\n",
       "    <tr>\n",
       "      <th>2</th>\n",
       "      <td>_anugrahanair_</td>\n",
       "      <td>INFP</td>\n",
       "    </tr>\n",
       "    <tr>\n",
       "      <th>3</th>\n",
       "      <td>_charuzz_</td>\n",
       "      <td>INFP</td>\n",
       "    </tr>\n",
       "    <tr>\n",
       "      <th>4</th>\n",
       "      <td>_gaayu___</td>\n",
       "      <td>INFP</td>\n",
       "    </tr>\n",
       "    <tr>\n",
       "      <th>...</th>\n",
       "      <td>...</td>\n",
       "      <td>...</td>\n",
       "    </tr>\n",
       "    <tr>\n",
       "      <th>145</th>\n",
       "      <td>wushu_luvr_shab</td>\n",
       "      <td>INFP</td>\n",
       "    </tr>\n",
       "    <tr>\n",
       "      <th>146</th>\n",
       "      <td>narendraprasath_np</td>\n",
       "      <td>INTP</td>\n",
       "    </tr>\n",
       "    <tr>\n",
       "      <th>147</th>\n",
       "      <td>teejayarunasalam</td>\n",
       "      <td>INFP</td>\n",
       "    </tr>\n",
       "    <tr>\n",
       "      <th>148</th>\n",
       "      <td>vickykaushal09</td>\n",
       "      <td>INFJ</td>\n",
       "    </tr>\n",
       "    <tr>\n",
       "      <th>149</th>\n",
       "      <td>alya_manasa</td>\n",
       "      <td>INFP</td>\n",
       "    </tr>\n",
       "  </tbody>\n",
       "</table>\n",
       "<p>150 rows × 2 columns</p>\n",
       "</div>"
      ],
      "text/plain": [
       "               username Personality Pred\n",
       "0              _.anju.u             INTP\n",
       "1    __.tickled_pink.__             INTP\n",
       "2        _anugrahanair_             INFP\n",
       "3             _charuzz_             INFP\n",
       "4             _gaayu___             INFP\n",
       "..                  ...              ...\n",
       "145     wushu_luvr_shab             INFP\n",
       "146  narendraprasath_np             INTP\n",
       "147    teejayarunasalam             INFP\n",
       "148      vickykaushal09             INFJ\n",
       "149         alya_manasa             INFP\n",
       "\n",
       "[150 rows x 2 columns]"
      ]
     },
     "execution_count": 115,
     "metadata": {},
     "output_type": "execute_result"
    }
   ],
   "source": [
    "my_submission[['username','Personality Pred']]\n"
   ]
  },
  {
   "cell_type": "code",
   "execution_count": 116,
   "metadata": {},
   "outputs": [
    {
     "data": {
      "image/png": "[encoded data removed]",
      "text/plain": [
       "<Figure size 1080x288 with 1 Axes>"
      ]
     },
     "metadata": {
      "needs_background": "light"
     },
     "output_type": "display_data"
    },
    {
     "data": {
      "image/png": "[encoded data removed]",
      "text/plain": [
       "<Figure size 1080x288 with 1 Axes>"
      ]
     },
     "metadata": {
      "needs_background": "light"
     },
     "output_type": "display_data"
    }
   ],
   "source": [
    "#view posts count of each personality type\n",
    "# Countplot of the 16 personality types in the dataset\n",
    "dims1 = (15.0, 4.0)\n",
    "fig, ax = plt.subplots(figsize=dims1)\n",
    "cmrmap = sns.color_palette('CMRmap', 16)\n",
    "sns.set_palette(cmrmap)\n",
    "sns.countplot(x='type', data=train,\\\n",
    "              order=['ENFJ','ENFP','ENTJ','ENTP','ESFJ','ESFP','ESTJ','ESTP',\\\n",
    "                    'INFJ','INFP','INTJ','INTP','ISFJ','ISFP','ISTJ','ISTP'])\n",
    "plt.title('Distribution of Myers-Briggs Type Predictions in TRAIN DATASET', fontsize=16)\n",
    "plt.xlabel('Personality Type')\n",
    "plt.ylabel('Count of Posts')\n",
    "plt.xticks(fontsize=12)\n",
    "plt.yticks(fontsize=12)\n",
    "plt.show()\n",
    "\n",
    "\n",
    "\n",
    "#view posts count of each personality type\n",
    "# Countplot of the 16 personality types in the dataset\n",
    "dims1 = (15.0, 4.0)\n",
    "fig, ax = plt.subplots(figsize=dims1)\n",
    "cmrmap = sns.color_palette(\"CMRmap\", 16)\n",
    "sns.set_palette(cmrmap)\n",
    "sns.countplot(x='Personality Pred', data=my_submission,\\\n",
    "              order=['ENFJ','ENFP','ENTJ','ENTP','ESFJ','ESFP','ESTJ','ESTP',\\\n",
    "                    'INFJ','INFP','INTJ','INTP','ISFJ','ISFP','ISTJ','ISTP'])\n",
    "plt.title('Distribution of Myers-Briggs Type Predictions in TEST DATASET', fontsize=16)\n",
    "plt.xlabel('Personality Type')\n",
    "plt.ylabel('Count of Posts')\n",
    "plt.xticks(fontsize=12)\n",
    "plt.yticks(fontsize=12)\n",
    "plt.show()"
   ]
  }
 ],
 "metadata": {
  "interpreter": {
   "hash": "67079bf40cad2aacf757d794ddcc0a09a7a2f77bc4cb9166ed45d0cf873e872a"
  },
  "kernelspec": {
   "display_name": "Python 3.9.7 64-bit",
   "language": "python",
   "name": "python3"
  },
  "language_info": {
   "codemirror_mode": {
    "name": "ipython",
    "version": 3
   },
   "file_extension": ".py",
   "mimetype": "text/x-python",
   "name": "python",
   "nbconvert_exporter": "python",
   "pygments_lexer": "ipython3",
   "version": "3.9.7"
  },
  "orig_nbformat": 4
 },
 "nbformat": 4,
 "nbformat_minor": 2
}
