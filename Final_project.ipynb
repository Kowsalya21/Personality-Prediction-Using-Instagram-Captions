{
 "cells": [
  {
   "cell_type": "code",
   "execution_count": 1,
   "metadata": {},
   "outputs": [],
   "source": [
    "import pandas as pd\n",
    "import numpy as np\n",
    "import string\n",
    "from nltk.stem import WordNetLemmatizer\n",
    "from nltk.corpus import stopwords"
   ]
  },
  {
   "cell_type": "code",
   "execution_count": 2,
   "metadata": {},
   "outputs": [],
   "source": [
    "import matplotlib.pyplot as plt \n",
    "%matplotlib inline\n",
    "import seaborn as sns"
   ]
  },
  {
   "cell_type": "code",
   "execution_count": 3,
   "metadata": {},
   "outputs": [],
   "source": [
    "import warnings\n",
    "warnings.simplefilter(action='ignore', category=FutureWarning)"
   ]
  },
  {
   "cell_type": "code",
   "execution_count": 4,
   "metadata": {},
   "outputs": [],
   "source": [
    "train = pd.read_csv('train.csv')\n",
    "test = pd.read_csv('test.csv')"
   ]
  },
  {
   "cell_type": "code",
   "execution_count": 5,
   "metadata": {},
   "outputs": [
    {
     "data": {
      "text/html": [
       "<div>\n",
       "<style scoped>\n",
       "    .dataframe tbody tr th:only-of-type {\n",
       "        vertical-align: middle;\n",
       "    }\n",
       "\n",
       "    .dataframe tbody tr th {\n",
       "        vertical-align: top;\n",
       "    }\n",
       "\n",
       "    .dataframe thead th {\n",
       "        text-align: right;\n",
       "    }\n",
       "</style>\n",
       "<table border=\"1\" class=\"dataframe\">\n",
       "  <thead>\n",
       "    <tr style=\"text-align: right;\">\n",
       "      <th></th>\n",
       "      <th>type</th>\n",
       "      <th>posts</th>\n",
       "    </tr>\n",
       "  </thead>\n",
       "  <tbody>\n",
       "    <tr>\n",
       "      <th>0</th>\n",
       "      <td>INFJ</td>\n",
       "      <td>'http://www.youtube.com/watch?v=qsXHcwe3krw|||...</td>\n",
       "    </tr>\n",
       "    <tr>\n",
       "      <th>1</th>\n",
       "      <td>ENTP</td>\n",
       "      <td>'I'm finding the lack of me in these posts ver...</td>\n",
       "    </tr>\n",
       "    <tr>\n",
       "      <th>2</th>\n",
       "      <td>INTP</td>\n",
       "      <td>'Good one  _____   https://www.youtube.com/wat...</td>\n",
       "    </tr>\n",
       "    <tr>\n",
       "      <th>3</th>\n",
       "      <td>INTJ</td>\n",
       "      <td>'Dear INTP,   I enjoyed our conversation the o...</td>\n",
       "    </tr>\n",
       "    <tr>\n",
       "      <th>4</th>\n",
       "      <td>ENTJ</td>\n",
       "      <td>'You're fired.|||That's another silly misconce...</td>\n",
       "    </tr>\n",
       "  </tbody>\n",
       "</table>\n",
       "</div>"
      ],
      "text/plain": [
       "   type                                              posts\n",
       "0  INFJ  'http://www.youtube.com/watch?v=qsXHcwe3krw|||...\n",
       "1  ENTP  'I'm finding the lack of me in these posts ver...\n",
       "2  INTP  'Good one  _____   https://www.youtube.com/wat...\n",
       "3  INTJ  'Dear INTP,   I enjoyed our conversation the o...\n",
       "4  ENTJ  'You're fired.|||That's another silly misconce..."
      ]
     },
     "execution_count": 5,
     "metadata": {},
     "output_type": "execute_result"
    }
   ],
   "source": [
    "train.head()"
   ]
  },
  {
   "cell_type": "code",
   "execution_count": 6,
   "metadata": {},
   "outputs": [
    {
     "data": {
      "text/html": [
       "<div>\n",
       "<style scoped>\n",
       "    .dataframe tbody tr th:only-of-type {\n",
       "        vertical-align: middle;\n",
       "    }\n",
       "\n",
       "    .dataframe tbody tr th {\n",
       "        vertical-align: top;\n",
       "    }\n",
       "\n",
       "    .dataframe thead th {\n",
       "        text-align: right;\n",
       "    }\n",
       "</style>\n",
       "<table border=\"1\" class=\"dataframe\">\n",
       "  <thead>\n",
       "    <tr style=\"text-align: right;\">\n",
       "      <th></th>\n",
       "      <th>username</th>\n",
       "      <th>description</th>\n",
       "    </tr>\n",
       "  </thead>\n",
       "  <tbody>\n",
       "    <tr>\n",
       "      <th>0</th>\n",
       "      <td>nikhilmalik__</td>\n",
       "      <td>inside this innocent look is a twisted mind|||...</td>\n",
       "    </tr>\n",
       "    <tr>\n",
       "      <th>1</th>\n",
       "      <td>shivani_narayanan</td>\n",
       "      <td>dream without fear love without limits|||belie...</td>\n",
       "    </tr>\n",
       "    <tr>\n",
       "      <th>2</th>\n",
       "      <td>shamitashetty_official</td>\n",
       "      <td>always be a first rate version of yourself ins...</td>\n",
       "    </tr>\n",
       "    <tr>\n",
       "      <th>3</th>\n",
       "      <td>theshilpashetty</td>\n",
       "      <td>never allow someone else to dull your shine|||...</td>\n",
       "    </tr>\n",
       "    <tr>\n",
       "      <th>4</th>\n",
       "      <td>im_raveena_daha</td>\n",
       "      <td>of all the paths you take in life  make sure a...</td>\n",
       "    </tr>\n",
       "  </tbody>\n",
       "</table>\n",
       "</div>"
      ],
      "text/plain": [
       "                 username                                        description\n",
       "0           nikhilmalik__  inside this innocent look is a twisted mind|||...\n",
       "1       shivani_narayanan  dream without fear love without limits|||belie...\n",
       "2  shamitashetty_official  always be a first rate version of yourself ins...\n",
       "3         theshilpashetty  never allow someone else to dull your shine|||...\n",
       "4         im_raveena_daha  of all the paths you take in life  make sure a..."
      ]
     },
     "execution_count": 6,
     "metadata": {},
     "output_type": "execute_result"
    }
   ],
   "source": [
    "test.head()"
   ]
  },
  {
   "cell_type": "code",
   "execution_count": 7,
   "metadata": {},
   "outputs": [
    {
     "name": "stdout",
     "output_type": "stream",
     "text": [
      "Number of rows and columns in train data:(8675, 2)\n",
      "Number of rows and columns in test data:(52, 2)\n"
     ]
    }
   ],
   "source": [
    "print('Number of rows and columns in train data:{}' .format(train.shape))\n",
    "print('Number of rows and columns in test data:{}' .format(test.shape))"
   ]
  },
  {
   "cell_type": "code",
   "execution_count": 8,
   "metadata": {},
   "outputs": [
    {
     "data": {
      "text/plain": [
       "type     0\n",
       "posts    0\n",
       "dtype: int64"
      ]
     },
     "execution_count": 8,
     "metadata": {},
     "output_type": "execute_result"
    }
   ],
   "source": [
    "# Is there any missing data in any of the columns?\n",
    "train.isnull().sum()"
   ]
  },
  {
   "cell_type": "code",
   "execution_count": 9,
   "metadata": {},
   "outputs": [
    {
     "data": {
      "text/plain": [
       "username       0\n",
       "description    0\n",
       "dtype: int64"
      ]
     },
     "execution_count": 9,
     "metadata": {},
     "output_type": "execute_result"
    }
   ],
   "source": [
    "test.isnull().sum()"
   ]
  },
  {
   "cell_type": "code",
   "execution_count": 10,
   "metadata": {},
   "outputs": [
    {
     "data": {
      "text/html": [
       "<div>\n",
       "<style scoped>\n",
       "    .dataframe tbody tr th:only-of-type {\n",
       "        vertical-align: middle;\n",
       "    }\n",
       "\n",
       "    .dataframe tbody tr th {\n",
       "        vertical-align: top;\n",
       "    }\n",
       "\n",
       "    .dataframe thead th {\n",
       "        text-align: right;\n",
       "    }\n",
       "</style>\n",
       "<table border=\"1\" class=\"dataframe\">\n",
       "  <thead>\n",
       "    <tr style=\"text-align: right;\">\n",
       "      <th></th>\n",
       "      <th>posts</th>\n",
       "    </tr>\n",
       "    <tr>\n",
       "      <th>type</th>\n",
       "      <th></th>\n",
       "    </tr>\n",
       "  </thead>\n",
       "  <tbody>\n",
       "    <tr>\n",
       "      <th>INFP</th>\n",
       "      <td>1832</td>\n",
       "    </tr>\n",
       "    <tr>\n",
       "      <th>INFJ</th>\n",
       "      <td>1470</td>\n",
       "    </tr>\n",
       "    <tr>\n",
       "      <th>INTP</th>\n",
       "      <td>1304</td>\n",
       "    </tr>\n",
       "    <tr>\n",
       "      <th>INTJ</th>\n",
       "      <td>1091</td>\n",
       "    </tr>\n",
       "    <tr>\n",
       "      <th>ENTP</th>\n",
       "      <td>685</td>\n",
       "    </tr>\n",
       "    <tr>\n",
       "      <th>ENFP</th>\n",
       "      <td>675</td>\n",
       "    </tr>\n",
       "    <tr>\n",
       "      <th>ISTP</th>\n",
       "      <td>337</td>\n",
       "    </tr>\n",
       "    <tr>\n",
       "      <th>ISFP</th>\n",
       "      <td>271</td>\n",
       "    </tr>\n",
       "    <tr>\n",
       "      <th>ENTJ</th>\n",
       "      <td>231</td>\n",
       "    </tr>\n",
       "    <tr>\n",
       "      <th>ISTJ</th>\n",
       "      <td>205</td>\n",
       "    </tr>\n",
       "    <tr>\n",
       "      <th>ENFJ</th>\n",
       "      <td>190</td>\n",
       "    </tr>\n",
       "    <tr>\n",
       "      <th>ISFJ</th>\n",
       "      <td>166</td>\n",
       "    </tr>\n",
       "    <tr>\n",
       "      <th>ESTP</th>\n",
       "      <td>89</td>\n",
       "    </tr>\n",
       "    <tr>\n",
       "      <th>ESFP</th>\n",
       "      <td>48</td>\n",
       "    </tr>\n",
       "    <tr>\n",
       "      <th>ESFJ</th>\n",
       "      <td>42</td>\n",
       "    </tr>\n",
       "    <tr>\n",
       "      <th>ESTJ</th>\n",
       "      <td>39</td>\n",
       "    </tr>\n",
       "  </tbody>\n",
       "</table>\n",
       "</div>"
      ],
      "text/plain": [
       "      posts\n",
       "type       \n",
       "INFP   1832\n",
       "INFJ   1470\n",
       "INTP   1304\n",
       "INTJ   1091\n",
       "ENTP    685\n",
       "ENFP    675\n",
       "ISTP    337\n",
       "ISFP    271\n",
       "ENTJ    231\n",
       "ISTJ    205\n",
       "ENFJ    190\n",
       "ISFJ    166\n",
       "ESTP     89\n",
       "ESFP     48\n",
       "ESFJ     42\n",
       "ESTJ     39"
      ]
     },
     "execution_count": 10,
     "metadata": {},
     "output_type": "execute_result"
    }
   ],
   "source": [
    "# How many posts were written by each personality type?\n",
    "type_sum = train.groupby(['type']).count()\n",
    "type_sum.sort_values('posts', ascending=False, inplace=True)\n",
    "type_sum"
   ]
  },
  {
   "cell_type": "code",
   "execution_count": 11,
   "metadata": {},
   "outputs": [
    {
     "data": {
      "text/html": [
       "<div>\n",
       "<style scoped>\n",
       "    .dataframe tbody tr th:only-of-type {\n",
       "        vertical-align: middle;\n",
       "    }\n",
       "\n",
       "    .dataframe tbody tr th {\n",
       "        vertical-align: top;\n",
       "    }\n",
       "\n",
       "    .dataframe thead th {\n",
       "        text-align: right;\n",
       "    }\n",
       "</style>\n",
       "<table border=\"1\" class=\"dataframe\">\n",
       "  <thead>\n",
       "    <tr style=\"text-align: right;\">\n",
       "      <th></th>\n",
       "      <th>word_count</th>\n",
       "    </tr>\n",
       "    <tr>\n",
       "      <th>type</th>\n",
       "      <th></th>\n",
       "    </tr>\n",
       "  </thead>\n",
       "  <tbody>\n",
       "    <tr>\n",
       "      <th>INFP</th>\n",
       "      <td>2346749</td>\n",
       "    </tr>\n",
       "    <tr>\n",
       "      <th>INFJ</th>\n",
       "      <td>1935518</td>\n",
       "    </tr>\n",
       "    <tr>\n",
       "      <th>INTP</th>\n",
       "      <td>1606399</td>\n",
       "    </tr>\n",
       "    <tr>\n",
       "      <th>INTJ</th>\n",
       "      <td>1343332</td>\n",
       "    </tr>\n",
       "    <tr>\n",
       "      <th>ENFP</th>\n",
       "      <td>876141</td>\n",
       "    </tr>\n",
       "    <tr>\n",
       "      <th>ENTP</th>\n",
       "      <td>850974</td>\n",
       "    </tr>\n",
       "    <tr>\n",
       "      <th>ISTP</th>\n",
       "      <td>404616</td>\n",
       "    </tr>\n",
       "    <tr>\n",
       "      <th>ISFP</th>\n",
       "      <td>316165</td>\n",
       "    </tr>\n",
       "    <tr>\n",
       "      <th>ENTJ</th>\n",
       "      <td>290309</td>\n",
       "    </tr>\n",
       "    <tr>\n",
       "      <th>ISTJ</th>\n",
       "      <td>257235</td>\n",
       "    </tr>\n",
       "    <tr>\n",
       "      <th>ENFJ</th>\n",
       "      <td>251920</td>\n",
       "    </tr>\n",
       "    <tr>\n",
       "      <th>ISFJ</th>\n",
       "      <td>211714</td>\n",
       "    </tr>\n",
       "    <tr>\n",
       "      <th>ESTP</th>\n",
       "      <td>107072</td>\n",
       "    </tr>\n",
       "    <tr>\n",
       "      <th>ESFJ</th>\n",
       "      <td>55651</td>\n",
       "    </tr>\n",
       "    <tr>\n",
       "      <th>ESFP</th>\n",
       "      <td>50697</td>\n",
       "    </tr>\n",
       "    <tr>\n",
       "      <th>ESTJ</th>\n",
       "      <td>49248</td>\n",
       "    </tr>\n",
       "  </tbody>\n",
       "</table>\n",
       "</div>"
      ],
      "text/plain": [
       "      word_count\n",
       "type            \n",
       "INFP     2346749\n",
       "INFJ     1935518\n",
       "INTP     1606399\n",
       "INTJ     1343332\n",
       "ENFP      876141\n",
       "ENTP      850974\n",
       "ISTP      404616\n",
       "ISFP      316165\n",
       "ENTJ      290309\n",
       "ISTJ      257235\n",
       "ENFJ      251920\n",
       "ISFJ      211714\n",
       "ESTP      107072\n",
       "ESFJ       55651\n",
       "ESFP       50697\n",
       "ESTJ       49248"
      ]
     },
     "execution_count": 11,
     "metadata": {},
     "output_type": "execute_result"
    }
   ],
   "source": [
    "# How many total words were written by each personality type?\n",
    "train['word_count'] = train['posts'].apply(lambda x: len(str(x).split(\" \")))\n",
    "word_count = train.groupby('type').sum()\n",
    "word_count.sort_values('word_count', ascending=False, inplace=True)\n",
    "word_count"
   ]
  },
  {
   "cell_type": "code",
   "execution_count": 12,
   "metadata": {},
   "outputs": [],
   "source": [
    "#drop word_count column\n",
    "train = train.drop(['word_count'], axis=1)"
   ]
  },
  {
   "cell_type": "code",
   "execution_count": 13,
   "metadata": {},
   "outputs": [
    {
     "data": {
      "image/png": "[encoded data removed]",
      "text/plain": [
       "<Figure size 1080x288 with 1 Axes>"
      ]
     },
     "metadata": {
      "needs_background": "light"
     },
     "output_type": "display_data"
    }
   ],
   "source": [
    "# Distribution of the Personality Types\n",
    "dim = (15.0, 4.0)\n",
    "fig, ax = plt.subplots(figsize=dim)\n",
    "cmrmap = sns.color_palette('CMRmap', 16)\n",
    "sns.set_palette(cmrmap)\n",
    "sns.countplot(x='type', data=train,\n",
    "              order=['ENFJ', 'ENFP', 'ENTJ', 'ENTP', 'ESFJ', 'ESFP', 'ESTJ',\n",
    "                     'ESTP', 'INFJ', 'INFP', 'INTJ', 'INTP', 'ISFJ', 'ISFP',\n",
    "                     'ISTJ', 'ISTP'])\n",
    "plt.title('Distribution of Myers-Briggs Types in the Dataset', fontsize=16)\n",
    "plt.xlabel('Personality Type')\n",
    "plt.ylabel('Count of Posts')\n",
    "plt.xticks(fontsize=12)\n",
    "plt.yticks(fontsize=12)\n",
    "plt.show()"
   ]
  },
  {
   "cell_type": "code",
   "execution_count": 14,
   "metadata": {},
   "outputs": [],
   "source": [
    "# Create a binary column for each of the 4 dimension types\n",
    "train['Mind'] = train['type'].map(lambda x: 'Extroverted'\n",
    "                                  if x[0] == 'E' else 'Introverted')\n",
    "train['Energy'] = train['type'].map(lambda x: 'Intuitive'\n",
    "                                    if x[1] == 'N' else 'Sensing')\n",
    "train['Nature'] = train['type'].map(lambda x: 'Thinking'\n",
    "                                    if x[2] == 'T' else 'Feeling')\n",
    "train['Tactics'] = train['type'].map(lambda x: 'Judging'\n",
    "                                     if x[3] == 'J' else 'Perceiving')"
   ]
  },
  {
   "cell_type": "code",
   "execution_count": 15,
   "metadata": {},
   "outputs": [
    {
     "data": {
      "image/png": "[encoded data removed]",
      "text/plain": [
       "<Figure size 432x288 with 1 Axes>"
      ]
     },
     "metadata": {
      "needs_background": "light"
     },
     "output_type": "display_data"
    }
   ],
   "source": [
    "# Mind\n",
    "# Countplot of the Introverted - Extroverted variable\n",
    "IEcolors = sns.xkcd_palette(['red', 'soft pink'])\n",
    "sns.set_palette(IEcolors)\n",
    "sns.countplot(x='Mind', data=train, order=['Introverted', 'Extroverted'])\n",
    "plt.ylim(0, 8000)\n",
    "plt.xticks(fontsize=12)\n",
    "plt.yticks(fontsize=12)\n",
    "plt.xlabel('Introverted vs Extroverted')\n",
    "plt.ylabel('Count of each Personality Type')\n",
    "plt.title('Introversion vs. Extroversion', fontsize=14)\n",
    "plt.show()"
   ]
  },
  {
   "cell_type": "code",
   "execution_count": 16,
   "metadata": {},
   "outputs": [
    {
     "data": {
      "image/png": "[encoded data removed]",
      "text/plain": [
       "<Figure size 432x288 with 1 Axes>"
      ]
     },
     "metadata": {
      "needs_background": "light"
     },
     "output_type": "display_data"
    }
   ],
   "source": [
    "# Countplot of the Intuitive - Sensing variable\n",
    "NScolors = sns.xkcd_palette(['blue', 'light blue'])\n",
    "sns.set_palette(NScolors)\n",
    "sns.countplot(x='Energy', data=train, order=['Intuitive', 'Sensing'])\n",
    "plt.title('Intuitive vs. Sensing', fontsize=14)\n",
    "plt.ylim(0, 8000)\n",
    "plt.xticks(fontsize=12)\n",
    "plt.yticks(fontsize=12)\n",
    "plt.show()"
   ]
  },
  {
   "cell_type": "code",
   "execution_count": 18,
   "metadata": {},
   "outputs": [
    {
     "data": {
      "image/png": "[encoded data removed]",
      "text/plain": [
       "<Figure size 432x288 with 1 Axes>"
      ]
     },
     "metadata": {
      "needs_background": "light"
     },
     "output_type": "display_data"
    }
   ],
   "source": [
    "# Countplot of the Thinking - Feeling variable\n",
    "TFcolors = sns.xkcd_palette(['green', 'pale green'])\n",
    "sns.set_palette(TFcolors)\n",
    "sns.countplot(x='Nature', data=train, order=['Thinking', 'Feeling'])\n",
    "plt.title('Thinking vs. Feeling', fontsize=14)\n",
    "plt.ylim(0, 8000)\n",
    "plt.xticks(fontsize=12)\n",
    "plt.yticks(fontsize=12)\n",
    "plt.show()\n"
   ]
  },
  {
   "cell_type": "code",
   "execution_count": 17,
   "metadata": {},
   "outputs": [
    {
     "data": {
      "image/png": "[encoded data removed]",
      "text/plain": [
       "<Figure size 432x288 with 1 Axes>"
      ]
     },
     "metadata": {
      "needs_background": "light"
     },
     "output_type": "display_data"
    }
   ],
   "source": [
    "# Countplot of Judging - Perceiving\n",
    "JPcolors = sns.xkcd_palette(['purple', 'lavender'])\n",
    "sns.set_palette(JPcolors)\n",
    "sns.countplot(x='Tactics', data=train, order=['Judging', 'Perceiving'])\n",
    "plt.title('Judging vs. Perceiving', fontsize=14)\n",
    "plt.ylim(0, 8000)\n",
    "plt.xticks(fontsize=12)\n",
    "plt.yticks(fontsize=12)\n",
    "plt.show()"
   ]
  },
  {
   "cell_type": "code",
   "execution_count": 19,
   "metadata": {},
   "outputs": [],
   "source": [
    "# Removing delimeters\n",
    "\n",
    "def remove_delimiters (post):\n",
    "    new = post.replace('|||',' ')\n",
    "    return ' '.join(new.split())\n",
    "\n",
    "train['posts'] = train['posts'].apply(remove_delimiters)\n",
    "test['description'] = test['description'].apply(remove_delimiters)"
   ]
  },
  {
   "cell_type": "code",
   "execution_count": 20,
   "metadata": {},
   "outputs": [],
   "source": [
    "# Removing URLs\n",
    "pattern_url = r'http[s]?://(?:[A-Za-z]|[0-9]|[$-_@.&+]|[!*\\(\\),]|(?:%[0-9A-Fa-f][0-9A-Fa-f]))+'\n",
    "subs_url = r'url-web'\n",
    "\n",
    "#apply to train set\n",
    "train['posts'] = train['posts'].replace(to_replace = pattern_url, value = subs_url, regex = True)\n",
    "\n",
    "#apply to test set\n",
    "test['description'] = test['description'].replace(to_replace = pattern_url, value = subs_url, regex = True)\n"
   ]
  },
  {
   "cell_type": "code",
   "execution_count": 22,
   "metadata": {},
   "outputs": [],
   "source": [
    "# Convert words to lowercase\n",
    "train['posts'] = train['posts'].str.lower()\n",
    "\n",
    "test['description'] = test['description'].str.lower()"
   ]
  },
  {
   "cell_type": "code",
   "execution_count": 21,
   "metadata": {},
   "outputs": [],
   "source": [
    "# Remove punctuation and numbers\n",
    "#Remove punctuation & numbers\n",
    "def remove_punctuation(post):\n",
    "    punc_numbers = string.punctuation + '0123456789'\n",
    "    return ''.join([l for l in post if l not in punc_numbers])\n",
    "\n",
    "train['posts'] = train['posts'].apply(remove_punctuation)\n",
    "\n",
    "test['description'] = test['description'].apply(remove_punctuation)"
   ]
  },
  {
   "cell_type": "code",
   "execution_count": 23,
   "metadata": {},
   "outputs": [],
   "source": [
    "# Lematise posts\n",
    "lemmatizer = WordNetLemmatizer()\n",
    "train['lemma'] = [' '.join([lemmatizer.lemmatize(word) for word in text.split(' ')])for text in train['posts']]\n",
    "test['lemma'] = [' '.join([lemmatizer.lemmatize(word) for word in text.split(' ')])for text in test['description']]"
   ]
  },
  {
   "cell_type": "code",
   "execution_count": 24,
   "metadata": {},
   "outputs": [
    {
     "data": {
      "text/html": [
       "<div>\n",
       "<style scoped>\n",
       "    .dataframe tbody tr th:only-of-type {\n",
       "        vertical-align: middle;\n",
       "    }\n",
       "\n",
       "    .dataframe tbody tr th {\n",
       "        vertical-align: top;\n",
       "    }\n",
       "\n",
       "    .dataframe thead th {\n",
       "        text-align: right;\n",
       "    }\n",
       "</style>\n",
       "<table border=\"1\" class=\"dataframe\">\n",
       "  <thead>\n",
       "    <tr style=\"text-align: right;\">\n",
       "      <th></th>\n",
       "      <th>lemma</th>\n",
       "      <th>stopwords</th>\n",
       "    </tr>\n",
       "  </thead>\n",
       "  <tbody>\n",
       "    <tr>\n",
       "      <th>0</th>\n",
       "      <td>urlweb urlweb enfp and intj moment urlweb spor...</td>\n",
       "      <td>257</td>\n",
       "    </tr>\n",
       "    <tr>\n",
       "      <th>1</th>\n",
       "      <td>im finding the lack of me in these post very a...</td>\n",
       "      <td>587</td>\n",
       "    </tr>\n",
       "    <tr>\n",
       "      <th>2</th>\n",
       "      <td>good one  urlweb of course to which i say i kn...</td>\n",
       "      <td>402</td>\n",
       "    </tr>\n",
       "    <tr>\n",
       "      <th>3</th>\n",
       "      <td>dear intp i enjoyed our conversation the other...</td>\n",
       "      <td>529</td>\n",
       "    </tr>\n",
       "    <tr>\n",
       "      <th>4</th>\n",
       "      <td>youre fired thats another silly misconception ...</td>\n",
       "      <td>495</td>\n",
       "    </tr>\n",
       "  </tbody>\n",
       "</table>\n",
       "</div>"
      ],
      "text/plain": [
       "                                               lemma  stopwords\n",
       "0  urlweb urlweb enfp and intj moment urlweb spor...        257\n",
       "1  im finding the lack of me in these post very a...        587\n",
       "2  good one  urlweb of course to which i say i kn...        402\n",
       "3  dear intp i enjoyed our conversation the other...        529\n",
       "4  youre fired thats another silly misconception ...        495"
      ]
     },
     "execution_count": 24,
     "metadata": {},
     "output_type": "execute_result"
    }
   ],
   "source": [
    "#Check for stopwords train\n",
    "stop = stopwords.words('english')\n",
    "train['stopwords'] = train['lemma'].apply(lambda x: len([x for x in x.split() if x in stop]))\n",
    "train[['lemma','stopwords']].head()"
   ]
  },
  {
   "cell_type": "code",
   "execution_count": 25,
   "metadata": {},
   "outputs": [
    {
     "data": {
      "text/html": [
       "<div>\n",
       "<style scoped>\n",
       "    .dataframe tbody tr th:only-of-type {\n",
       "        vertical-align: middle;\n",
       "    }\n",
       "\n",
       "    .dataframe tbody tr th {\n",
       "        vertical-align: top;\n",
       "    }\n",
       "\n",
       "    .dataframe thead th {\n",
       "        text-align: right;\n",
       "    }\n",
       "</style>\n",
       "<table border=\"1\" class=\"dataframe\">\n",
       "  <thead>\n",
       "    <tr style=\"text-align: right;\">\n",
       "      <th></th>\n",
       "      <th>lemma</th>\n",
       "      <th>stopwords</th>\n",
       "    </tr>\n",
       "  </thead>\n",
       "  <tbody>\n",
       "    <tr>\n",
       "      <th>0</th>\n",
       "      <td>inside this innocent look is a twisted mind a ...</td>\n",
       "      <td>11</td>\n",
       "    </tr>\n",
       "    <tr>\n",
       "      <th>1</th>\n",
       "      <td>dream without fear love without limit believe ...</td>\n",
       "      <td>9</td>\n",
       "    </tr>\n",
       "    <tr>\n",
       "      <th>2</th>\n",
       "      <td>always be a first rate version of yourself ins...</td>\n",
       "      <td>30</td>\n",
       "    </tr>\n",
       "    <tr>\n",
       "      <th>3</th>\n",
       "      <td>never allow someone else to dull your shine th...</td>\n",
       "      <td>38</td>\n",
       "    </tr>\n",
       "    <tr>\n",
       "      <th>4</th>\n",
       "      <td>of all the path you take in life make sure a f...</td>\n",
       "      <td>12</td>\n",
       "    </tr>\n",
       "  </tbody>\n",
       "</table>\n",
       "</div>"
      ],
      "text/plain": [
       "                                               lemma  stopwords\n",
       "0  inside this innocent look is a twisted mind a ...         11\n",
       "1  dream without fear love without limit believe ...          9\n",
       "2  always be a first rate version of yourself ins...         30\n",
       "3  never allow someone else to dull your shine th...         38\n",
       "4  of all the path you take in life make sure a f...         12"
      ]
     },
     "execution_count": 25,
     "metadata": {},
     "output_type": "execute_result"
    }
   ],
   "source": [
    "#Check for stopwords test\n",
    "stop = stopwords.words('english')\n",
    "test['stopwords'] = test['lemma'].apply(lambda x: len([x for x in x.split() if x in stop]))\n",
    "test[['lemma','stopwords']].head()"
   ]
  },
  {
   "cell_type": "code",
   "execution_count": 26,
   "metadata": {},
   "outputs": [],
   "source": [
    "def remove_stop_words(word):\n",
    "    if word not in stop:\n",
    "        return word\n",
    "    else:\n",
    "        return ''\n",
    "test['lemma_no_stop'] = [' '.join([remove_stop_words(word) for word in text.split(' ')])for text in test['lemma']]"
   ]
  },
  {
   "cell_type": "code",
   "execution_count": 27,
   "metadata": {},
   "outputs": [
    {
     "data": {
      "text/html": [
       "<div>\n",
       "<style scoped>\n",
       "    .dataframe tbody tr th:only-of-type {\n",
       "        vertical-align: middle;\n",
       "    }\n",
       "\n",
       "    .dataframe tbody tr th {\n",
       "        vertical-align: top;\n",
       "    }\n",
       "\n",
       "    .dataframe thead th {\n",
       "        text-align: right;\n",
       "    }\n",
       "</style>\n",
       "<table border=\"1\" class=\"dataframe\">\n",
       "  <thead>\n",
       "    <tr style=\"text-align: right;\">\n",
       "      <th></th>\n",
       "      <th>username</th>\n",
       "      <th>description</th>\n",
       "      <th>lemma</th>\n",
       "      <th>stopwords</th>\n",
       "      <th>lemma_no_stop</th>\n",
       "    </tr>\n",
       "  </thead>\n",
       "  <tbody>\n",
       "    <tr>\n",
       "      <th>0</th>\n",
       "      <td>nikhilmalik__</td>\n",
       "      <td>inside this innocent look is a twisted mind a ...</td>\n",
       "      <td>inside this innocent look is a twisted mind a ...</td>\n",
       "      <td>11</td>\n",
       "      <td>inside  innocent look   twisted mind  vision w...</td>\n",
       "    </tr>\n",
       "    <tr>\n",
       "      <th>1</th>\n",
       "      <td>shivani_narayanan</td>\n",
       "      <td>dream without fear love without limits believe...</td>\n",
       "      <td>dream without fear love without limit believe ...</td>\n",
       "      <td>9</td>\n",
       "      <td>dream without fear love without limit believe ...</td>\n",
       "    </tr>\n",
       "    <tr>\n",
       "      <th>2</th>\n",
       "      <td>shamitashetty_official</td>\n",
       "      <td>always be a first rate version of yourself ins...</td>\n",
       "      <td>always be a first rate version of yourself ins...</td>\n",
       "      <td>30</td>\n",
       "      <td>always   first rate version   instead   second...</td>\n",
       "    </tr>\n",
       "    <tr>\n",
       "      <th>3</th>\n",
       "      <td>theshilpashetty</td>\n",
       "      <td>never allow someone else to dull your shine th...</td>\n",
       "      <td>never allow someone else to dull your shine th...</td>\n",
       "      <td>38</td>\n",
       "      <td>never allow someone else  dull  shine  world s...</td>\n",
       "    </tr>\n",
       "    <tr>\n",
       "      <th>4</th>\n",
       "      <td>im_raveena_daha</td>\n",
       "      <td>of all the paths you take in life make sure a ...</td>\n",
       "      <td>of all the path you take in life make sure a f...</td>\n",
       "      <td>12</td>\n",
       "      <td>path  take  life make sure      dirt  limit...</td>\n",
       "    </tr>\n",
       "  </tbody>\n",
       "</table>\n",
       "</div>"
      ],
      "text/plain": [
       "                 username                                        description  \\\n",
       "0           nikhilmalik__  inside this innocent look is a twisted mind a ...   \n",
       "1       shivani_narayanan  dream without fear love without limits believe...   \n",
       "2  shamitashetty_official  always be a first rate version of yourself ins...   \n",
       "3         theshilpashetty  never allow someone else to dull your shine th...   \n",
       "4         im_raveena_daha  of all the paths you take in life make sure a ...   \n",
       "\n",
       "                                               lemma  stopwords  \\\n",
       "0  inside this innocent look is a twisted mind a ...         11   \n",
       "1  dream without fear love without limit believe ...          9   \n",
       "2  always be a first rate version of yourself ins...         30   \n",
       "3  never allow someone else to dull your shine th...         38   \n",
       "4  of all the path you take in life make sure a f...         12   \n",
       "\n",
       "                                       lemma_no_stop  \n",
       "0  inside  innocent look   twisted mind  vision w...  \n",
       "1  dream without fear love without limit believe ...  \n",
       "2  always   first rate version   instead   second...  \n",
       "3  never allow someone else  dull  shine  world s...  \n",
       "4     path  take  life make sure      dirt  limit...  "
      ]
     },
     "execution_count": 27,
     "metadata": {},
     "output_type": "execute_result"
    }
   ],
   "source": [
    "test.head()"
   ]
  },
  {
   "cell_type": "code",
   "execution_count": 28,
   "metadata": {},
   "outputs": [],
   "source": [
    "# Model Building\n",
    "#Create binary classes for each of the personality characteristics\n",
    "train['E'] = train['type'].apply(lambda x: x[0] == 'E').astype('int')\n",
    "train['N'] = train['type'].apply(lambda x: x[1] == 'N').astype('int')\n",
    "train['T'] = train['type'].apply(lambda x: x[2] == 'T').astype('int')\n",
    "train['J'] = train['type'].apply(lambda x: x[3] == 'J').astype('int')"
   ]
  },
  {
   "cell_type": "code",
   "execution_count": 29,
   "metadata": {},
   "outputs": [
    {
     "data": {
      "text/html": [
       "<div>\n",
       "<style scoped>\n",
       "    .dataframe tbody tr th:only-of-type {\n",
       "        vertical-align: middle;\n",
       "    }\n",
       "\n",
       "    .dataframe tbody tr th {\n",
       "        vertical-align: top;\n",
       "    }\n",
       "\n",
       "    .dataframe thead th {\n",
       "        text-align: right;\n",
       "    }\n",
       "</style>\n",
       "<table border=\"1\" class=\"dataframe\">\n",
       "  <thead>\n",
       "    <tr style=\"text-align: right;\">\n",
       "      <th></th>\n",
       "      <th>type</th>\n",
       "      <th>posts</th>\n",
       "      <th>Mind</th>\n",
       "      <th>Energy</th>\n",
       "      <th>Nature</th>\n",
       "      <th>Tactics</th>\n",
       "      <th>lemma</th>\n",
       "      <th>stopwords</th>\n",
       "      <th>E</th>\n",
       "      <th>N</th>\n",
       "      <th>T</th>\n",
       "      <th>J</th>\n",
       "    </tr>\n",
       "  </thead>\n",
       "  <tbody>\n",
       "    <tr>\n",
       "      <th>0</th>\n",
       "      <td>INFJ</td>\n",
       "      <td>urlweb urlweb enfp and intj moments urlweb spo...</td>\n",
       "      <td>Introverted</td>\n",
       "      <td>Intuitive</td>\n",
       "      <td>Feeling</td>\n",
       "      <td>Judging</td>\n",
       "      <td>urlweb urlweb enfp and intj moment urlweb spor...</td>\n",
       "      <td>257</td>\n",
       "      <td>0</td>\n",
       "      <td>1</td>\n",
       "      <td>0</td>\n",
       "      <td>1</td>\n",
       "    </tr>\n",
       "    <tr>\n",
       "      <th>1</th>\n",
       "      <td>ENTP</td>\n",
       "      <td>im finding the lack of me in these posts very ...</td>\n",
       "      <td>Extroverted</td>\n",
       "      <td>Intuitive</td>\n",
       "      <td>Thinking</td>\n",
       "      <td>Perceiving</td>\n",
       "      <td>im finding the lack of me in these post very a...</td>\n",
       "      <td>587</td>\n",
       "      <td>1</td>\n",
       "      <td>1</td>\n",
       "      <td>1</td>\n",
       "      <td>0</td>\n",
       "    </tr>\n",
       "    <tr>\n",
       "      <th>2</th>\n",
       "      <td>INTP</td>\n",
       "      <td>good one  urlweb of course to which i say i kn...</td>\n",
       "      <td>Introverted</td>\n",
       "      <td>Intuitive</td>\n",
       "      <td>Thinking</td>\n",
       "      <td>Perceiving</td>\n",
       "      <td>good one  urlweb of course to which i say i kn...</td>\n",
       "      <td>402</td>\n",
       "      <td>0</td>\n",
       "      <td>1</td>\n",
       "      <td>1</td>\n",
       "      <td>0</td>\n",
       "    </tr>\n",
       "    <tr>\n",
       "      <th>3</th>\n",
       "      <td>INTJ</td>\n",
       "      <td>dear intp i enjoyed our conversation the other...</td>\n",
       "      <td>Introverted</td>\n",
       "      <td>Intuitive</td>\n",
       "      <td>Thinking</td>\n",
       "      <td>Judging</td>\n",
       "      <td>dear intp i enjoyed our conversation the other...</td>\n",
       "      <td>529</td>\n",
       "      <td>0</td>\n",
       "      <td>1</td>\n",
       "      <td>1</td>\n",
       "      <td>1</td>\n",
       "    </tr>\n",
       "    <tr>\n",
       "      <th>4</th>\n",
       "      <td>ENTJ</td>\n",
       "      <td>youre fired thats another silly misconception ...</td>\n",
       "      <td>Extroverted</td>\n",
       "      <td>Intuitive</td>\n",
       "      <td>Thinking</td>\n",
       "      <td>Judging</td>\n",
       "      <td>youre fired thats another silly misconception ...</td>\n",
       "      <td>495</td>\n",
       "      <td>1</td>\n",
       "      <td>1</td>\n",
       "      <td>1</td>\n",
       "      <td>1</td>\n",
       "    </tr>\n",
       "  </tbody>\n",
       "</table>\n",
       "</div>"
      ],
      "text/plain": [
       "   type                                              posts         Mind  \\\n",
       "0  INFJ  urlweb urlweb enfp and intj moments urlweb spo...  Introverted   \n",
       "1  ENTP  im finding the lack of me in these posts very ...  Extroverted   \n",
       "2  INTP  good one  urlweb of course to which i say i kn...  Introverted   \n",
       "3  INTJ  dear intp i enjoyed our conversation the other...  Introverted   \n",
       "4  ENTJ  youre fired thats another silly misconception ...  Extroverted   \n",
       "\n",
       "      Energy    Nature     Tactics  \\\n",
       "0  Intuitive   Feeling     Judging   \n",
       "1  Intuitive  Thinking  Perceiving   \n",
       "2  Intuitive  Thinking  Perceiving   \n",
       "3  Intuitive  Thinking     Judging   \n",
       "4  Intuitive  Thinking     Judging   \n",
       "\n",
       "                                               lemma  stopwords  E  N  T  J  \n",
       "0  urlweb urlweb enfp and intj moment urlweb spor...        257  0  1  0  1  \n",
       "1  im finding the lack of me in these post very a...        587  1  1  1  0  \n",
       "2  good one  urlweb of course to which i say i kn...        402  0  1  1  0  \n",
       "3  dear intp i enjoyed our conversation the other...        529  0  1  1  1  \n",
       "4  youre fired thats another silly misconception ...        495  1  1  1  1  "
      ]
     },
     "execution_count": 29,
     "metadata": {},
     "output_type": "execute_result"
    }
   ],
   "source": [
    "train.head()"
   ]
  },
  {
   "cell_type": "code",
   "execution_count": 30,
   "metadata": {},
   "outputs": [],
   "source": [
    "mind_df = train[['lemma','E']]"
   ]
  },
  {
   "cell_type": "code",
   "execution_count": 32,
   "metadata": {},
   "outputs": [],
   "source": [
    "# Model Building\n",
    "\n",
    "    #classifiers\n",
    "from sklearn.linear_model import LogisticRegression\n",
    "# from sklearn.svm import SVC\n",
    "# from sklearn.ensemble import AdaBoostClassifier\n",
    "\n",
    "    #vectorizers\n",
    "from sklearn.feature_extraction.text import CountVectorizer\n",
    "from sklearn.feature_extraction.text import TfidfVectorizer\n",
    "\n",
    "    #training features\n",
    "from sklearn.model_selection import cross_val_score, train_test_split\n",
    "from sklearn.model_selection import GridSearchCV\n",
    "\n",
    "    #performance measures\n",
    "from sklearn.metrics import accuracy_score,log_loss\n",
    "from sklearn.metrics import classification_report, confusion_matrix\n",
    "from sklearn.metrics import make_scorer"
   ]
  },
  {
   "cell_type": "code",
   "execution_count": 33,
   "metadata": {},
   "outputs": [],
   "source": [
    "vect_mind = TfidfVectorizer(lowercase=True, \n",
    "                            stop_words='english', \n",
    "                            max_features=250,\n",
    "                            min_df=4,\n",
    "                            max_df=0.5\n",
    "                           )"
   ]
  },
  {
   "cell_type": "code",
   "execution_count": 34,
   "metadata": {},
   "outputs": [],
   "source": [
    "vect_mind.fit(mind_df['lemma'])\n",
    "X_count_mind = vect_mind.transform(mind_df['lemma'])"
   ]
  },
  {
   "cell_type": "code",
   "execution_count": 39,
   "metadata": {},
   "outputs": [],
   "source": [
    "def tune_LogReg_model(X_train, y_train): \n",
    "    C_list = [0.001, 0.01, 0.1, 0.5, 0.75, 1, 5, 10, 25, 100]\n",
    "    penalty_list = ['l1','l2']\n",
    "\n",
    "    score = make_scorer(scoring_function_log_loss, greater_is_better = False)\n",
    "    \n",
    "    logreg = LogisticRegression()\n",
    "    \n",
    "    parameters = {'C':C_list,\n",
    "                  'penalty': penalty_list}\n",
    "    tune = GridSearchCV(logreg, parameters, scoring = score)\n",
    "    tune.fit(X_train,y_train)\n",
    "    \n",
    "    return tune"
   ]
  },
  {
   "cell_type": "code",
   "execution_count": 42,
   "metadata": {},
   "outputs": [],
   "source": [
    "X = X_count_mind\n",
    "y = mind_df['E']\n",
    "X_train, X_test, y_train, y_test = train_test_split(X, \n",
    "                                                    y,\n",
    "                                                    test_size =0.3,\n",
    "                                                   random_state = 42)"
   ]
  },
  {
   "cell_type": "code",
   "execution_count": 44,
   "metadata": {},
   "outputs": [],
   "source": [
    "def scoring_function_log_loss(y_test, y_pred_test):\n",
    "    return log_loss(y_test, y_pred_test)"
   ]
  },
  {
   "cell_type": "code",
   "execution_count": 45,
   "metadata": {},
   "outputs": [],
   "source": [
    "score_log_loss = make_scorer(scoring_function_log_loss, greater_is_better = False)"
   ]
  },
  {
   "cell_type": "code",
   "execution_count": 46,
   "metadata": {},
   "outputs": [
    {
     "name": "stderr",
     "output_type": "stream",
     "text": [
      "C:\\Users\\Parthasarathy\\AppData\\Local\\Programs\\Python\\Python39\\lib\\site-packages\\sklearn\\model_selection\\_validation.py:372: FitFailedWarning: \n",
      "50 fits failed out of a total of 100.\n",
      "The score on these train-test partitions for these parameters will be set to nan.\n",
      "If these failures are not expected, you can try to debug them by setting error_score='raise'.\n",
      "\n",
      "Below are more details about the failures:\n",
      "--------------------------------------------------------------------------------\n",
      "50 fits failed with the following error:\n",
      "Traceback (most recent call last):\n",
      "  File \"C:\\Users\\Parthasarathy\\AppData\\Local\\Programs\\Python\\Python39\\lib\\site-packages\\sklearn\\model_selection\\_validation.py\", line 681, in _fit_and_score\n",
      "    estimator.fit(X_train, y_train, **fit_params)\n",
      "  File \"C:\\Users\\Parthasarathy\\AppData\\Local\\Programs\\Python\\Python39\\lib\\site-packages\\sklearn\\linear_model\\_logistic.py\", line 1461, in fit\n",
      "    solver = _check_solver(self.solver, self.penalty, self.dual)\n",
      "  File \"C:\\Users\\Parthasarathy\\AppData\\Local\\Programs\\Python\\Python39\\lib\\site-packages\\sklearn\\linear_model\\_logistic.py\", line 447, in _check_solver\n",
      "    raise ValueError(\n",
      "ValueError: Solver lbfgs supports only 'l2' or 'none' penalties, got l1 penalty.\n",
      "\n",
      "  warnings.warn(some_fits_failed_message, FitFailedWarning)\n",
      "C:\\Users\\Parthasarathy\\AppData\\Local\\Programs\\Python\\Python39\\lib\\site-packages\\sklearn\\model_selection\\_search.py:969: UserWarning: One or more of the test scores are non-finite: [        nan -8.11706321         nan -8.11706321         nan -6.83155254\n",
      "         nan -5.52900216         nan -5.35268248         nan -5.30715875\n",
      "         nan -5.27873631         nan -5.29582375         nan -5.34133646\n",
      "         nan -5.37546394]\n",
      "  warnings.warn(\n"
     ]
    }
   ],
   "source": [
    "best_mind_model = tune_LogReg_model(X_train, y_train)"
   ]
  },
  {
   "cell_type": "code",
   "execution_count": 47,
   "metadata": {},
   "outputs": [
    {
     "data": {
      "text/plain": [
       "LogisticRegression(C=5)"
      ]
     },
     "execution_count": 47,
     "metadata": {},
     "output_type": "execute_result"
    }
   ],
   "source": [
    "mind_model = LogisticRegression(C=best_mind_model.best_params_['C'], penalty = best_mind_model.best_params_['penalty'])\n",
    "mind_model.fit(X_train, y_train)"
   ]
  },
  {
   "cell_type": "code",
   "execution_count": 48,
   "metadata": {},
   "outputs": [],
   "source": [
    "y_pred_train = mind_model.predict(X_train)"
   ]
  },
  {
   "cell_type": "code",
   "execution_count": 49,
   "metadata": {},
   "outputs": [
    {
     "data": {
      "text/plain": [
       "0.8679183135704874"
      ]
     },
     "execution_count": 49,
     "metadata": {},
     "output_type": "execute_result"
    }
   ],
   "source": [
    "accuracy_score(y_train, y_pred_train)"
   ]
  },
  {
   "cell_type": "code",
   "execution_count": 50,
   "metadata": {},
   "outputs": [],
   "source": [
    "y_pred_test = mind_model.predict(X_test)"
   ]
  },
  {
   "cell_type": "code",
   "execution_count": 51,
   "metadata": {},
   "outputs": [
    {
     "data": {
      "text/plain": [
       "0.8586246638494045"
      ]
     },
     "execution_count": 51,
     "metadata": {},
     "output_type": "execute_result"
    }
   ],
   "source": [
    "accuracy_score(y_test, y_pred_test)"
   ]
  },
  {
   "cell_type": "code",
   "execution_count": 52,
   "metadata": {},
   "outputs": [
    {
     "data": {
      "text/plain": [
       "array([[4437,  208],\n",
       "       [ 594,  833]], dtype=int64)"
      ]
     },
     "execution_count": 52,
     "metadata": {},
     "output_type": "execute_result"
    }
   ],
   "source": [
    "confusion_matrix(y_train, y_pred_train)"
   ]
  },
  {
   "cell_type": "code",
   "execution_count": 53,
   "metadata": {},
   "outputs": [
    {
     "data": {
      "text/plain": [
       "array([[1918,  113],\n",
       "       [ 255,  317]], dtype=int64)"
      ]
     },
     "execution_count": 53,
     "metadata": {},
     "output_type": "execute_result"
    }
   ],
   "source": [
    "confusion_matrix(y_test, y_pred_test)"
   ]
  },
  {
   "cell_type": "code",
   "execution_count": 54,
   "metadata": {},
   "outputs": [
    {
     "name": "stdout",
     "output_type": "stream",
     "text": [
      "              precision    recall  f1-score   support\n",
      "\n",
      "           0       0.88      0.96      0.92      4645\n",
      "           1       0.80      0.58      0.68      1427\n",
      "\n",
      "    accuracy                           0.87      6072\n",
      "   macro avg       0.84      0.77      0.80      6072\n",
      "weighted avg       0.86      0.87      0.86      6072\n",
      "\n"
     ]
    }
   ],
   "source": [
    "print(classification_report(y_train, y_pred_train))"
   ]
  },
  {
   "cell_type": "code",
   "execution_count": 55,
   "metadata": {},
   "outputs": [
    {
     "name": "stdout",
     "output_type": "stream",
     "text": [
      "              precision    recall  f1-score   support\n",
      "\n",
      "           0       0.88      0.94      0.91      2031\n",
      "           1       0.74      0.55      0.63       572\n",
      "\n",
      "    accuracy                           0.86      2603\n",
      "   macro avg       0.81      0.75      0.77      2603\n",
      "weighted avg       0.85      0.86      0.85      2603\n",
      "\n"
     ]
    }
   ],
   "source": [
    "print(classification_report(y_test, y_pred_test))"
   ]
  },
  {
   "cell_type": "code",
   "execution_count": 56,
   "metadata": {},
   "outputs": [
    {
     "data": {
      "text/plain": [
       "4.56196722414095"
      ]
     },
     "execution_count": 56,
     "metadata": {},
     "output_type": "execute_result"
    }
   ],
   "source": [
    "log_loss(y_train, y_pred_train)"
   ]
  },
  {
   "cell_type": "code",
   "execution_count": 57,
   "metadata": {},
   "outputs": [
    {
     "data": {
      "text/plain": [
       "4.882965834743275"
      ]
     },
     "execution_count": 57,
     "metadata": {},
     "output_type": "execute_result"
    }
   ],
   "source": [
    "log_loss(y_test, y_pred_test)"
   ]
  },
  {
   "cell_type": "code",
   "execution_count": 58,
   "metadata": {},
   "outputs": [
    {
     "data": {
      "image/png": "[encoded data removed]",
      "text/plain": [
       "<Figure size 432x288 with 1 Axes>"
      ]
     },
     "metadata": {
      "needs_background": "light"
     },
     "output_type": "display_data"
    },
    {
     "data": {
      "text/html": [
       "<div>\n",
       "<style scoped>\n",
       "    .dataframe tbody tr th:only-of-type {\n",
       "        vertical-align: middle;\n",
       "    }\n",
       "\n",
       "    .dataframe tbody tr th {\n",
       "        vertical-align: top;\n",
       "    }\n",
       "\n",
       "    .dataframe thead th {\n",
       "        text-align: right;\n",
       "    }\n",
       "</style>\n",
       "<table border=\"1\" class=\"dataframe\">\n",
       "  <thead>\n",
       "    <tr style=\"text-align: right;\">\n",
       "      <th></th>\n",
       "      <th>username</th>\n",
       "      <th>E_pred</th>\n",
       "    </tr>\n",
       "  </thead>\n",
       "  <tbody>\n",
       "    <tr>\n",
       "      <th>0</th>\n",
       "      <td>nikhilmalik__</td>\n",
       "      <td>0</td>\n",
       "    </tr>\n",
       "    <tr>\n",
       "      <th>1</th>\n",
       "      <td>shivani_narayanan</td>\n",
       "      <td>0</td>\n",
       "    </tr>\n",
       "    <tr>\n",
       "      <th>2</th>\n",
       "      <td>shamitashetty_official</td>\n",
       "      <td>0</td>\n",
       "    </tr>\n",
       "    <tr>\n",
       "      <th>3</th>\n",
       "      <td>theshilpashetty</td>\n",
       "      <td>0</td>\n",
       "    </tr>\n",
       "    <tr>\n",
       "      <th>4</th>\n",
       "      <td>im_raveena_daha</td>\n",
       "      <td>0</td>\n",
       "    </tr>\n",
       "    <tr>\n",
       "      <th>5</th>\n",
       "      <td>srideviashok_official</td>\n",
       "      <td>0</td>\n",
       "    </tr>\n",
       "    <tr>\n",
       "      <th>6</th>\n",
       "      <td>shrutzhaasan</td>\n",
       "      <td>0</td>\n",
       "    </tr>\n",
       "    <tr>\n",
       "      <th>7</th>\n",
       "      <td>shrutisinhahaha</td>\n",
       "      <td>0</td>\n",
       "    </tr>\n",
       "    <tr>\n",
       "      <th>8</th>\n",
       "      <td>rannvijaysingha</td>\n",
       "      <td>0</td>\n",
       "    </tr>\n",
       "    <tr>\n",
       "      <th>9</th>\n",
       "      <td>randeepraii</td>\n",
       "      <td>0</td>\n",
       "    </tr>\n",
       "  </tbody>\n",
       "</table>\n",
       "</div>"
      ],
      "text/plain": [
       "                 username  E_pred\n",
       "0           nikhilmalik__       0\n",
       "1       shivani_narayanan       0\n",
       "2  shamitashetty_official       0\n",
       "3         theshilpashetty       0\n",
       "4         im_raveena_daha       0\n",
       "5   srideviashok_official       0\n",
       "6            shrutzhaasan       0\n",
       "7         shrutisinhahaha       0\n",
       "8         rannvijaysingha       0\n",
       "9             randeepraii       0"
      ]
     },
     "execution_count": 58,
     "metadata": {},
     "output_type": "execute_result"
    }
   ],
   "source": [
    "# Predicting mind\n",
    "pred_mind_count = vect_mind.transform(test['lemma_no_stop'])\n",
    "\n",
    "pred_mind_count.shape\n",
    "\n",
    "X = X_count_mind\n",
    "y = mind_df['E']\n",
    "\n",
    "final_mind_model = mind_model\n",
    "final_mind_model.fit(X, y)\n",
    "\n",
    "final_mind_predictions = final_mind_model.predict(pred_mind_count)\n",
    "\n",
    "test['E_pred'] = final_mind_predictions\n",
    "\n",
    "test.head()\n",
    "\n",
    "pred_mind_df = test[['username', 'E_pred']]\n",
    "\n",
    "pred_mind_df.head(10)\n",
    "\n",
    "pred_mind_df.columns\n",
    "\n",
    "pred_mind_df['E_pred'].value_counts().plot(kind = 'bar',color = ['darkblue','dodgerblue'])\n",
    "\n",
    "#pred_mind_df\n",
    "\n",
    "plt.show()\n",
    "\n",
    "pred_mind_df.head(10)"
   ]
  }
 ],
 "metadata": {
  "interpreter": {
   "hash": "da310ddd9106c1158ceeb5935f084540406f49b91648600f05d04115e7fa6e43"
  },
  "kernelspec": {
   "display_name": "Python 3.9.7 64-bit",
   "language": "python",
   "name": "python3"
  },
  "language_info": {
   "codemirror_mode": {
    "name": "ipython",
    "version": 3
   },
   "file_extension": ".py",
   "mimetype": "text/x-python",
   "name": "python",
   "nbconvert_exporter": "python",
   "pygments_lexer": "ipython3",
   "version": "3.9.7"
  },
  "orig_nbformat": 4
 },
 "nbformat": 4,
 "nbformat_minor": 2
}
